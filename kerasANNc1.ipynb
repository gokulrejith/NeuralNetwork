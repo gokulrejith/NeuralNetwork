{
  "nbformat": 4,
  "nbformat_minor": 0,
  "metadata": {
    "colab": {
      "name": "kerasANNc1.ipynb",
      "provenance": [],
      "collapsed_sections": [],
      "mount_file_id": "1_sbPrrqP_Di27djkd4Svk6V2b_h0-yK-",
      "authorship_tag": "ABX9TyOzaqzHuXYTb8kjyGlyPJ+m",
      "include_colab_link": true
    },
    "kernelspec": {
      "name": "python3",
      "display_name": "Python 3"
    }
  },
  "cells": [
    {
      "cell_type": "markdown",
      "metadata": {
        "id": "view-in-github",
        "colab_type": "text"
      },
      "source": [
        "<a href=\"https://colab.research.google.com/github/gokulrejith/NeuralNetwork/blob/master/kerasANNc1.ipynb\" target=\"_parent\"><img src=\"https://colab.research.google.com/assets/colab-badge.svg\" alt=\"Open In Colab\"/></a>"
      ]
    },
    {
      "cell_type": "markdown",
      "metadata": {
        "id": "DEzrlK7oXePu",
        "colab_type": "text"
      },
      "source": [
        "#**Artificial Neural Network (ANN) - Keras**"
      ]
    },
    {
      "cell_type": "markdown",
      "metadata": {
        "id": "WLbOUJ5I_LhF",
        "colab_type": "text"
      },
      "source": [
        "Import Numerical python (Numpy) & Pandas for loading and manipulating data"
      ]
    },
    {
      "cell_type": "code",
      "metadata": {
        "id": "mY1czRi49oaS",
        "colab_type": "code",
        "colab": {}
      },
      "source": [
        "import numpy as np\n",
        "import pandas as pd"
      ],
      "execution_count": null,
      "outputs": []
    },
    {
      "cell_type": "markdown",
      "metadata": {
        "id": "ErYJgjy2B5Xa",
        "colab_type": "text"
      },
      "source": [
        "Load the dataset and show data stats"
      ]
    },
    {
      "cell_type": "code",
      "metadata": {
        "id": "uInOdM8W_rEJ",
        "colab_type": "code",
        "colab": {
          "base_uri": "https://localhost:8080/",
          "height": 487
        },
        "outputId": "8859c0d5-e025-4a74-ec9c-e6755e8d314b"
      },
      "source": [
        "dataset = pd.read_csv(\"/content/drive/My Drive/MobileData.csv\") \n",
        "dataset.info()"
      ],
      "execution_count": null,
      "outputs": [
        {
          "output_type": "stream",
          "text": [
            "<class 'pandas.core.frame.DataFrame'>\n",
            "RangeIndex: 2000 entries, 0 to 1999\n",
            "Data columns (total 21 columns):\n",
            " #   Column         Non-Null Count  Dtype  \n",
            "---  ------         --------------  -----  \n",
            " 0   battery_power  2000 non-null   int64  \n",
            " 1   blue           2000 non-null   int64  \n",
            " 2   clock_speed    2000 non-null   float64\n",
            " 3   dual_sim       2000 non-null   int64  \n",
            " 4   fc             2000 non-null   int64  \n",
            " 5   four_g         2000 non-null   int64  \n",
            " 6   int_memory     2000 non-null   int64  \n",
            " 7   m_dep          2000 non-null   float64\n",
            " 8   mobile_wt      2000 non-null   int64  \n",
            " 9   n_cores        2000 non-null   int64  \n",
            " 10  pc             2000 non-null   int64  \n",
            " 11  px_height      2000 non-null   int64  \n",
            " 12  px_width       2000 non-null   int64  \n",
            " 13  ram            2000 non-null   int64  \n",
            " 14  sc_h           2000 non-null   int64  \n",
            " 15  sc_w           2000 non-null   int64  \n",
            " 16  talk_time      2000 non-null   int64  \n",
            " 17  three_g        2000 non-null   int64  \n",
            " 18  touch_screen   2000 non-null   int64  \n",
            " 19  wifi           2000 non-null   int64  \n",
            " 20  price_range    2000 non-null   int64  \n",
            "dtypes: float64(2), int64(19)\n",
            "memory usage: 328.2 KB\n"
          ],
          "name": "stdout"
        }
      ]
    },
    {
      "cell_type": "code",
      "metadata": {
        "id": "OrOCyX6l_4Q-",
        "colab_type": "code",
        "colab": {
          "base_uri": "https://localhost:8080/",
          "height": 304
        },
        "outputId": "8bfd1da5-8a00-4f1d-f6d6-d11605f337a3"
      },
      "source": [
        "pd.set_option('display.max_columns', None) # To show all columns\n",
        "dataset.head(8)"
      ],
      "execution_count": null,
      "outputs": [
        {
          "output_type": "execute_result",
          "data": {
            "text/html": [
              "<div>\n",
              "<style scoped>\n",
              "    .dataframe tbody tr th:only-of-type {\n",
              "        vertical-align: middle;\n",
              "    }\n",
              "\n",
              "    .dataframe tbody tr th {\n",
              "        vertical-align: top;\n",
              "    }\n",
              "\n",
              "    .dataframe thead th {\n",
              "        text-align: right;\n",
              "    }\n",
              "</style>\n",
              "<table border=\"1\" class=\"dataframe\">\n",
              "  <thead>\n",
              "    <tr style=\"text-align: right;\">\n",
              "      <th></th>\n",
              "      <th>battery_power</th>\n",
              "      <th>blue</th>\n",
              "      <th>clock_speed</th>\n",
              "      <th>dual_sim</th>\n",
              "      <th>fc</th>\n",
              "      <th>four_g</th>\n",
              "      <th>int_memory</th>\n",
              "      <th>m_dep</th>\n",
              "      <th>mobile_wt</th>\n",
              "      <th>n_cores</th>\n",
              "      <th>pc</th>\n",
              "      <th>px_height</th>\n",
              "      <th>px_width</th>\n",
              "      <th>ram</th>\n",
              "      <th>sc_h</th>\n",
              "      <th>sc_w</th>\n",
              "      <th>talk_time</th>\n",
              "      <th>three_g</th>\n",
              "      <th>touch_screen</th>\n",
              "      <th>wifi</th>\n",
              "      <th>price_range</th>\n",
              "    </tr>\n",
              "  </thead>\n",
              "  <tbody>\n",
              "    <tr>\n",
              "      <th>0</th>\n",
              "      <td>842</td>\n",
              "      <td>0</td>\n",
              "      <td>2.2</td>\n",
              "      <td>0</td>\n",
              "      <td>1</td>\n",
              "      <td>0</td>\n",
              "      <td>7</td>\n",
              "      <td>0.6</td>\n",
              "      <td>188</td>\n",
              "      <td>2</td>\n",
              "      <td>2</td>\n",
              "      <td>20</td>\n",
              "      <td>756</td>\n",
              "      <td>2549</td>\n",
              "      <td>9</td>\n",
              "      <td>7</td>\n",
              "      <td>19</td>\n",
              "      <td>0</td>\n",
              "      <td>0</td>\n",
              "      <td>1</td>\n",
              "      <td>1</td>\n",
              "    </tr>\n",
              "    <tr>\n",
              "      <th>1</th>\n",
              "      <td>1021</td>\n",
              "      <td>1</td>\n",
              "      <td>0.5</td>\n",
              "      <td>1</td>\n",
              "      <td>0</td>\n",
              "      <td>1</td>\n",
              "      <td>53</td>\n",
              "      <td>0.7</td>\n",
              "      <td>136</td>\n",
              "      <td>3</td>\n",
              "      <td>6</td>\n",
              "      <td>905</td>\n",
              "      <td>1988</td>\n",
              "      <td>2631</td>\n",
              "      <td>17</td>\n",
              "      <td>3</td>\n",
              "      <td>7</td>\n",
              "      <td>1</td>\n",
              "      <td>1</td>\n",
              "      <td>0</td>\n",
              "      <td>2</td>\n",
              "    </tr>\n",
              "    <tr>\n",
              "      <th>2</th>\n",
              "      <td>563</td>\n",
              "      <td>1</td>\n",
              "      <td>0.5</td>\n",
              "      <td>1</td>\n",
              "      <td>2</td>\n",
              "      <td>1</td>\n",
              "      <td>41</td>\n",
              "      <td>0.9</td>\n",
              "      <td>145</td>\n",
              "      <td>5</td>\n",
              "      <td>6</td>\n",
              "      <td>1263</td>\n",
              "      <td>1716</td>\n",
              "      <td>2603</td>\n",
              "      <td>11</td>\n",
              "      <td>2</td>\n",
              "      <td>9</td>\n",
              "      <td>1</td>\n",
              "      <td>1</td>\n",
              "      <td>0</td>\n",
              "      <td>2</td>\n",
              "    </tr>\n",
              "    <tr>\n",
              "      <th>3</th>\n",
              "      <td>615</td>\n",
              "      <td>1</td>\n",
              "      <td>2.5</td>\n",
              "      <td>0</td>\n",
              "      <td>0</td>\n",
              "      <td>0</td>\n",
              "      <td>10</td>\n",
              "      <td>0.8</td>\n",
              "      <td>131</td>\n",
              "      <td>6</td>\n",
              "      <td>9</td>\n",
              "      <td>1216</td>\n",
              "      <td>1786</td>\n",
              "      <td>2769</td>\n",
              "      <td>16</td>\n",
              "      <td>8</td>\n",
              "      <td>11</td>\n",
              "      <td>1</td>\n",
              "      <td>0</td>\n",
              "      <td>0</td>\n",
              "      <td>2</td>\n",
              "    </tr>\n",
              "    <tr>\n",
              "      <th>4</th>\n",
              "      <td>1821</td>\n",
              "      <td>1</td>\n",
              "      <td>1.2</td>\n",
              "      <td>0</td>\n",
              "      <td>13</td>\n",
              "      <td>1</td>\n",
              "      <td>44</td>\n",
              "      <td>0.6</td>\n",
              "      <td>141</td>\n",
              "      <td>2</td>\n",
              "      <td>14</td>\n",
              "      <td>1208</td>\n",
              "      <td>1212</td>\n",
              "      <td>1411</td>\n",
              "      <td>8</td>\n",
              "      <td>2</td>\n",
              "      <td>15</td>\n",
              "      <td>1</td>\n",
              "      <td>1</td>\n",
              "      <td>0</td>\n",
              "      <td>1</td>\n",
              "    </tr>\n",
              "    <tr>\n",
              "      <th>5</th>\n",
              "      <td>1859</td>\n",
              "      <td>0</td>\n",
              "      <td>0.5</td>\n",
              "      <td>1</td>\n",
              "      <td>3</td>\n",
              "      <td>0</td>\n",
              "      <td>22</td>\n",
              "      <td>0.7</td>\n",
              "      <td>164</td>\n",
              "      <td>1</td>\n",
              "      <td>7</td>\n",
              "      <td>1004</td>\n",
              "      <td>1654</td>\n",
              "      <td>1067</td>\n",
              "      <td>17</td>\n",
              "      <td>1</td>\n",
              "      <td>10</td>\n",
              "      <td>1</td>\n",
              "      <td>0</td>\n",
              "      <td>0</td>\n",
              "      <td>1</td>\n",
              "    </tr>\n",
              "    <tr>\n",
              "      <th>6</th>\n",
              "      <td>1821</td>\n",
              "      <td>0</td>\n",
              "      <td>1.7</td>\n",
              "      <td>0</td>\n",
              "      <td>4</td>\n",
              "      <td>1</td>\n",
              "      <td>10</td>\n",
              "      <td>0.8</td>\n",
              "      <td>139</td>\n",
              "      <td>8</td>\n",
              "      <td>10</td>\n",
              "      <td>381</td>\n",
              "      <td>1018</td>\n",
              "      <td>3220</td>\n",
              "      <td>13</td>\n",
              "      <td>8</td>\n",
              "      <td>18</td>\n",
              "      <td>1</td>\n",
              "      <td>0</td>\n",
              "      <td>1</td>\n",
              "      <td>3</td>\n",
              "    </tr>\n",
              "    <tr>\n",
              "      <th>7</th>\n",
              "      <td>1954</td>\n",
              "      <td>0</td>\n",
              "      <td>0.5</td>\n",
              "      <td>1</td>\n",
              "      <td>0</td>\n",
              "      <td>0</td>\n",
              "      <td>24</td>\n",
              "      <td>0.8</td>\n",
              "      <td>187</td>\n",
              "      <td>4</td>\n",
              "      <td>0</td>\n",
              "      <td>512</td>\n",
              "      <td>1149</td>\n",
              "      <td>700</td>\n",
              "      <td>16</td>\n",
              "      <td>3</td>\n",
              "      <td>5</td>\n",
              "      <td>1</td>\n",
              "      <td>1</td>\n",
              "      <td>1</td>\n",
              "      <td>0</td>\n",
              "    </tr>\n",
              "  </tbody>\n",
              "</table>\n",
              "</div>"
            ],
            "text/plain": [
              "   battery_power  blue  clock_speed  dual_sim  fc  four_g  int_memory  m_dep  \\\n",
              "0            842     0          2.2         0   1       0           7    0.6   \n",
              "1           1021     1          0.5         1   0       1          53    0.7   \n",
              "2            563     1          0.5         1   2       1          41    0.9   \n",
              "3            615     1          2.5         0   0       0          10    0.8   \n",
              "4           1821     1          1.2         0  13       1          44    0.6   \n",
              "5           1859     0          0.5         1   3       0          22    0.7   \n",
              "6           1821     0          1.7         0   4       1          10    0.8   \n",
              "7           1954     0          0.5         1   0       0          24    0.8   \n",
              "\n",
              "   mobile_wt  n_cores  pc  px_height  px_width   ram  sc_h  sc_w  talk_time  \\\n",
              "0        188        2   2         20       756  2549     9     7         19   \n",
              "1        136        3   6        905      1988  2631    17     3          7   \n",
              "2        145        5   6       1263      1716  2603    11     2          9   \n",
              "3        131        6   9       1216      1786  2769    16     8         11   \n",
              "4        141        2  14       1208      1212  1411     8     2         15   \n",
              "5        164        1   7       1004      1654  1067    17     1         10   \n",
              "6        139        8  10        381      1018  3220    13     8         18   \n",
              "7        187        4   0        512      1149   700    16     3          5   \n",
              "\n",
              "   three_g  touch_screen  wifi  price_range  \n",
              "0        0             0     1            1  \n",
              "1        1             1     0            2  \n",
              "2        1             1     0            2  \n",
              "3        1             0     0            2  \n",
              "4        1             1     0            1  \n",
              "5        1             0     0            1  \n",
              "6        1             0     1            3  \n",
              "7        1             1     1            0  "
            ]
          },
          "metadata": {
            "tags": []
          },
          "execution_count": 3
        }
      ]
    },
    {
      "cell_type": "markdown",
      "metadata": {
        "id": "W9OgpNecDofK",
        "colab_type": "text"
      },
      "source": [
        "In the above dataset the aim is to predict the price range in which mobiles lie. So ***price_range*** is the target variable and all others are predictor variables. Prices are classified as 0,1,2,3 in this dataset.\n",
        "|| 0 (low cost)\n",
        "1 (medium cost)\n",
        "2 (high cost)\n",
        "3 (very high cost) ||\n",
        "So, this is a Multivariate classification problem."
      ]
    },
    {
      "cell_type": "markdown",
      "metadata": {
        "id": "otAi74FdHd47",
        "colab_type": "text"
      },
      "source": [
        "Changing pandas dataframe to numpy array and selecting columns (X contains features i.e. predictor variables and y contains the target variables)"
      ]
    },
    {
      "cell_type": "code",
      "metadata": {
        "id": "2KukNAnnEHmD",
        "colab_type": "code",
        "colab": {}
      },
      "source": [
        "X = dataset.iloc[:,:20].values\n",
        "y = dataset.iloc[:,20:21].values"
      ],
      "execution_count": null,
      "outputs": []
    },
    {
      "cell_type": "markdown",
      "metadata": {
        "id": "KLtSAl9CSVi5",
        "colab_type": "text"
      },
      "source": [
        "##Data Visualizaion & Preprocessing"
      ]
    },
    {
      "cell_type": "code",
      "metadata": {
        "id": "Qg-RaUtF-3uS",
        "colab_type": "code",
        "colab": {
          "base_uri": "https://localhost:8080/",
          "height": 346
        },
        "outputId": "84144f72-8aa6-4d68-a157-f2e25b4cba92"
      },
      "source": [
        "# visualize the relationship between the features and classes using scatterplots\n",
        "import seaborn as sns\n",
        "g = sns.pairplot(dataset, x_vars= list(dataset.columns), y_vars='price_range')\n",
        "g.fig.set_size_inches(17,4)"
      ],
      "execution_count": null,
      "outputs": [
        {
          "output_type": "stream",
          "text": [
            "/usr/local/lib/python3.6/dist-packages/statsmodels/tools/_testing.py:19: FutureWarning: pandas.util.testing is deprecated. Use the functions in the public API at pandas.testing instead.\n",
            "  import pandas.util.testing as tm\n"
          ],
          "name": "stderr"
        },
        {
          "output_type": "display_data",
          "data": {
            "image/png": "[encoded data removed]",
            "text/plain": [
              "<Figure size 1224x288 with 21 Axes>"
            ]
          },
          "metadata": {
            "tags": [],
            "needs_background": "light"
          }
        }
      ]
    },
    {
      "cell_type": "markdown",
      "metadata": {
        "id": "9o_PdZZCH5-A",
        "colab_type": "text"
      },
      "source": [
        "Checking and removing outliers (if any) —> By Z score method || Z score = (x -mean) / std. deviation || If the z score of a data point is more than 3, it indicates that the data point is quite different from the other data points. Such a data point can be an outlier.\n",
        "For example, in a survey, it was asked how many children a person had.\n",
        "Suppose the data obtained from people is:\n",
        "\n",
        "1, 2, 2, 2, 3, 1, 1, 15, 2, 2, 2, 3, 1, 1, 2\n",
        "\n",
        "![alt text](https://www.bmj.com/sites/default/files/attachments/resources/2011/08/fig-27.jpg)"
      ]
    },
    {
      "cell_type": "code",
      "metadata": {
        "id": "hSj8WtrjBW1y",
        "colab_type": "code",
        "colab": {
          "base_uri": "https://localhost:8080/",
          "height": 134
        },
        "outputId": "4e8f2425-b197-4157-84ae-3f1c34186ef8"
      },
      "source": [
        "from scipy import stats\n",
        "z = np.abs(stats.zscore(dataset))\n",
        "print(z)"
      ],
      "execution_count": null,
      "outputs": [
        {
          "output_type": "stream",
          "text": [
            "[[0.90259726 0.9900495  0.83077942 ... 1.00601811 0.98609664 0.4472136 ]\n",
            " [0.49513857 1.0100505  1.2530642  ... 0.99401789 1.01409939 0.4472136 ]\n",
            " [1.5376865  1.0100505  1.2530642  ... 0.99401789 1.01409939 0.4472136 ]\n",
            " ...\n",
            " [1.53077336 0.9900495  0.76274805 ... 0.99401789 1.01409939 1.34164079]\n",
            " [0.62252745 0.9900495  0.76274805 ... 0.99401789 0.98609664 1.34164079]\n",
            " [1.65833069 1.0100505  0.58562134 ... 0.99401789 0.98609664 1.34164079]]\n"
          ],
          "name": "stdout"
        }
      ]
    },
    {
      "cell_type": "code",
      "metadata": {
        "id": "_aqFeUJYBblA",
        "colab_type": "code",
        "colab": {
          "base_uri": "https://localhost:8080/",
          "height": 50
        },
        "outputId": "b7a5775e-5dc4-435d-e2b8-49235b4e7cb7"
      },
      "source": [
        "print(np.where(z > 3))"
      ],
      "execution_count": null,
      "outputs": [
        {
          "output_type": "stream",
          "text": [
            "(array([  95,  226,  305, 1387, 1406, 1416, 1554, 1693, 1705, 1880, 1882,\n",
            "       1888]), array([4, 4, 4, 4, 4, 4, 4, 4, 4, 4, 4, 4]))\n"
          ],
          "name": "stdout"
        }
      ]
    },
    {
      "cell_type": "code",
      "metadata": {
        "id": "5xsmboFFHOZT",
        "colab_type": "code",
        "colab": {}
      },
      "source": [
        "datasetNew = dataset[(z < 3).all(axis=1)]"
      ],
      "execution_count": null,
      "outputs": []
    },
    {
      "cell_type": "code",
      "metadata": {
        "id": "7mrg63fWHSof",
        "colab_type": "code",
        "colab": {
          "base_uri": "https://localhost:8080/",
          "height": 50
        },
        "outputId": "c15f55a5-283c-47dd-d16b-d71338c669d7"
      },
      "source": [
        "print(dataset.shape)\n",
        "print(datasetNew.shape)"
      ],
      "execution_count": null,
      "outputs": [
        {
          "output_type": "stream",
          "text": [
            "(2000, 21)\n",
            "(1988, 21)\n"
          ],
          "name": "stdout"
        }
      ]
    },
    {
      "cell_type": "code",
      "metadata": {
        "id": "oYgjGc7BIPhT",
        "colab_type": "code",
        "colab": {}
      },
      "source": [
        "X = datasetNew.iloc[:,:20].values #Redefining X & y\n",
        "y = datasetNew.iloc[:,20:21].values"
      ],
      "execution_count": null,
      "outputs": []
    },
    {
      "cell_type": "markdown",
      "metadata": {
        "id": "uMSn_3UMIPLM",
        "colab_type": "text"
      },
      "source": [
        "Checking whether all classes are balanced\n",
        "\n",
        "\n"
      ]
    },
    {
      "cell_type": "code",
      "metadata": {
        "id": "Bu2KC26VNIWk",
        "colab_type": "code",
        "colab": {
          "base_uri": "https://localhost:8080/",
          "height": 458
        },
        "outputId": "aff1d93c-d2d4-401d-ce2f-faba7ee0d76e"
      },
      "source": [
        "from matplotlib import pyplot as plt\n",
        "fig, ax = plt.subplots(figsize =(10, 7)) \n",
        "ax.hist(y) \n",
        "plt.xlabel(\"X-axis (Value)\") \n",
        "plt.ylabel(\"y-axis (Frequency)\")\n",
        "plt.title('Target variable') \n",
        "plt.show()"
      ],
      "execution_count": null,
      "outputs": [
        {
          "output_type": "display_data",
          "data": {
            "image/png": "[encoded data removed]",
            "text/plain": [
              "<Figure size 720x504 with 1 Axes>"
            ]
          },
          "metadata": {
            "tags": [],
            "needs_background": "light"
          }
        }
      ]
    },
    {
      "cell_type": "markdown",
      "metadata": {
        "id": "yl9-s52nPGZ7",
        "colab_type": "text"
      },
      "source": [
        "Checking whether predictor variables (X) needs to be **standardized**"
      ]
    },
    {
      "cell_type": "code",
      "metadata": {
        "id": "dvqnJQAzMLuC",
        "colab_type": "code",
        "colab": {
          "base_uri": "https://localhost:8080/",
          "height": 458
        },
        "outputId": "fb2435dc-9877-4678-aabf-cebd17ad620b"
      },
      "source": [
        "fig, ax = plt.subplots(figsize =(10, 7)) \n",
        "ax.hist(X , bins = 5) \n",
        "plt.xlabel(\"X-axis (Value)\") \n",
        "plt.ylabel(\"y-axis (Frequency)\")\n",
        "plt.title('Preditor variables') \n",
        "plt.show()"
      ],
      "execution_count": null,
      "outputs": [
        {
          "output_type": "display_data",
          "data": {
            "image/png": "[encoded data removed]",
            "text/plain": [
              "<Figure size 720x504 with 1 Axes>"
            ]
          },
          "metadata": {
            "tags": [],
            "needs_background": "light"
          }
        }
      ]
    },
    {
      "cell_type": "markdown",
      "metadata": {
        "id": "kPPOMaKHPchq",
        "colab_type": "text"
      },
      "source": [
        "From the histogram we can see that the values lie in various ranges. So we need to bring all the values into a particular range without distorting the differences in the range of values. Standardization can also improve accuracy. Also algorithms like gradient descent can converge much faster if standardization is done.\n"
      ]
    },
    {
      "cell_type": "code",
      "metadata": {
        "id": "kFhGgXZ9HqnU",
        "colab_type": "code",
        "colab": {}
      },
      "source": [
        "from sklearn.preprocessing import StandardScaler\n",
        "sc = StandardScaler()\n",
        "X = sc.fit_transform(X)"
      ],
      "execution_count": null,
      "outputs": []
    },
    {
      "cell_type": "code",
      "metadata": {
        "id": "IyAQXfPMMfNV",
        "colab_type": "code",
        "colab": {
          "base_uri": "https://localhost:8080/",
          "height": 458
        },
        "outputId": "e76ef7a0-83fe-4afc-f09b-762cc9982319"
      },
      "source": [
        "fig, ax = plt.subplots(figsize =(10, 7)) \n",
        "ax.hist(X, bins = 5) \n",
        "plt.xlabel(\"X-axis (Value)\") \n",
        "plt.ylabel(\"y-axis (Frequency)\")\n",
        "plt.title('Predictor variables') \n",
        "plt.show()"
      ],
      "execution_count": null,
      "outputs": [
        {
          "output_type": "display_data",
          "data": {
            "image/png": "[encoded data removed]",
            "text/plain": [
              "<Figure size 720x504 with 1 Axes>"
            ]
          },
          "metadata": {
            "tags": [],
            "needs_background": "light"
          }
        }
      ]
    },
    {
      "cell_type": "markdown",
      "metadata": {
        "id": "sNcEdpwnQ_eq",
        "colab_type": "text"
      },
      "source": [
        "**One Hot Encoding** - It is a process to convert integer classes into binary values. Our dataset has 4 classes in 0, 1, 2, 3. Now we cannot directly feed this to neural network so we convert it in the form of binary.\n",
        "We can do this using a function in sklearn:"
      ]
    },
    {
      "cell_type": "code",
      "metadata": {
        "id": "5Y-q3d26Q9HB",
        "colab_type": "code",
        "colab": {
          "base_uri": "https://localhost:8080/",
          "height": 168
        },
        "outputId": "6fcda048-5c63-4ab3-ed2d-8fdce51cfdb6"
      },
      "source": [
        "print(y) #Initial Values (Before OHE)\n",
        "print(type(y))\n",
        "print(y.shape)"
      ],
      "execution_count": null,
      "outputs": [
        {
          "output_type": "stream",
          "text": [
            "[[1]\n",
            " [2]\n",
            " [2]\n",
            " ...\n",
            " [3]\n",
            " [0]\n",
            " [3]]\n",
            "<class 'numpy.ndarray'>\n",
            "(1988, 1)\n"
          ],
          "name": "stdout"
        }
      ]
    },
    {
      "cell_type": "code",
      "metadata": {
        "id": "YwCQvZCPQ_4a",
        "colab_type": "code",
        "colab": {
          "base_uri": "https://localhost:8080/",
          "height": 168
        },
        "outputId": "3451a7b0-4412-4cdf-aab5-63794d48bbee"
      },
      "source": [
        "from sklearn.preprocessing import OneHotEncoder\n",
        "ohe = OneHotEncoder()\n",
        "y = ohe.fit_transform(y).toarray()\n",
        "print(y) #After One Hot Encoding\n",
        "print(type(y))\n",
        "print(y.shape)"
      ],
      "execution_count": null,
      "outputs": [
        {
          "output_type": "stream",
          "text": [
            "[[0. 1. 0. 0.]\n",
            " [0. 0. 1. 0.]\n",
            " [0. 0. 1. 0.]\n",
            " ...\n",
            " [0. 0. 0. 1.]\n",
            " [1. 0. 0. 0.]\n",
            " [0. 0. 0. 1.]]\n",
            "<class 'numpy.ndarray'>\n",
            "(1988, 4)\n"
          ],
          "name": "stdout"
        }
      ]
    },
    {
      "cell_type": "markdown",
      "metadata": {
        "id": "wijgcISOSBBL",
        "colab_type": "text"
      },
      "source": [
        "Now there is one unique binary value for the class. The new array formed will be of shape (n, number of classes), where n is the number of samples in our dataset."
      ]
    },
    {
      "cell_type": "markdown",
      "metadata": {
        "id": "zVs_2b3FSuUD",
        "colab_type": "text"
      },
      "source": [
        "Splitting data into test and train in the ratio of 1:9"
      ]
    },
    {
      "cell_type": "code",
      "metadata": {
        "id": "CaHmlVJ4SKuU",
        "colab_type": "code",
        "colab": {}
      },
      "source": [
        "from sklearn.model_selection import train_test_split\n",
        "X_train,X_test,y_train,y_test = train_test_split(X,y,test_size = 0.1)"
      ],
      "execution_count": null,
      "outputs": []
    },
    {
      "cell_type": "markdown",
      "metadata": {
        "id": "poB-iMmOS7tL",
        "colab_type": "text"
      },
      "source": [
        "Defining the Model and training"
      ]
    },
    {
      "cell_type": "markdown",
      "metadata": {
        "id": "Xlp32ctoTChZ",
        "colab_type": "text"
      },
      "source": [
        "In our dataset, the input is of 20 values and output is of 4 values. So the input and output layer is of 20 and 4 dimensions respectively."
      ]
    },
    {
      "cell_type": "code",
      "metadata": {
        "id": "wWvcx4LOS888",
        "colab_type": "code",
        "colab": {
          "base_uri": "https://localhost:8080/",
          "height": 34
        },
        "outputId": "ae4ae8ee-9cc3-4ef4-e4f2-db7ed504d612"
      },
      "source": [
        "#import os\n",
        "#os.environ[\"KERAS_BACKEND\"] = \"theano\"\n",
        "import keras\n",
        "#import keras.backend\n",
        "from keras.models import Sequential\n",
        "from keras.layers import Dense\n",
        "#if keras.backend.backend() != 'theano':\n",
        "#    print(\"Using TensorFlow backend.\")\n",
        "#else:\n",
        "#    print(\"Using Theano backend.\")"
      ],
      "execution_count": null,
      "outputs": [
        {
          "output_type": "stream",
          "text": [
            "Using TensorFlow backend.\n"
          ],
          "name": "stderr"
        }
      ]
    },
    {
      "cell_type": "markdown",
      "metadata": {
        "id": "tPwfcfBbTnq7",
        "colab_type": "text"
      },
      "source": [
        "**2 hidden layers of dimensions 12**\n",
        "\n",
        " A Deep Neural Network (DNN) commonly has between 2-8 layers of neurons.\n",
        "\n"
      ]
    },
    {
      "cell_type": "code",
      "metadata": {
        "colab_type": "code",
        "id": "ObV9OqraXZ20",
        "colab": {}
      },
      "source": [
        "model = Sequential()\n",
        "model.add(Dense(12, input_dim=20, activation='relu'))\n",
        "#model.add(Dense(16, activation='relu'))\n",
        "model.add(Dense(12, activation='relu'))\n",
        "model.add(Dense(4, activation='softmax'))"
      ],
      "execution_count": null,
      "outputs": []
    },
    {
      "cell_type": "markdown",
      "metadata": {
        "id": "93fz7RsrcA0g",
        "colab_type": "text"
      },
      "source": [
        "![Meet Softmax](https://miro.medium.com/max/875/1*ReYpdIZ3ZSAPb2W8cJpkBg.jpeg)"
      ]
    },
    {
      "cell_type": "code",
      "metadata": {
        "id": "nrf2_yg0X3wU",
        "colab_type": "code",
        "colab": {
          "base_uri": "https://localhost:8080/",
          "height": 336
        },
        "outputId": "628a7d39-a686-4f61-8171-d023fb10d1e3"
      },
      "source": [
        "!pip install ann_visualizer\n",
        "!pip install graphviz\n",
        "from ann_visualizer.visualize import ann_viz\n",
        "ann_viz(model, view = True, filename=\"network.gv\", title=\"Shape of your Neural Network\")\n",
        "print(\"\\033[1m \\033[92m Model graphed. Click on the Navigation menu & download \\n(For mobile users click on File Browser in the Navigation)\\n \\033[31m'network.gv.pdf' \\033[92mto visualize how our Neural Network looks like.\")\n",
        "model.summary()"
      ],
      "execution_count": null,
      "outputs": [
        {
          "output_type": "stream",
          "text": [
            "Requirement already satisfied: ann_visualizer in /usr/local/lib/python3.6/dist-packages (2.5)\n",
            "Requirement already satisfied: graphviz in /usr/local/lib/python3.6/dist-packages (0.10.1)\n",
            "\u001b[1m \u001b[92m Model graphed. Click on the Navigation menu & download \n",
            "(For mobile users click on File Browser in the Navigation)\n",
            " \u001b[31m'network.gv.pdf' \u001b[92mto visualize how our Neural Network looks like.\n",
            "Model: \"sequential_2\"\n",
            "_________________________________________________________________\n",
            "Layer (type)                 Output Shape              Param #   \n",
            "=================================================================\n",
            "dense_5 (Dense)              (None, 12)                252       \n",
            "_________________________________________________________________\n",
            "dense_6 (Dense)              (None, 12)                156       \n",
            "_________________________________________________________________\n",
            "dense_7 (Dense)              (None, 4)                 52        \n",
            "=================================================================\n",
            "Total params: 460\n",
            "Trainable params: 460\n",
            "Non-trainable params: 0\n",
            "_________________________________________________________________\n"
          ],
          "name": "stdout"
        }
      ]
    },
    {
      "cell_type": "code",
      "metadata": {
        "id": "gthflSj2TJCW",
        "colab_type": "code",
        "colab": {}
      },
      "source": [
        "model.compile(loss='categorical_crossentropy', optimizer='adam', metrics=['accuracy'])"
      ],
      "execution_count": null,
      "outputs": []
    },
    {
      "cell_type": "markdown",
      "metadata": {
        "id": "9HYc3u2vDoF9",
        "colab_type": "text"
      },
      "source": [
        "**Initial weights (Set Randomly)**"
      ]
    },
    {
      "cell_type": "code",
      "metadata": {
        "id": "LJKcSgK_DOzu",
        "colab_type": "code",
        "colab": {
          "base_uri": "https://localhost:8080/",
          "height": 1000
        },
        "outputId": "b9508345-8c4a-48bb-e219-16643477863f"
      },
      "source": [
        "for layer in model.layers: \n",
        "  print(layer.get_config(), layer.get_weights())"
      ],
      "execution_count": null,
      "outputs": [
        {
          "output_type": "stream",
          "text": [
            "{'name': 'dense_5', 'trainable': True, 'batch_input_shape': (None, 20), 'dtype': 'float32', 'units': 12, 'activation': 'relu', 'use_bias': True, 'kernel_initializer': {'class_name': 'VarianceScaling', 'config': {'scale': 1.0, 'mode': 'fan_avg', 'distribution': 'uniform', 'seed': None}}, 'bias_initializer': {'class_name': 'Zeros', 'config': {}}, 'kernel_regularizer': None, 'bias_regularizer': None, 'activity_regularizer': None, 'kernel_constraint': None, 'bias_constraint': None} [array([[ 0.03152937, -0.30365688, -0.28019652,  0.4217852 , -0.3937523 ,\n",
            "         0.02583012, -0.10122699,  0.40779355,  0.21944234,  0.23239234,\n",
            "         0.3458921 , -0.2649508 ],\n",
            "       [-0.2427555 , -0.40098882, -0.374796  ,  0.01679203, -0.31059554,\n",
            "        -0.05012766,  0.3124008 ,  0.07903954,  0.04319924,  0.07985553,\n",
            "         0.06895718, -0.05695769],\n",
            "       [ 0.40941778, -0.04589012, -0.39698428,  0.37411854, -0.29831782,\n",
            "        -0.29479596,  0.18641743, -0.00654799, -0.23179139, -0.21876664,\n",
            "         0.0326775 , -0.23386483],\n",
            "       [-0.41419733,  0.4089363 ,  0.19828561,  0.12335828,  0.36681727,\n",
            "         0.11825684, -0.2825013 ,  0.05169594, -0.3558066 ,  0.4265693 ,\n",
            "         0.15784231,  0.26615056],\n",
            "       [ 0.03781474,  0.15633753,  0.4117426 ,  0.07194862,  0.39245346,\n",
            "        -0.06501749,  0.34689775,  0.12684068,  0.35899428,  0.3816441 ,\n",
            "         0.1482546 , -0.19640864],\n",
            "       [ 0.34522328, -0.27517676, -0.1033287 ,  0.30402794,  0.07016805,\n",
            "         0.34658834, -0.39941648, -0.16483352, -0.12553164,  0.11712083,\n",
            "        -0.16703725, -0.12651676],\n",
            "       [ 0.36286756, -0.15900171,  0.39672354, -0.4136133 , -0.29515564,\n",
            "         0.31992003, -0.2858045 ,  0.42468187,  0.37989208,  0.09618399,\n",
            "         0.04493362,  0.3756437 ],\n",
            "       [ 0.31183502,  0.063685  , -0.14558825, -0.0381391 ,  0.34015176,\n",
            "        -0.18267992,  0.0764654 , -0.43069717,  0.02984628, -0.26926523,\n",
            "        -0.16462353,  0.19543359],\n",
            "       [ 0.06443462, -0.35082936, -0.12144113,  0.10027483, -0.05132347,\n",
            "        -0.13318306, -0.36461043, -0.04995856, -0.35457546, -0.01065049,\n",
            "        -0.00566354, -0.10703683],\n",
            "       [ 0.41361043,  0.02354535, -0.1936244 , -0.07154042, -0.0158703 ,\n",
            "        -0.1774121 , -0.17552468,  0.14413324,  0.37090215, -0.22215265,\n",
            "         0.36457142,  0.19058582],\n",
            "       [ 0.06867573, -0.23053633,  0.2099097 ,  0.21194342,  0.2982463 ,\n",
            "        -0.38012445,  0.25427958, -0.30763435, -0.05506358, -0.20815034,\n",
            "        -0.3295249 , -0.0848377 ],\n",
            "       [ 0.23539844,  0.11798999, -0.41720226, -0.25252926,  0.42404976,\n",
            "         0.16598669,  0.13869926, -0.15898961, -0.3026983 ,  0.14981988,\n",
            "         0.12686798, -0.32523018],\n",
            "       [ 0.41234758, -0.12823081, -0.35552275,  0.3272623 , -0.06228003,\n",
            "         0.21642026,  0.11519596, -0.19471605, -0.02875423, -0.09870437,\n",
            "         0.12003121, -0.11682463],\n",
            "       [ 0.24576202,  0.416804  ,  0.31405   ,  0.23749325,  0.02758217,\n",
            "         0.27335593, -0.13086689,  0.36939457, -0.17711714,  0.29406688,\n",
            "         0.08492681, -0.0523324 ],\n",
            "       [-0.25843614,  0.3382791 , -0.07103434, -0.18440017, -0.03244221,\n",
            "        -0.19240001, -0.27522922,  0.36252388, -0.05464691,  0.16777739,\n",
            "         0.3109062 , -0.13689631],\n",
            "       [-0.09293395,  0.1263592 , -0.38066643,  0.39446333,  0.23757902,\n",
            "        -0.10603935, -0.24562316,  0.26776144, -0.40988287,  0.02968359,\n",
            "        -0.3427239 ,  0.08502486],\n",
            "       [ 0.04244271,  0.38498345,  0.12356415, -0.05128661,  0.2011663 ,\n",
            "         0.16503182,  0.12488177, -0.18103811, -0.19007012, -0.21412547,\n",
            "         0.21768996,  0.00111714],\n",
            "       [-0.05546457, -0.21061692, -0.11566269, -0.26678762,  0.17599687,\n",
            "         0.10085014, -0.11679995, -0.09771699, -0.37233853,  0.03956917,\n",
            "         0.11166129,  0.18896714],\n",
            "       [-0.09803218, -0.16287604,  0.0709115 ,  0.026528  ,  0.430625  ,\n",
            "         0.07645556, -0.18386064, -0.10859531,  0.20798889, -0.19145362,\n",
            "        -0.23688011, -0.20983076],\n",
            "       [ 0.09559295,  0.14635625, -0.1100201 ,  0.41893294,  0.06142625,\n",
            "        -0.24541627, -0.2802921 ,  0.16591069,  0.23725984,  0.2591777 ,\n",
            "         0.3681638 ,  0.13140228]], dtype=float32), array([0., 0., 0., 0., 0., 0., 0., 0., 0., 0., 0., 0.], dtype=float32)]\n",
            "{'name': 'dense_6', 'trainable': True, 'dtype': 'float32', 'units': 12, 'activation': 'relu', 'use_bias': True, 'kernel_initializer': {'class_name': 'VarianceScaling', 'config': {'scale': 1.0, 'mode': 'fan_avg', 'distribution': 'uniform', 'seed': None}}, 'bias_initializer': {'class_name': 'Zeros', 'config': {}}, 'kernel_regularizer': None, 'bias_regularizer': None, 'activity_regularizer': None, 'kernel_constraint': None, 'bias_constraint': None} [array([[-0.16242385,  0.4899528 , -0.35905397, -0.15243733, -0.31383097,\n",
            "        -0.24002814,  0.30486703,  0.2973485 ,  0.22625089,  0.13881934,\n",
            "        -0.49082243, -0.16215527],\n",
            "       [-0.08626294,  0.24536514,  0.47660446,  0.24917173,  0.06259727,\n",
            "         0.34674108, -0.08266342, -0.3240757 , -0.32456422, -0.2523011 ,\n",
            "        -0.14907742,  0.13743138],\n",
            "       [-0.35050166,  0.39484262, -0.43367958,  0.3739133 ,  0.3696562 ,\n",
            "         0.12546992, -0.06840611,  0.33836174, -0.28766024,  0.2637087 ,\n",
            "        -0.36450362,  0.3894924 ],\n",
            "       [ 0.27003944, -0.41762292, -0.0275737 ,  0.35734034, -0.4589951 ,\n",
            "         0.12757373, -0.14443874,  0.22426999,  0.23851979,  0.457469  ,\n",
            "         0.45007873, -0.3941611 ],\n",
            "       [ 0.39926922,  0.27353132, -0.3029157 ,  0.49276137, -0.38997233,\n",
            "         0.36691082, -0.21920264, -0.37044668, -0.27259088, -0.13674593,\n",
            "         0.19546163,  0.46515405],\n",
            "       [-0.44332802, -0.4998963 ,  0.09584391,  0.21234751, -0.11896932,\n",
            "        -0.3278023 ,  0.06769133,  0.03773868, -0.00055957, -0.48465955,\n",
            "        -0.11506164, -0.3064562 ],\n",
            "       [-0.28685367,  0.08921504,  0.07372046, -0.27642632, -0.2890414 ,\n",
            "         0.08125854, -0.04993391,  0.34721065,  0.19550586,  0.3039775 ,\n",
            "        -0.01923251,  0.06581831],\n",
            "       [ 0.00178921,  0.12692678, -0.49830282,  0.28221738, -0.2288971 ,\n",
            "        -0.00329816,  0.25456142,  0.44896603,  0.0136286 ,  0.02072501,\n",
            "        -0.35304046, -0.24397159],\n",
            "       [ 0.43478227,  0.19123173,  0.03259861, -0.48717415, -0.17444038,\n",
            "         0.12852573,  0.30706036, -0.03350413, -0.4680177 ,  0.00168872,\n",
            "         0.47054517, -0.24956107],\n",
            "       [-0.4734671 ,  0.49549472,  0.3937168 , -0.02742624,  0.27252734,\n",
            "        -0.14758289, -0.49439502, -0.13140988, -0.27475965,  0.15686071,\n",
            "        -0.13033223, -0.37946665],\n",
            "       [ 0.2603681 ,  0.12535906, -0.11359966,  0.21785295, -0.09384787,\n",
            "        -0.14257884,  0.03313911, -0.4031651 , -0.08058953, -0.32744074,\n",
            "        -0.20422232, -0.1954689 ],\n",
            "       [ 0.21413958,  0.23098946, -0.24292576,  0.0786587 ,  0.20469928,\n",
            "        -0.00190294, -0.42921567,  0.25885653,  0.22713959,  0.32934582,\n",
            "        -0.48534763, -0.10225153]], dtype=float32), array([0., 0., 0., 0., 0., 0., 0., 0., 0., 0., 0., 0.], dtype=float32)]\n",
            "{'name': 'dense_7', 'trainable': True, 'dtype': 'float32', 'units': 4, 'activation': 'softmax', 'use_bias': True, 'kernel_initializer': {'class_name': 'VarianceScaling', 'config': {'scale': 1.0, 'mode': 'fan_avg', 'distribution': 'uniform', 'seed': None}}, 'bias_initializer': {'class_name': 'Zeros', 'config': {}}, 'kernel_regularizer': None, 'bias_regularizer': None, 'activity_regularizer': None, 'kernel_constraint': None, 'bias_constraint': None} [array([[-0.40820336, -0.30630654,  0.04993892, -0.17079896],\n",
            "       [-0.4427678 , -0.5237122 ,  0.514183  ,  0.107934  ],\n",
            "       [ 0.21050638,  0.51863366,  0.1297378 ,  0.30937326],\n",
            "       [ 0.4144892 , -0.3014618 ,  0.2702735 , -0.50591046],\n",
            "       [ 0.10671312, -0.26559213, -0.13218796,  0.12190145],\n",
            "       [-0.38720554,  0.40814787,  0.43171257, -0.47096205],\n",
            "       [-0.57184345,  0.03958219, -0.0529204 ,  0.3593418 ],\n",
            "       [-0.21857646,  0.05284142,  0.36384243,  0.55541795],\n",
            "       [ 0.6112303 ,  0.5762822 , -0.3165961 ,  0.40118068],\n",
            "       [-0.41100806, -0.19879448,  0.5688452 , -0.3911668 ],\n",
            "       [-0.33821973, -0.23859376, -0.22346747,  0.21765023],\n",
            "       [ 0.11995995, -0.38823193, -0.33155507, -0.467278  ]],\n",
            "      dtype=float32), array([0., 0., 0., 0.], dtype=float32)]\n"
          ],
          "name": "stdout"
        }
      ]
    },
    {
      "cell_type": "code",
      "metadata": {
        "id": "-EajnF65N8Ui",
        "colab_type": "code",
        "colab": {
          "base_uri": "https://localhost:8080/",
          "height": 1000
        },
        "outputId": "c7e9340d-b17f-4003-94cc-f097b3f5000e"
      },
      "source": [
        "history = model.fit(X_train, y_train,validation_data = (X_test,y_test), epochs=320, batch_size=64)"
      ],
      "execution_count": null,
      "outputs": [
        {
          "output_type": "stream",
          "text": [
            "Train on 1789 samples, validate on 199 samples\n",
            "Epoch 1/320\n",
            "1789/1789 [==============================] - 0s 70us/step - loss: 1.6480 - accuracy: 0.2482 - val_loss: 1.6270 - val_accuracy: 0.2261\n",
            "Epoch 2/320\n",
            "1789/1789 [==============================] - 0s 20us/step - loss: 1.4736 - accuracy: 0.2610 - val_loss: 1.4792 - val_accuracy: 0.2714\n",
            "Epoch 3/320\n",
            "1789/1789 [==============================] - 0s 21us/step - loss: 1.3900 - accuracy: 0.2862 - val_loss: 1.4047 - val_accuracy: 0.3367\n",
            "Epoch 4/320\n",
            "1789/1789 [==============================] - 0s 21us/step - loss: 1.3377 - accuracy: 0.3287 - val_loss: 1.3505 - val_accuracy: 0.3518\n",
            "Epoch 5/320\n",
            "1789/1789 [==============================] - 0s 21us/step - loss: 1.2947 - accuracy: 0.3594 - val_loss: 1.3009 - val_accuracy: 0.3568\n",
            "Epoch 6/320\n",
            "1789/1789 [==============================] - 0s 21us/step - loss: 1.2535 - accuracy: 0.3963 - val_loss: 1.2509 - val_accuracy: 0.4020\n",
            "Epoch 7/320\n",
            "1789/1789 [==============================] - 0s 22us/step - loss: 1.2104 - accuracy: 0.4427 - val_loss: 1.2042 - val_accuracy: 0.4422\n",
            "Epoch 8/320\n",
            "1789/1789 [==============================] - 0s 20us/step - loss: 1.1646 - accuracy: 0.4925 - val_loss: 1.1516 - val_accuracy: 0.4673\n",
            "Epoch 9/320\n",
            "1789/1789 [==============================] - 0s 21us/step - loss: 1.1135 - accuracy: 0.5260 - val_loss: 1.0917 - val_accuracy: 0.5126\n",
            "Epoch 10/320\n",
            "1789/1789 [==============================] - 0s 21us/step - loss: 1.0556 - accuracy: 0.5467 - val_loss: 1.0272 - val_accuracy: 0.5628\n",
            "Epoch 11/320\n",
            "1789/1789 [==============================] - 0s 21us/step - loss: 0.9926 - accuracy: 0.5836 - val_loss: 0.9524 - val_accuracy: 0.6181\n",
            "Epoch 12/320\n",
            "1789/1789 [==============================] - 0s 20us/step - loss: 0.9282 - accuracy: 0.6065 - val_loss: 0.8840 - val_accuracy: 0.6332\n",
            "Epoch 13/320\n",
            "1789/1789 [==============================] - 0s 21us/step - loss: 0.8662 - accuracy: 0.6283 - val_loss: 0.8239 - val_accuracy: 0.6583\n",
            "Epoch 14/320\n",
            "1789/1789 [==============================] - 0s 21us/step - loss: 0.8087 - accuracy: 0.6462 - val_loss: 0.7643 - val_accuracy: 0.6935\n",
            "Epoch 15/320\n",
            "1789/1789 [==============================] - 0s 21us/step - loss: 0.7568 - accuracy: 0.6780 - val_loss: 0.7191 - val_accuracy: 0.6935\n",
            "Epoch 16/320\n",
            "1789/1789 [==============================] - 0s 21us/step - loss: 0.7091 - accuracy: 0.7004 - val_loss: 0.6759 - val_accuracy: 0.6985\n",
            "Epoch 17/320\n",
            "1789/1789 [==============================] - 0s 22us/step - loss: 0.6670 - accuracy: 0.7255 - val_loss: 0.6387 - val_accuracy: 0.7236\n",
            "Epoch 18/320\n",
            "1789/1789 [==============================] - 0s 20us/step - loss: 0.6283 - accuracy: 0.7524 - val_loss: 0.6046 - val_accuracy: 0.7487\n",
            "Epoch 19/320\n",
            "1789/1789 [==============================] - 0s 20us/step - loss: 0.5927 - accuracy: 0.7658 - val_loss: 0.5734 - val_accuracy: 0.7538\n",
            "Epoch 20/320\n",
            "1789/1789 [==============================] - 0s 21us/step - loss: 0.5597 - accuracy: 0.7932 - val_loss: 0.5451 - val_accuracy: 0.7990\n",
            "Epoch 21/320\n",
            "1789/1789 [==============================] - 0s 21us/step - loss: 0.5286 - accuracy: 0.8072 - val_loss: 0.5161 - val_accuracy: 0.8090\n",
            "Epoch 22/320\n",
            "1789/1789 [==============================] - 0s 23us/step - loss: 0.5011 - accuracy: 0.8256 - val_loss: 0.4940 - val_accuracy: 0.8291\n",
            "Epoch 23/320\n",
            "1789/1789 [==============================] - 0s 22us/step - loss: 0.4730 - accuracy: 0.8401 - val_loss: 0.4732 - val_accuracy: 0.8291\n",
            "Epoch 24/320\n",
            "1789/1789 [==============================] - 0s 21us/step - loss: 0.4476 - accuracy: 0.8530 - val_loss: 0.4524 - val_accuracy: 0.8492\n",
            "Epoch 25/320\n",
            "1789/1789 [==============================] - 0s 22us/step - loss: 0.4232 - accuracy: 0.8631 - val_loss: 0.4316 - val_accuracy: 0.8693\n",
            "Epoch 26/320\n",
            "1789/1789 [==============================] - 0s 20us/step - loss: 0.4014 - accuracy: 0.8748 - val_loss: 0.4104 - val_accuracy: 0.8794\n",
            "Epoch 27/320\n",
            "1789/1789 [==============================] - 0s 22us/step - loss: 0.3794 - accuracy: 0.8809 - val_loss: 0.3910 - val_accuracy: 0.8794\n",
            "Epoch 28/320\n",
            "1789/1789 [==============================] - 0s 22us/step - loss: 0.3601 - accuracy: 0.8955 - val_loss: 0.3750 - val_accuracy: 0.8945\n",
            "Epoch 29/320\n",
            "1789/1789 [==============================] - 0s 23us/step - loss: 0.3416 - accuracy: 0.8966 - val_loss: 0.3624 - val_accuracy: 0.8844\n",
            "Epoch 30/320\n",
            "1789/1789 [==============================] - 0s 22us/step - loss: 0.3246 - accuracy: 0.9061 - val_loss: 0.3425 - val_accuracy: 0.8894\n",
            "Epoch 31/320\n",
            "1789/1789 [==============================] - 0s 21us/step - loss: 0.3095 - accuracy: 0.9100 - val_loss: 0.3301 - val_accuracy: 0.8844\n",
            "Epoch 32/320\n",
            "1789/1789 [==============================] - 0s 22us/step - loss: 0.2955 - accuracy: 0.9128 - val_loss: 0.3235 - val_accuracy: 0.8945\n",
            "Epoch 33/320\n",
            "1789/1789 [==============================] - 0s 24us/step - loss: 0.2826 - accuracy: 0.9201 - val_loss: 0.3159 - val_accuracy: 0.8945\n",
            "Epoch 34/320\n",
            "1789/1789 [==============================] - 0s 23us/step - loss: 0.2701 - accuracy: 0.9201 - val_loss: 0.2950 - val_accuracy: 0.9045\n",
            "Epoch 35/320\n",
            "1789/1789 [==============================] - 0s 22us/step - loss: 0.2591 - accuracy: 0.9251 - val_loss: 0.2964 - val_accuracy: 0.8945\n",
            "Epoch 36/320\n",
            "1789/1789 [==============================] - 0s 21us/step - loss: 0.2490 - accuracy: 0.9285 - val_loss: 0.2811 - val_accuracy: 0.9095\n",
            "Epoch 37/320\n",
            "1789/1789 [==============================] - 0s 20us/step - loss: 0.2414 - accuracy: 0.9307 - val_loss: 0.2729 - val_accuracy: 0.8995\n",
            "Epoch 38/320\n",
            "1789/1789 [==============================] - 0s 20us/step - loss: 0.2305 - accuracy: 0.9357 - val_loss: 0.2639 - val_accuracy: 0.9045\n",
            "Epoch 39/320\n",
            "1789/1789 [==============================] - 0s 22us/step - loss: 0.2222 - accuracy: 0.9357 - val_loss: 0.2596 - val_accuracy: 0.9045\n",
            "Epoch 40/320\n",
            "1789/1789 [==============================] - 0s 21us/step - loss: 0.2145 - accuracy: 0.9396 - val_loss: 0.2574 - val_accuracy: 0.8945\n",
            "Epoch 41/320\n",
            "1789/1789 [==============================] - 0s 21us/step - loss: 0.2082 - accuracy: 0.9396 - val_loss: 0.2499 - val_accuracy: 0.9045\n",
            "Epoch 42/320\n",
            "1789/1789 [==============================] - 0s 22us/step - loss: 0.2011 - accuracy: 0.9407 - val_loss: 0.2411 - val_accuracy: 0.9045\n",
            "Epoch 43/320\n",
            "1789/1789 [==============================] - 0s 19us/step - loss: 0.1959 - accuracy: 0.9413 - val_loss: 0.2457 - val_accuracy: 0.8945\n",
            "Epoch 44/320\n",
            "1789/1789 [==============================] - 0s 21us/step - loss: 0.1900 - accuracy: 0.9452 - val_loss: 0.2290 - val_accuracy: 0.9045\n",
            "Epoch 45/320\n",
            "1789/1789 [==============================] - 0s 22us/step - loss: 0.1837 - accuracy: 0.9441 - val_loss: 0.2297 - val_accuracy: 0.9045\n",
            "Epoch 46/320\n",
            "1789/1789 [==============================] - 0s 23us/step - loss: 0.1789 - accuracy: 0.9441 - val_loss: 0.2215 - val_accuracy: 0.9045\n",
            "Epoch 47/320\n",
            "1789/1789 [==============================] - 0s 20us/step - loss: 0.1742 - accuracy: 0.9503 - val_loss: 0.2198 - val_accuracy: 0.9196\n",
            "Epoch 48/320\n",
            "1789/1789 [==============================] - 0s 21us/step - loss: 0.1700 - accuracy: 0.9475 - val_loss: 0.2172 - val_accuracy: 0.9045\n",
            "Epoch 49/320\n",
            "1789/1789 [==============================] - 0s 22us/step - loss: 0.1662 - accuracy: 0.9435 - val_loss: 0.2159 - val_accuracy: 0.9095\n",
            "Epoch 50/320\n",
            "1789/1789 [==============================] - 0s 22us/step - loss: 0.1629 - accuracy: 0.9514 - val_loss: 0.2097 - val_accuracy: 0.9095\n",
            "Epoch 51/320\n",
            "1789/1789 [==============================] - 0s 21us/step - loss: 0.1583 - accuracy: 0.9530 - val_loss: 0.2027 - val_accuracy: 0.9095\n",
            "Epoch 52/320\n",
            "1789/1789 [==============================] - 0s 20us/step - loss: 0.1541 - accuracy: 0.9570 - val_loss: 0.2042 - val_accuracy: 0.9095\n",
            "Epoch 53/320\n",
            "1789/1789 [==============================] - 0s 20us/step - loss: 0.1503 - accuracy: 0.9553 - val_loss: 0.1935 - val_accuracy: 0.9146\n",
            "Epoch 54/320\n",
            "1789/1789 [==============================] - 0s 22us/step - loss: 0.1461 - accuracy: 0.9637 - val_loss: 0.1918 - val_accuracy: 0.9196\n",
            "Epoch 55/320\n",
            "1789/1789 [==============================] - 0s 21us/step - loss: 0.1438 - accuracy: 0.9592 - val_loss: 0.1912 - val_accuracy: 0.9095\n",
            "Epoch 56/320\n",
            "1789/1789 [==============================] - 0s 21us/step - loss: 0.1410 - accuracy: 0.9614 - val_loss: 0.1893 - val_accuracy: 0.9146\n",
            "Epoch 57/320\n",
            "1789/1789 [==============================] - 0s 20us/step - loss: 0.1380 - accuracy: 0.9614 - val_loss: 0.1895 - val_accuracy: 0.9246\n",
            "Epoch 58/320\n",
            "1789/1789 [==============================] - 0s 21us/step - loss: 0.1359 - accuracy: 0.9631 - val_loss: 0.1834 - val_accuracy: 0.9095\n",
            "Epoch 59/320\n",
            "1789/1789 [==============================] - 0s 21us/step - loss: 0.1329 - accuracy: 0.9609 - val_loss: 0.1864 - val_accuracy: 0.9196\n",
            "Epoch 60/320\n",
            "1789/1789 [==============================] - 0s 21us/step - loss: 0.1297 - accuracy: 0.9681 - val_loss: 0.1837 - val_accuracy: 0.9296\n",
            "Epoch 61/320\n",
            "1789/1789 [==============================] - 0s 21us/step - loss: 0.1268 - accuracy: 0.9659 - val_loss: 0.1772 - val_accuracy: 0.9296\n",
            "Epoch 62/320\n",
            "1789/1789 [==============================] - 0s 20us/step - loss: 0.1248 - accuracy: 0.9681 - val_loss: 0.1734 - val_accuracy: 0.9296\n",
            "Epoch 63/320\n",
            "1789/1789 [==============================] - 0s 21us/step - loss: 0.1234 - accuracy: 0.9698 - val_loss: 0.1737 - val_accuracy: 0.9196\n",
            "Epoch 64/320\n",
            "1789/1789 [==============================] - 0s 21us/step - loss: 0.1197 - accuracy: 0.9670 - val_loss: 0.1754 - val_accuracy: 0.9296\n",
            "Epoch 65/320\n",
            "1789/1789 [==============================] - 0s 21us/step - loss: 0.1176 - accuracy: 0.9721 - val_loss: 0.1705 - val_accuracy: 0.9246\n",
            "Epoch 66/320\n",
            "1789/1789 [==============================] - 0s 21us/step - loss: 0.1157 - accuracy: 0.9698 - val_loss: 0.1721 - val_accuracy: 0.9296\n",
            "Epoch 67/320\n",
            "1789/1789 [==============================] - 0s 21us/step - loss: 0.1136 - accuracy: 0.9709 - val_loss: 0.1720 - val_accuracy: 0.9296\n",
            "Epoch 68/320\n",
            "1789/1789 [==============================] - 0s 23us/step - loss: 0.1113 - accuracy: 0.9726 - val_loss: 0.1704 - val_accuracy: 0.9347\n",
            "Epoch 69/320\n",
            "1789/1789 [==============================] - 0s 25us/step - loss: 0.1090 - accuracy: 0.9726 - val_loss: 0.1703 - val_accuracy: 0.9246\n",
            "Epoch 70/320\n",
            "1789/1789 [==============================] - 0s 24us/step - loss: 0.1069 - accuracy: 0.9704 - val_loss: 0.1661 - val_accuracy: 0.9246\n",
            "Epoch 71/320\n",
            "1789/1789 [==============================] - 0s 24us/step - loss: 0.1046 - accuracy: 0.9737 - val_loss: 0.1668 - val_accuracy: 0.9347\n",
            "Epoch 72/320\n",
            "1789/1789 [==============================] - 0s 24us/step - loss: 0.1035 - accuracy: 0.9726 - val_loss: 0.1712 - val_accuracy: 0.9246\n",
            "Epoch 73/320\n",
            "1789/1789 [==============================] - 0s 24us/step - loss: 0.1015 - accuracy: 0.9737 - val_loss: 0.1673 - val_accuracy: 0.9296\n",
            "Epoch 74/320\n",
            "1789/1789 [==============================] - 0s 27us/step - loss: 0.0999 - accuracy: 0.9743 - val_loss: 0.1634 - val_accuracy: 0.9347\n",
            "Epoch 75/320\n",
            "1789/1789 [==============================] - 0s 22us/step - loss: 0.0979 - accuracy: 0.9760 - val_loss: 0.1647 - val_accuracy: 0.9296\n",
            "Epoch 76/320\n",
            "1789/1789 [==============================] - 0s 21us/step - loss: 0.0959 - accuracy: 0.9760 - val_loss: 0.1658 - val_accuracy: 0.9347\n",
            "Epoch 77/320\n",
            "1789/1789 [==============================] - 0s 22us/step - loss: 0.0949 - accuracy: 0.9776 - val_loss: 0.1628 - val_accuracy: 0.9296\n",
            "Epoch 78/320\n",
            "1789/1789 [==============================] - 0s 20us/step - loss: 0.0939 - accuracy: 0.9760 - val_loss: 0.1662 - val_accuracy: 0.9296\n",
            "Epoch 79/320\n",
            "1789/1789 [==============================] - 0s 21us/step - loss: 0.0921 - accuracy: 0.9765 - val_loss: 0.1596 - val_accuracy: 0.9347\n",
            "Epoch 80/320\n",
            "1789/1789 [==============================] - 0s 20us/step - loss: 0.0900 - accuracy: 0.9793 - val_loss: 0.1572 - val_accuracy: 0.9447\n",
            "Epoch 81/320\n",
            "1789/1789 [==============================] - 0s 21us/step - loss: 0.0895 - accuracy: 0.9771 - val_loss: 0.1616 - val_accuracy: 0.9347\n",
            "Epoch 82/320\n",
            "1789/1789 [==============================] - 0s 21us/step - loss: 0.0866 - accuracy: 0.9793 - val_loss: 0.1627 - val_accuracy: 0.9397\n",
            "Epoch 83/320\n",
            "1789/1789 [==============================] - 0s 21us/step - loss: 0.0857 - accuracy: 0.9782 - val_loss: 0.1578 - val_accuracy: 0.9397\n",
            "Epoch 84/320\n",
            "1789/1789 [==============================] - 0s 21us/step - loss: 0.0848 - accuracy: 0.9810 - val_loss: 0.1620 - val_accuracy: 0.9246\n",
            "Epoch 85/320\n",
            "1789/1789 [==============================] - 0s 20us/step - loss: 0.0834 - accuracy: 0.9821 - val_loss: 0.1614 - val_accuracy: 0.9397\n",
            "Epoch 86/320\n",
            "1789/1789 [==============================] - 0s 21us/step - loss: 0.0817 - accuracy: 0.9816 - val_loss: 0.1608 - val_accuracy: 0.9447\n",
            "Epoch 87/320\n",
            "1789/1789 [==============================] - 0s 21us/step - loss: 0.0801 - accuracy: 0.9843 - val_loss: 0.1591 - val_accuracy: 0.9347\n",
            "Epoch 88/320\n",
            "1789/1789 [==============================] - 0s 21us/step - loss: 0.0799 - accuracy: 0.9816 - val_loss: 0.1611 - val_accuracy: 0.9246\n",
            "Epoch 89/320\n",
            "1789/1789 [==============================] - 0s 21us/step - loss: 0.0778 - accuracy: 0.9810 - val_loss: 0.1605 - val_accuracy: 0.9246\n",
            "Epoch 90/320\n",
            "1789/1789 [==============================] - 0s 21us/step - loss: 0.0760 - accuracy: 0.9832 - val_loss: 0.1609 - val_accuracy: 0.9246\n",
            "Epoch 91/320\n",
            "1789/1789 [==============================] - 0s 21us/step - loss: 0.0750 - accuracy: 0.9849 - val_loss: 0.1588 - val_accuracy: 0.9196\n",
            "Epoch 92/320\n",
            "1789/1789 [==============================] - 0s 21us/step - loss: 0.0733 - accuracy: 0.9838 - val_loss: 0.1608 - val_accuracy: 0.9296\n",
            "Epoch 93/320\n",
            "1789/1789 [==============================] - 0s 30us/step - loss: 0.0728 - accuracy: 0.9849 - val_loss: 0.1625 - val_accuracy: 0.9095\n",
            "Epoch 94/320\n",
            "1789/1789 [==============================] - 0s 21us/step - loss: 0.0711 - accuracy: 0.9827 - val_loss: 0.1620 - val_accuracy: 0.9347\n",
            "Epoch 95/320\n",
            "1789/1789 [==============================] - 0s 22us/step - loss: 0.0704 - accuracy: 0.9866 - val_loss: 0.1602 - val_accuracy: 0.9246\n",
            "Epoch 96/320\n",
            "1789/1789 [==============================] - 0s 21us/step - loss: 0.0692 - accuracy: 0.9838 - val_loss: 0.1653 - val_accuracy: 0.9196\n",
            "Epoch 97/320\n",
            "1789/1789 [==============================] - 0s 21us/step - loss: 0.0683 - accuracy: 0.9860 - val_loss: 0.1556 - val_accuracy: 0.9246\n",
            "Epoch 98/320\n",
            "1789/1789 [==============================] - 0s 20us/step - loss: 0.0663 - accuracy: 0.9871 - val_loss: 0.1635 - val_accuracy: 0.9196\n",
            "Epoch 99/320\n",
            "1789/1789 [==============================] - 0s 21us/step - loss: 0.0657 - accuracy: 0.9855 - val_loss: 0.1612 - val_accuracy: 0.9196\n",
            "Epoch 100/320\n",
            "1789/1789 [==============================] - 0s 21us/step - loss: 0.0648 - accuracy: 0.9877 - val_loss: 0.1633 - val_accuracy: 0.9196\n",
            "Epoch 101/320\n",
            "1789/1789 [==============================] - 0s 21us/step - loss: 0.0633 - accuracy: 0.9877 - val_loss: 0.1597 - val_accuracy: 0.9246\n",
            "Epoch 102/320\n",
            "1789/1789 [==============================] - 0s 20us/step - loss: 0.0621 - accuracy: 0.9888 - val_loss: 0.1585 - val_accuracy: 0.9196\n",
            "Epoch 103/320\n",
            "1789/1789 [==============================] - 0s 21us/step - loss: 0.0609 - accuracy: 0.9877 - val_loss: 0.1665 - val_accuracy: 0.9196\n",
            "Epoch 104/320\n",
            "1789/1789 [==============================] - 0s 22us/step - loss: 0.0602 - accuracy: 0.9883 - val_loss: 0.1657 - val_accuracy: 0.9146\n",
            "Epoch 105/320\n",
            "1789/1789 [==============================] - 0s 24us/step - loss: 0.0589 - accuracy: 0.9894 - val_loss: 0.1653 - val_accuracy: 0.9246\n",
            "Epoch 106/320\n",
            "1789/1789 [==============================] - 0s 25us/step - loss: 0.0585 - accuracy: 0.9905 - val_loss: 0.1640 - val_accuracy: 0.9246\n",
            "Epoch 107/320\n",
            "1789/1789 [==============================] - 0s 24us/step - loss: 0.0583 - accuracy: 0.9883 - val_loss: 0.1589 - val_accuracy: 0.9246\n",
            "Epoch 108/320\n",
            "1789/1789 [==============================] - 0s 24us/step - loss: 0.0572 - accuracy: 0.9899 - val_loss: 0.1624 - val_accuracy: 0.9246\n",
            "Epoch 109/320\n",
            "1789/1789 [==============================] - 0s 26us/step - loss: 0.0559 - accuracy: 0.9905 - val_loss: 0.1631 - val_accuracy: 0.9196\n",
            "Epoch 110/320\n",
            "1789/1789 [==============================] - 0s 24us/step - loss: 0.0544 - accuracy: 0.9905 - val_loss: 0.1629 - val_accuracy: 0.9397\n",
            "Epoch 111/320\n",
            "1789/1789 [==============================] - 0s 26us/step - loss: 0.0539 - accuracy: 0.9911 - val_loss: 0.1624 - val_accuracy: 0.9196\n",
            "Epoch 112/320\n",
            "1789/1789 [==============================] - 0s 24us/step - loss: 0.0539 - accuracy: 0.9899 - val_loss: 0.1640 - val_accuracy: 0.9347\n",
            "Epoch 113/320\n",
            "1789/1789 [==============================] - 0s 25us/step - loss: 0.0538 - accuracy: 0.9894 - val_loss: 0.1632 - val_accuracy: 0.9196\n",
            "Epoch 114/320\n",
            "1789/1789 [==============================] - 0s 24us/step - loss: 0.0535 - accuracy: 0.9883 - val_loss: 0.1568 - val_accuracy: 0.9246\n",
            "Epoch 115/320\n",
            "1789/1789 [==============================] - 0s 24us/step - loss: 0.0519 - accuracy: 0.9922 - val_loss: 0.1714 - val_accuracy: 0.9347\n",
            "Epoch 116/320\n",
            "1789/1789 [==============================] - 0s 24us/step - loss: 0.0511 - accuracy: 0.9888 - val_loss: 0.1697 - val_accuracy: 0.9196\n",
            "Epoch 117/320\n",
            "1789/1789 [==============================] - 0s 28us/step - loss: 0.0498 - accuracy: 0.9927 - val_loss: 0.1681 - val_accuracy: 0.9246\n",
            "Epoch 118/320\n",
            "1789/1789 [==============================] - 0s 24us/step - loss: 0.0488 - accuracy: 0.9927 - val_loss: 0.1701 - val_accuracy: 0.9347\n",
            "Epoch 119/320\n",
            "1789/1789 [==============================] - 0s 21us/step - loss: 0.0482 - accuracy: 0.9939 - val_loss: 0.1681 - val_accuracy: 0.9347\n",
            "Epoch 120/320\n",
            "1789/1789 [==============================] - 0s 21us/step - loss: 0.0477 - accuracy: 0.9927 - val_loss: 0.1749 - val_accuracy: 0.9246\n",
            "Epoch 121/320\n",
            "1789/1789 [==============================] - 0s 21us/step - loss: 0.0473 - accuracy: 0.9933 - val_loss: 0.1702 - val_accuracy: 0.9397\n",
            "Epoch 122/320\n",
            "1789/1789 [==============================] - 0s 21us/step - loss: 0.0477 - accuracy: 0.9927 - val_loss: 0.1650 - val_accuracy: 0.9296\n",
            "Epoch 123/320\n",
            "1789/1789 [==============================] - 0s 21us/step - loss: 0.0459 - accuracy: 0.9933 - val_loss: 0.1695 - val_accuracy: 0.9246\n",
            "Epoch 124/320\n",
            "1789/1789 [==============================] - 0s 22us/step - loss: 0.0450 - accuracy: 0.9927 - val_loss: 0.1693 - val_accuracy: 0.9347\n",
            "Epoch 125/320\n",
            "1789/1789 [==============================] - 0s 22us/step - loss: 0.0446 - accuracy: 0.9922 - val_loss: 0.1700 - val_accuracy: 0.9296\n",
            "Epoch 126/320\n",
            "1789/1789 [==============================] - 0s 21us/step - loss: 0.0446 - accuracy: 0.9933 - val_loss: 0.1684 - val_accuracy: 0.9347\n",
            "Epoch 127/320\n",
            "1789/1789 [==============================] - 0s 22us/step - loss: 0.0436 - accuracy: 0.9944 - val_loss: 0.1759 - val_accuracy: 0.9347\n",
            "Epoch 128/320\n",
            "1789/1789 [==============================] - 0s 22us/step - loss: 0.0432 - accuracy: 0.9944 - val_loss: 0.1730 - val_accuracy: 0.9296\n",
            "Epoch 129/320\n",
            "1789/1789 [==============================] - 0s 25us/step - loss: 0.0423 - accuracy: 0.9939 - val_loss: 0.1631 - val_accuracy: 0.9296\n",
            "Epoch 130/320\n",
            "1789/1789 [==============================] - 0s 21us/step - loss: 0.0424 - accuracy: 0.9955 - val_loss: 0.1717 - val_accuracy: 0.9296\n",
            "Epoch 131/320\n",
            "1789/1789 [==============================] - 0s 21us/step - loss: 0.0414 - accuracy: 0.9933 - val_loss: 0.1746 - val_accuracy: 0.9347\n",
            "Epoch 132/320\n",
            "1789/1789 [==============================] - 0s 22us/step - loss: 0.0406 - accuracy: 0.9944 - val_loss: 0.1751 - val_accuracy: 0.9397\n",
            "Epoch 133/320\n",
            "1789/1789 [==============================] - 0s 21us/step - loss: 0.0400 - accuracy: 0.9944 - val_loss: 0.1662 - val_accuracy: 0.9347\n",
            "Epoch 134/320\n",
            "1789/1789 [==============================] - 0s 21us/step - loss: 0.0403 - accuracy: 0.9944 - val_loss: 0.1762 - val_accuracy: 0.9397\n",
            "Epoch 135/320\n",
            "1789/1789 [==============================] - 0s 23us/step - loss: 0.0392 - accuracy: 0.9944 - val_loss: 0.1740 - val_accuracy: 0.9347\n",
            "Epoch 136/320\n",
            "1789/1789 [==============================] - 0s 23us/step - loss: 0.0387 - accuracy: 0.9944 - val_loss: 0.1782 - val_accuracy: 0.9347\n",
            "Epoch 137/320\n",
            "1789/1789 [==============================] - 0s 22us/step - loss: 0.0386 - accuracy: 0.9950 - val_loss: 0.1754 - val_accuracy: 0.9397\n",
            "Epoch 138/320\n",
            "1789/1789 [==============================] - 0s 21us/step - loss: 0.0374 - accuracy: 0.9955 - val_loss: 0.1700 - val_accuracy: 0.9347\n",
            "Epoch 139/320\n",
            "1789/1789 [==============================] - 0s 22us/step - loss: 0.0379 - accuracy: 0.9933 - val_loss: 0.1823 - val_accuracy: 0.9447\n",
            "Epoch 140/320\n",
            "1789/1789 [==============================] - 0s 23us/step - loss: 0.0368 - accuracy: 0.9961 - val_loss: 0.1710 - val_accuracy: 0.9397\n",
            "Epoch 141/320\n",
            "1789/1789 [==============================] - 0s 22us/step - loss: 0.0362 - accuracy: 0.9939 - val_loss: 0.1756 - val_accuracy: 0.9296\n",
            "Epoch 142/320\n",
            "1789/1789 [==============================] - 0s 22us/step - loss: 0.0356 - accuracy: 0.9955 - val_loss: 0.1732 - val_accuracy: 0.9397\n",
            "Epoch 143/320\n",
            "1789/1789 [==============================] - 0s 22us/step - loss: 0.0347 - accuracy: 0.9961 - val_loss: 0.1787 - val_accuracy: 0.9397\n",
            "Epoch 144/320\n",
            "1789/1789 [==============================] - 0s 23us/step - loss: 0.0341 - accuracy: 0.9961 - val_loss: 0.1796 - val_accuracy: 0.9397\n",
            "Epoch 145/320\n",
            "1789/1789 [==============================] - 0s 24us/step - loss: 0.0344 - accuracy: 0.9944 - val_loss: 0.1718 - val_accuracy: 0.9397\n",
            "Epoch 146/320\n",
            "1789/1789 [==============================] - 0s 24us/step - loss: 0.0338 - accuracy: 0.9955 - val_loss: 0.1784 - val_accuracy: 0.9397\n",
            "Epoch 147/320\n",
            "1789/1789 [==============================] - 0s 24us/step - loss: 0.0337 - accuracy: 0.9955 - val_loss: 0.1732 - val_accuracy: 0.9347\n",
            "Epoch 148/320\n",
            "1789/1789 [==============================] - 0s 21us/step - loss: 0.0325 - accuracy: 0.9961 - val_loss: 0.1780 - val_accuracy: 0.9347\n",
            "Epoch 149/320\n",
            "1789/1789 [==============================] - 0s 20us/step - loss: 0.0327 - accuracy: 0.9955 - val_loss: 0.1752 - val_accuracy: 0.9347\n",
            "Epoch 150/320\n",
            "1789/1789 [==============================] - 0s 21us/step - loss: 0.0325 - accuracy: 0.9966 - val_loss: 0.1796 - val_accuracy: 0.9397\n",
            "Epoch 151/320\n",
            "1789/1789 [==============================] - 0s 23us/step - loss: 0.0324 - accuracy: 0.9961 - val_loss: 0.1709 - val_accuracy: 0.9497\n",
            "Epoch 152/320\n",
            "1789/1789 [==============================] - 0s 26us/step - loss: 0.0324 - accuracy: 0.9961 - val_loss: 0.1754 - val_accuracy: 0.9397\n",
            "Epoch 153/320\n",
            "1789/1789 [==============================] - 0s 24us/step - loss: 0.0313 - accuracy: 0.9961 - val_loss: 0.1781 - val_accuracy: 0.9347\n",
            "Epoch 154/320\n",
            "1789/1789 [==============================] - 0s 24us/step - loss: 0.0309 - accuracy: 0.9966 - val_loss: 0.1766 - val_accuracy: 0.9497\n",
            "Epoch 155/320\n",
            "1789/1789 [==============================] - 0s 24us/step - loss: 0.0301 - accuracy: 0.9966 - val_loss: 0.1840 - val_accuracy: 0.9347\n",
            "Epoch 156/320\n",
            "1789/1789 [==============================] - 0s 24us/step - loss: 0.0298 - accuracy: 0.9961 - val_loss: 0.1741 - val_accuracy: 0.9397\n",
            "Epoch 157/320\n",
            "1789/1789 [==============================] - 0s 24us/step - loss: 0.0295 - accuracy: 0.9955 - val_loss: 0.1871 - val_accuracy: 0.9397\n",
            "Epoch 158/320\n",
            "1789/1789 [==============================] - 0s 24us/step - loss: 0.0298 - accuracy: 0.9972 - val_loss: 0.1866 - val_accuracy: 0.9397\n",
            "Epoch 159/320\n",
            "1789/1789 [==============================] - 0s 25us/step - loss: 0.0295 - accuracy: 0.9972 - val_loss: 0.1800 - val_accuracy: 0.9397\n",
            "Epoch 160/320\n",
            "1789/1789 [==============================] - 0s 25us/step - loss: 0.0288 - accuracy: 0.9955 - val_loss: 0.1939 - val_accuracy: 0.9296\n",
            "Epoch 161/320\n",
            "1789/1789 [==============================] - 0s 27us/step - loss: 0.0281 - accuracy: 0.9972 - val_loss: 0.1849 - val_accuracy: 0.9397\n",
            "Epoch 162/320\n",
            "1789/1789 [==============================] - 0s 24us/step - loss: 0.0277 - accuracy: 0.9978 - val_loss: 0.1898 - val_accuracy: 0.9397\n",
            "Epoch 163/320\n",
            "1789/1789 [==============================] - 0s 24us/step - loss: 0.0278 - accuracy: 0.9978 - val_loss: 0.1824 - val_accuracy: 0.9447\n",
            "Epoch 164/320\n",
            "1789/1789 [==============================] - 0s 24us/step - loss: 0.0283 - accuracy: 0.9972 - val_loss: 0.1897 - val_accuracy: 0.9347\n",
            "Epoch 165/320\n",
            "1789/1789 [==============================] - 0s 28us/step - loss: 0.0277 - accuracy: 0.9978 - val_loss: 0.1844 - val_accuracy: 0.9397\n",
            "Epoch 166/320\n",
            "1789/1789 [==============================] - 0s 21us/step - loss: 0.0264 - accuracy: 0.9966 - val_loss: 0.1868 - val_accuracy: 0.9397\n",
            "Epoch 167/320\n",
            "1789/1789 [==============================] - 0s 21us/step - loss: 0.0260 - accuracy: 0.9983 - val_loss: 0.1945 - val_accuracy: 0.9347\n",
            "Epoch 168/320\n",
            "1789/1789 [==============================] - 0s 21us/step - loss: 0.0267 - accuracy: 0.9978 - val_loss: 0.1847 - val_accuracy: 0.9347\n",
            "Epoch 169/320\n",
            "1789/1789 [==============================] - 0s 21us/step - loss: 0.0255 - accuracy: 0.9978 - val_loss: 0.1907 - val_accuracy: 0.9397\n",
            "Epoch 170/320\n",
            "1789/1789 [==============================] - 0s 21us/step - loss: 0.0250 - accuracy: 0.9983 - val_loss: 0.1886 - val_accuracy: 0.9347\n",
            "Epoch 171/320\n",
            "1789/1789 [==============================] - 0s 22us/step - loss: 0.0249 - accuracy: 0.9994 - val_loss: 0.2000 - val_accuracy: 0.9296\n",
            "Epoch 172/320\n",
            "1789/1789 [==============================] - 0s 20us/step - loss: 0.0246 - accuracy: 0.9978 - val_loss: 0.1916 - val_accuracy: 0.9397\n",
            "Epoch 173/320\n",
            "1789/1789 [==============================] - 0s 23us/step - loss: 0.0242 - accuracy: 0.9978 - val_loss: 0.1941 - val_accuracy: 0.9296\n",
            "Epoch 174/320\n",
            "1789/1789 [==============================] - 0s 22us/step - loss: 0.0244 - accuracy: 0.9983 - val_loss: 0.1892 - val_accuracy: 0.9347\n",
            "Epoch 175/320\n",
            "1789/1789 [==============================] - 0s 22us/step - loss: 0.0235 - accuracy: 0.9989 - val_loss: 0.1982 - val_accuracy: 0.9347\n",
            "Epoch 176/320\n",
            "1789/1789 [==============================] - 0s 22us/step - loss: 0.0232 - accuracy: 0.9983 - val_loss: 0.1957 - val_accuracy: 0.9347\n",
            "Epoch 177/320\n",
            "1789/1789 [==============================] - 0s 20us/step - loss: 0.0240 - accuracy: 0.9972 - val_loss: 0.2003 - val_accuracy: 0.9347\n",
            "Epoch 178/320\n",
            "1789/1789 [==============================] - 0s 21us/step - loss: 0.0232 - accuracy: 0.9978 - val_loss: 0.1919 - val_accuracy: 0.9447\n",
            "Epoch 179/320\n",
            "1789/1789 [==============================] - 0s 23us/step - loss: 0.0227 - accuracy: 0.9994 - val_loss: 0.1985 - val_accuracy: 0.9447\n",
            "Epoch 180/320\n",
            "1789/1789 [==============================] - 0s 22us/step - loss: 0.0223 - accuracy: 0.9978 - val_loss: 0.2004 - val_accuracy: 0.9347\n",
            "Epoch 181/320\n",
            "1789/1789 [==============================] - 0s 22us/step - loss: 0.0217 - accuracy: 0.9989 - val_loss: 0.1978 - val_accuracy: 0.9447\n",
            "Epoch 182/320\n",
            "1789/1789 [==============================] - 0s 22us/step - loss: 0.0223 - accuracy: 0.9994 - val_loss: 0.2012 - val_accuracy: 0.9347\n",
            "Epoch 183/320\n",
            "1789/1789 [==============================] - 0s 21us/step - loss: 0.0212 - accuracy: 0.9994 - val_loss: 0.1981 - val_accuracy: 0.9497\n",
            "Epoch 184/320\n",
            "1789/1789 [==============================] - 0s 22us/step - loss: 0.0213 - accuracy: 0.9994 - val_loss: 0.2016 - val_accuracy: 0.9397\n",
            "Epoch 185/320\n",
            "1789/1789 [==============================] - 0s 23us/step - loss: 0.0210 - accuracy: 0.9989 - val_loss: 0.2011 - val_accuracy: 0.9347\n",
            "Epoch 186/320\n",
            "1789/1789 [==============================] - 0s 21us/step - loss: 0.0208 - accuracy: 0.9983 - val_loss: 0.2020 - val_accuracy: 0.9397\n",
            "Epoch 187/320\n",
            "1789/1789 [==============================] - 0s 22us/step - loss: 0.0210 - accuracy: 0.9983 - val_loss: 0.2028 - val_accuracy: 0.9397\n",
            "Epoch 188/320\n",
            "1789/1789 [==============================] - 0s 21us/step - loss: 0.0202 - accuracy: 0.9994 - val_loss: 0.2066 - val_accuracy: 0.9347\n",
            "Epoch 189/320\n",
            "1789/1789 [==============================] - 0s 21us/step - loss: 0.0197 - accuracy: 1.0000 - val_loss: 0.2045 - val_accuracy: 0.9397\n",
            "Epoch 190/320\n",
            "1789/1789 [==============================] - 0s 27us/step - loss: 0.0199 - accuracy: 1.0000 - val_loss: 0.2037 - val_accuracy: 0.9397\n",
            "Epoch 191/320\n",
            "1789/1789 [==============================] - 0s 24us/step - loss: 0.0192 - accuracy: 0.9989 - val_loss: 0.2085 - val_accuracy: 0.9397\n",
            "Epoch 192/320\n",
            "1789/1789 [==============================] - 0s 24us/step - loss: 0.0192 - accuracy: 1.0000 - val_loss: 0.2133 - val_accuracy: 0.9347\n",
            "Epoch 193/320\n",
            "1789/1789 [==============================] - 0s 23us/step - loss: 0.0189 - accuracy: 0.9989 - val_loss: 0.2062 - val_accuracy: 0.9397\n",
            "Epoch 194/320\n",
            "1789/1789 [==============================] - 0s 23us/step - loss: 0.0185 - accuracy: 0.9994 - val_loss: 0.2119 - val_accuracy: 0.9397\n",
            "Epoch 195/320\n",
            "1789/1789 [==============================] - 0s 21us/step - loss: 0.0185 - accuracy: 0.9994 - val_loss: 0.2115 - val_accuracy: 0.9347\n",
            "Epoch 196/320\n",
            "1789/1789 [==============================] - 0s 21us/step - loss: 0.0181 - accuracy: 0.9994 - val_loss: 0.2128 - val_accuracy: 0.9397\n",
            "Epoch 197/320\n",
            "1789/1789 [==============================] - 0s 21us/step - loss: 0.0183 - accuracy: 1.0000 - val_loss: 0.2099 - val_accuracy: 0.9397\n",
            "Epoch 198/320\n",
            "1789/1789 [==============================] - 0s 21us/step - loss: 0.0177 - accuracy: 0.9994 - val_loss: 0.2178 - val_accuracy: 0.9347\n",
            "Epoch 199/320\n",
            "1789/1789 [==============================] - 0s 23us/step - loss: 0.0172 - accuracy: 1.0000 - val_loss: 0.2161 - val_accuracy: 0.9397\n",
            "Epoch 200/320\n",
            "1789/1789 [==============================] - 0s 22us/step - loss: 0.0175 - accuracy: 1.0000 - val_loss: 0.2168 - val_accuracy: 0.9296\n",
            "Epoch 201/320\n",
            "1789/1789 [==============================] - 0s 23us/step - loss: 0.0170 - accuracy: 1.0000 - val_loss: 0.2177 - val_accuracy: 0.9397\n",
            "Epoch 202/320\n",
            "1789/1789 [==============================] - 0s 22us/step - loss: 0.0168 - accuracy: 1.0000 - val_loss: 0.2150 - val_accuracy: 0.9397\n",
            "Epoch 203/320\n",
            "1789/1789 [==============================] - 0s 24us/step - loss: 0.0166 - accuracy: 1.0000 - val_loss: 0.2218 - val_accuracy: 0.9347\n",
            "Epoch 204/320\n",
            "1789/1789 [==============================] - 0s 24us/step - loss: 0.0166 - accuracy: 0.9994 - val_loss: 0.2208 - val_accuracy: 0.9447\n",
            "Epoch 205/320\n",
            "1789/1789 [==============================] - 0s 24us/step - loss: 0.0166 - accuracy: 1.0000 - val_loss: 0.2251 - val_accuracy: 0.9347\n",
            "Epoch 206/320\n",
            "1789/1789 [==============================] - 0s 23us/step - loss: 0.0165 - accuracy: 1.0000 - val_loss: 0.2239 - val_accuracy: 0.9347\n",
            "Epoch 207/320\n",
            "1789/1789 [==============================] - 0s 25us/step - loss: 0.0156 - accuracy: 1.0000 - val_loss: 0.2264 - val_accuracy: 0.9347\n",
            "Epoch 208/320\n",
            "1789/1789 [==============================] - 0s 24us/step - loss: 0.0158 - accuracy: 1.0000 - val_loss: 0.2180 - val_accuracy: 0.9397\n",
            "Epoch 209/320\n",
            "1789/1789 [==============================] - 0s 25us/step - loss: 0.0160 - accuracy: 1.0000 - val_loss: 0.2297 - val_accuracy: 0.9296\n",
            "Epoch 210/320\n",
            "1789/1789 [==============================] - 0s 24us/step - loss: 0.0152 - accuracy: 1.0000 - val_loss: 0.2247 - val_accuracy: 0.9347\n",
            "Epoch 211/320\n",
            "1789/1789 [==============================] - 0s 25us/step - loss: 0.0149 - accuracy: 1.0000 - val_loss: 0.2201 - val_accuracy: 0.9397\n",
            "Epoch 212/320\n",
            "1789/1789 [==============================] - 0s 20us/step - loss: 0.0148 - accuracy: 1.0000 - val_loss: 0.2284 - val_accuracy: 0.9246\n",
            "Epoch 213/320\n",
            "1789/1789 [==============================] - 0s 21us/step - loss: 0.0147 - accuracy: 1.0000 - val_loss: 0.2263 - val_accuracy: 0.9347\n",
            "Epoch 214/320\n",
            "1789/1789 [==============================] - 0s 24us/step - loss: 0.0148 - accuracy: 1.0000 - val_loss: 0.2240 - val_accuracy: 0.9347\n",
            "Epoch 215/320\n",
            "1789/1789 [==============================] - 0s 21us/step - loss: 0.0144 - accuracy: 1.0000 - val_loss: 0.2226 - val_accuracy: 0.9347\n",
            "Epoch 216/320\n",
            "1789/1789 [==============================] - 0s 21us/step - loss: 0.0142 - accuracy: 1.0000 - val_loss: 0.2223 - val_accuracy: 0.9347\n",
            "Epoch 217/320\n",
            "1789/1789 [==============================] - 0s 22us/step - loss: 0.0141 - accuracy: 1.0000 - val_loss: 0.2373 - val_accuracy: 0.9246\n",
            "Epoch 218/320\n",
            "1789/1789 [==============================] - 0s 23us/step - loss: 0.0138 - accuracy: 1.0000 - val_loss: 0.2339 - val_accuracy: 0.9296\n",
            "Epoch 219/320\n",
            "1789/1789 [==============================] - 0s 22us/step - loss: 0.0141 - accuracy: 1.0000 - val_loss: 0.2290 - val_accuracy: 0.9347\n",
            "Epoch 220/320\n",
            "1789/1789 [==============================] - 0s 23us/step - loss: 0.0133 - accuracy: 1.0000 - val_loss: 0.2306 - val_accuracy: 0.9347\n",
            "Epoch 221/320\n",
            "1789/1789 [==============================] - 0s 20us/step - loss: 0.0132 - accuracy: 1.0000 - val_loss: 0.2330 - val_accuracy: 0.9347\n",
            "Epoch 222/320\n",
            "1789/1789 [==============================] - 0s 20us/step - loss: 0.0130 - accuracy: 1.0000 - val_loss: 0.2289 - val_accuracy: 0.9296\n",
            "Epoch 223/320\n",
            "1789/1789 [==============================] - 0s 22us/step - loss: 0.0133 - accuracy: 1.0000 - val_loss: 0.2364 - val_accuracy: 0.9397\n",
            "Epoch 224/320\n",
            "1789/1789 [==============================] - 0s 21us/step - loss: 0.0127 - accuracy: 1.0000 - val_loss: 0.2346 - val_accuracy: 0.9347\n",
            "Epoch 225/320\n",
            "1789/1789 [==============================] - 0s 25us/step - loss: 0.0126 - accuracy: 1.0000 - val_loss: 0.2310 - val_accuracy: 0.9347\n",
            "Epoch 226/320\n",
            "1789/1789 [==============================] - 0s 24us/step - loss: 0.0127 - accuracy: 1.0000 - val_loss: 0.2434 - val_accuracy: 0.9246\n",
            "Epoch 227/320\n",
            "1789/1789 [==============================] - 0s 24us/step - loss: 0.0124 - accuracy: 1.0000 - val_loss: 0.2385 - val_accuracy: 0.9296\n",
            "Epoch 228/320\n",
            "1789/1789 [==============================] - 0s 24us/step - loss: 0.0126 - accuracy: 1.0000 - val_loss: 0.2428 - val_accuracy: 0.9296\n",
            "Epoch 229/320\n",
            "1789/1789 [==============================] - 0s 24us/step - loss: 0.0121 - accuracy: 1.0000 - val_loss: 0.2398 - val_accuracy: 0.9347\n",
            "Epoch 230/320\n",
            "1789/1789 [==============================] - 0s 24us/step - loss: 0.0118 - accuracy: 1.0000 - val_loss: 0.2364 - val_accuracy: 0.9347\n",
            "Epoch 231/320\n",
            "1789/1789 [==============================] - 0s 23us/step - loss: 0.0117 - accuracy: 1.0000 - val_loss: 0.2455 - val_accuracy: 0.9296\n",
            "Epoch 232/320\n",
            "1789/1789 [==============================] - 0s 40us/step - loss: 0.0115 - accuracy: 1.0000 - val_loss: 0.2396 - val_accuracy: 0.9347\n",
            "Epoch 233/320\n",
            "1789/1789 [==============================] - 0s 25us/step - loss: 0.0115 - accuracy: 1.0000 - val_loss: 0.2273 - val_accuracy: 0.9397\n",
            "Epoch 234/320\n",
            "1789/1789 [==============================] - 0s 27us/step - loss: 0.0119 - accuracy: 1.0000 - val_loss: 0.2425 - val_accuracy: 0.9397\n",
            "Epoch 235/320\n",
            "1789/1789 [==============================] - 0s 26us/step - loss: 0.0113 - accuracy: 1.0000 - val_loss: 0.2451 - val_accuracy: 0.9296\n",
            "Epoch 236/320\n",
            "1789/1789 [==============================] - 0s 25us/step - loss: 0.0110 - accuracy: 1.0000 - val_loss: 0.2418 - val_accuracy: 0.9296\n",
            "Epoch 237/320\n",
            "1789/1789 [==============================] - 0s 24us/step - loss: 0.0109 - accuracy: 1.0000 - val_loss: 0.2503 - val_accuracy: 0.9347\n",
            "Epoch 238/320\n",
            "1789/1789 [==============================] - 0s 21us/step - loss: 0.0114 - accuracy: 1.0000 - val_loss: 0.2477 - val_accuracy: 0.9246\n",
            "Epoch 239/320\n",
            "1789/1789 [==============================] - 0s 23us/step - loss: 0.0106 - accuracy: 1.0000 - val_loss: 0.2354 - val_accuracy: 0.9347\n",
            "Epoch 240/320\n",
            "1789/1789 [==============================] - 0s 24us/step - loss: 0.0105 - accuracy: 1.0000 - val_loss: 0.2430 - val_accuracy: 0.9347\n",
            "Epoch 241/320\n",
            "1789/1789 [==============================] - 0s 21us/step - loss: 0.0103 - accuracy: 1.0000 - val_loss: 0.2502 - val_accuracy: 0.9397\n",
            "Epoch 242/320\n",
            "1789/1789 [==============================] - 0s 21us/step - loss: 0.0102 - accuracy: 1.0000 - val_loss: 0.2408 - val_accuracy: 0.9347\n",
            "Epoch 243/320\n",
            "1789/1789 [==============================] - 0s 20us/step - loss: 0.0103 - accuracy: 1.0000 - val_loss: 0.2475 - val_accuracy: 0.9347\n",
            "Epoch 244/320\n",
            "1789/1789 [==============================] - 0s 22us/step - loss: 0.0098 - accuracy: 1.0000 - val_loss: 0.2504 - val_accuracy: 0.9296\n",
            "Epoch 245/320\n",
            "1789/1789 [==============================] - 0s 22us/step - loss: 0.0103 - accuracy: 1.0000 - val_loss: 0.2475 - val_accuracy: 0.9347\n",
            "Epoch 246/320\n",
            "1789/1789 [==============================] - 0s 22us/step - loss: 0.0099 - accuracy: 1.0000 - val_loss: 0.2514 - val_accuracy: 0.9246\n",
            "Epoch 247/320\n",
            "1789/1789 [==============================] - 0s 22us/step - loss: 0.0097 - accuracy: 1.0000 - val_loss: 0.2542 - val_accuracy: 0.9347\n",
            "Epoch 248/320\n",
            "1789/1789 [==============================] - 0s 21us/step - loss: 0.0095 - accuracy: 1.0000 - val_loss: 0.2487 - val_accuracy: 0.9246\n",
            "Epoch 249/320\n",
            "1789/1789 [==============================] - 0s 24us/step - loss: 0.0095 - accuracy: 1.0000 - val_loss: 0.2480 - val_accuracy: 0.9347\n",
            "Epoch 250/320\n",
            "1789/1789 [==============================] - 0s 22us/step - loss: 0.0092 - accuracy: 1.0000 - val_loss: 0.2545 - val_accuracy: 0.9246\n",
            "Epoch 251/320\n",
            "1789/1789 [==============================] - 0s 21us/step - loss: 0.0090 - accuracy: 1.0000 - val_loss: 0.2488 - val_accuracy: 0.9296\n",
            "Epoch 252/320\n",
            "1789/1789 [==============================] - 0s 21us/step - loss: 0.0089 - accuracy: 1.0000 - val_loss: 0.2473 - val_accuracy: 0.9397\n",
            "Epoch 253/320\n",
            "1789/1789 [==============================] - 0s 22us/step - loss: 0.0091 - accuracy: 1.0000 - val_loss: 0.2678 - val_accuracy: 0.9246\n",
            "Epoch 254/320\n",
            "1789/1789 [==============================] - 0s 22us/step - loss: 0.0089 - accuracy: 1.0000 - val_loss: 0.2469 - val_accuracy: 0.9397\n",
            "Epoch 255/320\n",
            "1789/1789 [==============================] - 0s 22us/step - loss: 0.0086 - accuracy: 1.0000 - val_loss: 0.2568 - val_accuracy: 0.9296\n",
            "Epoch 256/320\n",
            "1789/1789 [==============================] - 0s 23us/step - loss: 0.0085 - accuracy: 1.0000 - val_loss: 0.2601 - val_accuracy: 0.9296\n",
            "Epoch 257/320\n",
            "1789/1789 [==============================] - 0s 21us/step - loss: 0.0085 - accuracy: 1.0000 - val_loss: 0.2495 - val_accuracy: 0.9397\n",
            "Epoch 258/320\n",
            "1789/1789 [==============================] - 0s 23us/step - loss: 0.0085 - accuracy: 1.0000 - val_loss: 0.2523 - val_accuracy: 0.9296\n",
            "Epoch 259/320\n",
            "1789/1789 [==============================] - 0s 22us/step - loss: 0.0087 - accuracy: 1.0000 - val_loss: 0.2487 - val_accuracy: 0.9347\n",
            "Epoch 260/320\n",
            "1789/1789 [==============================] - 0s 22us/step - loss: 0.0083 - accuracy: 1.0000 - val_loss: 0.2643 - val_accuracy: 0.9246\n",
            "Epoch 261/320\n",
            "1789/1789 [==============================] - 0s 20us/step - loss: 0.0081 - accuracy: 1.0000 - val_loss: 0.2463 - val_accuracy: 0.9397\n",
            "Epoch 262/320\n",
            "1789/1789 [==============================] - 0s 24us/step - loss: 0.0082 - accuracy: 1.0000 - val_loss: 0.2669 - val_accuracy: 0.9246\n",
            "Epoch 263/320\n",
            "1789/1789 [==============================] - 0s 21us/step - loss: 0.0079 - accuracy: 1.0000 - val_loss: 0.2552 - val_accuracy: 0.9397\n",
            "Epoch 264/320\n",
            "1789/1789 [==============================] - 0s 25us/step - loss: 0.0077 - accuracy: 1.0000 - val_loss: 0.2527 - val_accuracy: 0.9397\n",
            "Epoch 265/320\n",
            "1789/1789 [==============================] - 0s 23us/step - loss: 0.0079 - accuracy: 1.0000 - val_loss: 0.2646 - val_accuracy: 0.9296\n",
            "Epoch 266/320\n",
            "1789/1789 [==============================] - 0s 21us/step - loss: 0.0077 - accuracy: 1.0000 - val_loss: 0.2595 - val_accuracy: 0.9296\n",
            "Epoch 267/320\n",
            "1789/1789 [==============================] - 0s 21us/step - loss: 0.0076 - accuracy: 1.0000 - val_loss: 0.2633 - val_accuracy: 0.9296\n",
            "Epoch 268/320\n",
            "1789/1789 [==============================] - 0s 21us/step - loss: 0.0074 - accuracy: 1.0000 - val_loss: 0.2580 - val_accuracy: 0.9347\n",
            "Epoch 269/320\n",
            "1789/1789 [==============================] - 0s 21us/step - loss: 0.0075 - accuracy: 1.0000 - val_loss: 0.2644 - val_accuracy: 0.9347\n",
            "Epoch 270/320\n",
            "1789/1789 [==============================] - 0s 20us/step - loss: 0.0072 - accuracy: 1.0000 - val_loss: 0.2748 - val_accuracy: 0.9296\n",
            "Epoch 271/320\n",
            "1789/1789 [==============================] - 0s 21us/step - loss: 0.0074 - accuracy: 1.0000 - val_loss: 0.2616 - val_accuracy: 0.9347\n",
            "Epoch 272/320\n",
            "1789/1789 [==============================] - 0s 25us/step - loss: 0.0073 - accuracy: 1.0000 - val_loss: 0.2641 - val_accuracy: 0.9347\n",
            "Epoch 273/320\n",
            "1789/1789 [==============================] - 0s 23us/step - loss: 0.0069 - accuracy: 1.0000 - val_loss: 0.2606 - val_accuracy: 0.9397\n",
            "Epoch 274/320\n",
            "1789/1789 [==============================] - 0s 21us/step - loss: 0.0069 - accuracy: 1.0000 - val_loss: 0.2656 - val_accuracy: 0.9347\n",
            "Epoch 275/320\n",
            "1789/1789 [==============================] - 0s 21us/step - loss: 0.0068 - accuracy: 1.0000 - val_loss: 0.2635 - val_accuracy: 0.9347\n",
            "Epoch 276/320\n",
            "1789/1789 [==============================] - 0s 20us/step - loss: 0.0070 - accuracy: 1.0000 - val_loss: 0.2657 - val_accuracy: 0.9347\n",
            "Epoch 277/320\n",
            "1789/1789 [==============================] - 0s 21us/step - loss: 0.0067 - accuracy: 1.0000 - val_loss: 0.2654 - val_accuracy: 0.9347\n",
            "Epoch 278/320\n",
            "1789/1789 [==============================] - 0s 21us/step - loss: 0.0065 - accuracy: 1.0000 - val_loss: 0.2611 - val_accuracy: 0.9347\n",
            "Epoch 279/320\n",
            "1789/1789 [==============================] - 0s 21us/step - loss: 0.0066 - accuracy: 1.0000 - val_loss: 0.2735 - val_accuracy: 0.9347\n",
            "Epoch 280/320\n",
            "1789/1789 [==============================] - 0s 21us/step - loss: 0.0065 - accuracy: 1.0000 - val_loss: 0.2666 - val_accuracy: 0.9397\n",
            "Epoch 281/320\n",
            "1789/1789 [==============================] - 0s 21us/step - loss: 0.0063 - accuracy: 1.0000 - val_loss: 0.2680 - val_accuracy: 0.9347\n",
            "Epoch 282/320\n",
            "1789/1789 [==============================] - 0s 23us/step - loss: 0.0062 - accuracy: 1.0000 - val_loss: 0.2715 - val_accuracy: 0.9347\n",
            "Epoch 283/320\n",
            "1789/1789 [==============================] - 0s 22us/step - loss: 0.0062 - accuracy: 1.0000 - val_loss: 0.2749 - val_accuracy: 0.9347\n",
            "Epoch 284/320\n",
            "1789/1789 [==============================] - 0s 22us/step - loss: 0.0061 - accuracy: 1.0000 - val_loss: 0.2732 - val_accuracy: 0.9397\n",
            "Epoch 285/320\n",
            "1789/1789 [==============================] - 0s 23us/step - loss: 0.0059 - accuracy: 1.0000 - val_loss: 0.2625 - val_accuracy: 0.9397\n",
            "Epoch 286/320\n",
            "1789/1789 [==============================] - 0s 21us/step - loss: 0.0059 - accuracy: 1.0000 - val_loss: 0.2740 - val_accuracy: 0.9347\n",
            "Epoch 287/320\n",
            "1789/1789 [==============================] - 0s 24us/step - loss: 0.0059 - accuracy: 1.0000 - val_loss: 0.2743 - val_accuracy: 0.9397\n",
            "Epoch 288/320\n",
            "1789/1789 [==============================] - 0s 20us/step - loss: 0.0058 - accuracy: 1.0000 - val_loss: 0.2769 - val_accuracy: 0.9347\n",
            "Epoch 289/320\n",
            "1789/1789 [==============================] - 0s 22us/step - loss: 0.0057 - accuracy: 1.0000 - val_loss: 0.2796 - val_accuracy: 0.9397\n",
            "Epoch 290/320\n",
            "1789/1789 [==============================] - 0s 23us/step - loss: 0.0057 - accuracy: 1.0000 - val_loss: 0.2683 - val_accuracy: 0.9397\n",
            "Epoch 291/320\n",
            "1789/1789 [==============================] - 0s 22us/step - loss: 0.0055 - accuracy: 1.0000 - val_loss: 0.2800 - val_accuracy: 0.9397\n",
            "Epoch 292/320\n",
            "1789/1789 [==============================] - 0s 22us/step - loss: 0.0054 - accuracy: 1.0000 - val_loss: 0.2810 - val_accuracy: 0.9397\n",
            "Epoch 293/320\n",
            "1789/1789 [==============================] - 0s 23us/step - loss: 0.0054 - accuracy: 1.0000 - val_loss: 0.2750 - val_accuracy: 0.9347\n",
            "Epoch 294/320\n",
            "1789/1789 [==============================] - 0s 20us/step - loss: 0.0054 - accuracy: 1.0000 - val_loss: 0.2717 - val_accuracy: 0.9347\n",
            "Epoch 295/320\n",
            "1789/1789 [==============================] - 0s 22us/step - loss: 0.0053 - accuracy: 1.0000 - val_loss: 0.2775 - val_accuracy: 0.9397\n",
            "Epoch 296/320\n",
            "1789/1789 [==============================] - 0s 23us/step - loss: 0.0051 - accuracy: 1.0000 - val_loss: 0.2734 - val_accuracy: 0.9397\n",
            "Epoch 297/320\n",
            "1789/1789 [==============================] - 0s 21us/step - loss: 0.0051 - accuracy: 1.0000 - val_loss: 0.2789 - val_accuracy: 0.9397\n",
            "Epoch 298/320\n",
            "1789/1789 [==============================] - 0s 21us/step - loss: 0.0050 - accuracy: 1.0000 - val_loss: 0.2847 - val_accuracy: 0.9397\n",
            "Epoch 299/320\n",
            "1789/1789 [==============================] - 0s 21us/step - loss: 0.0053 - accuracy: 1.0000 - val_loss: 0.2762 - val_accuracy: 0.9347\n",
            "Epoch 300/320\n",
            "1789/1789 [==============================] - 0s 22us/step - loss: 0.0050 - accuracy: 1.0000 - val_loss: 0.2856 - val_accuracy: 0.9347\n",
            "Epoch 301/320\n",
            "1789/1789 [==============================] - 0s 22us/step - loss: 0.0048 - accuracy: 1.0000 - val_loss: 0.2859 - val_accuracy: 0.9397\n",
            "Epoch 302/320\n",
            "1789/1789 [==============================] - 0s 22us/step - loss: 0.0047 - accuracy: 1.0000 - val_loss: 0.2843 - val_accuracy: 0.9347\n",
            "Epoch 303/320\n",
            "1789/1789 [==============================] - 0s 20us/step - loss: 0.0048 - accuracy: 1.0000 - val_loss: 0.2804 - val_accuracy: 0.9347\n",
            "Epoch 304/320\n",
            "1789/1789 [==============================] - 0s 22us/step - loss: 0.0047 - accuracy: 1.0000 - val_loss: 0.2880 - val_accuracy: 0.9397\n",
            "Epoch 305/320\n",
            "1789/1789 [==============================] - 0s 23us/step - loss: 0.0047 - accuracy: 1.0000 - val_loss: 0.2913 - val_accuracy: 0.9397\n",
            "Epoch 306/320\n",
            "1789/1789 [==============================] - 0s 23us/step - loss: 0.0045 - accuracy: 1.0000 - val_loss: 0.2869 - val_accuracy: 0.9397\n",
            "Epoch 307/320\n",
            "1789/1789 [==============================] - 0s 22us/step - loss: 0.0045 - accuracy: 1.0000 - val_loss: 0.2881 - val_accuracy: 0.9347\n",
            "Epoch 308/320\n",
            "1789/1789 [==============================] - 0s 22us/step - loss: 0.0043 - accuracy: 1.0000 - val_loss: 0.2927 - val_accuracy: 0.9397\n",
            "Epoch 309/320\n",
            "1789/1789 [==============================] - 0s 22us/step - loss: 0.0043 - accuracy: 1.0000 - val_loss: 0.2844 - val_accuracy: 0.9347\n",
            "Epoch 310/320\n",
            "1789/1789 [==============================] - 0s 22us/step - loss: 0.0043 - accuracy: 1.0000 - val_loss: 0.2914 - val_accuracy: 0.9397\n",
            "Epoch 311/320\n",
            "1789/1789 [==============================] - 0s 24us/step - loss: 0.0043 - accuracy: 1.0000 - val_loss: 0.2984 - val_accuracy: 0.9397\n",
            "Epoch 312/320\n",
            "1789/1789 [==============================] - 0s 25us/step - loss: 0.0044 - accuracy: 1.0000 - val_loss: 0.2900 - val_accuracy: 0.9347\n",
            "Epoch 313/320\n",
            "1789/1789 [==============================] - 0s 21us/step - loss: 0.0041 - accuracy: 1.0000 - val_loss: 0.2948 - val_accuracy: 0.9397\n",
            "Epoch 314/320\n",
            "1789/1789 [==============================] - 0s 21us/step - loss: 0.0040 - accuracy: 1.0000 - val_loss: 0.2932 - val_accuracy: 0.9397\n",
            "Epoch 315/320\n",
            "1789/1789 [==============================] - 0s 24us/step - loss: 0.0039 - accuracy: 1.0000 - val_loss: 0.2923 - val_accuracy: 0.9347\n",
            "Epoch 316/320\n",
            "1789/1789 [==============================] - 0s 20us/step - loss: 0.0041 - accuracy: 1.0000 - val_loss: 0.3023 - val_accuracy: 0.9397\n",
            "Epoch 317/320\n",
            "1789/1789 [==============================] - 0s 23us/step - loss: 0.0040 - accuracy: 1.0000 - val_loss: 0.3029 - val_accuracy: 0.9397\n",
            "Epoch 318/320\n",
            "1789/1789 [==============================] - 0s 21us/step - loss: 0.0039 - accuracy: 1.0000 - val_loss: 0.2969 - val_accuracy: 0.9397\n",
            "Epoch 319/320\n",
            "1789/1789 [==============================] - 0s 21us/step - loss: 0.0038 - accuracy: 1.0000 - val_loss: 0.2990 - val_accuracy: 0.9397\n",
            "Epoch 320/320\n",
            "1789/1789 [==============================] - 0s 23us/step - loss: 0.0038 - accuracy: 1.0000 - val_loss: 0.2969 - val_accuracy: 0.9397\n"
          ],
          "name": "stdout"
        }
      ]
    },
    {
      "cell_type": "markdown",
      "metadata": {
        "id": "GAQ_L5uVsO4b",
        "colab_type": "text"
      },
      "source": [
        "If the test set is locked away, but you still want to measure performance on unseen data as a way of selecting a good hypothesis, then divide the available data (without the test set) into a training set and a validation set."
      ]
    },
    {
      "cell_type": "markdown",
      "metadata": {
        "id": "tsXP_8szDFoM",
        "colab_type": "text"
      },
      "source": [
        "**Look at the optimized weights!**"
      ]
    },
    {
      "cell_type": "code",
      "metadata": {
        "id": "bfrpjTZ4DKBV",
        "colab_type": "code",
        "colab": {
          "base_uri": "https://localhost:8080/",
          "height": 1000
        },
        "outputId": "35729fec-bab3-4a24-b137-1e1195345011"
      },
      "source": [
        "for layer in model.layers: \n",
        "  print(layer.get_config(), layer.get_weights())"
      ],
      "execution_count": null,
      "outputs": [
        {
          "output_type": "stream",
          "text": [
            "{'name': 'dense_5', 'trainable': True, 'batch_input_shape': (None, 20), 'dtype': 'float32', 'units': 12, 'activation': 'relu', 'use_bias': True, 'kernel_initializer': {'class_name': 'VarianceScaling', 'config': {'scale': 1.0, 'mode': 'fan_avg', 'distribution': 'uniform', 'seed': None}}, 'bias_initializer': {'class_name': 'Zeros', 'config': {}}, 'kernel_regularizer': None, 'bias_regularizer': None, 'activity_regularizer': None, 'kernel_constraint': None, 'bias_constraint': None} [array([[ 1.93077266e-01, -3.49520802e-01,  2.28680566e-01,\n",
            "         2.49495074e-01, -7.40822136e-01, -1.91622321e-02,\n",
            "         2.49960139e-01,  6.72497451e-01,  7.98730969e-01,\n",
            "         2.15712145e-01, -4.05130655e-01, -6.09054148e-01],\n",
            "       [-1.40114486e-01, -5.46588786e-02, -1.68889850e-01,\n",
            "        -3.64974350e-01, -1.96157545e-01,  1.75504863e-01,\n",
            "        -4.08922434e-02,  1.20362490e-01,  1.08710632e-01,\n",
            "         1.42387450e-02,  4.81135100e-02,  2.87223786e-01],\n",
            "       [ 4.41681683e-01, -2.33867258e-01,  1.97721589e-02,\n",
            "         6.97394311e-01,  1.03307001e-01,  4.93409066e-03,\n",
            "         2.16277838e-01,  1.97258279e-01, -3.95368814e-01,\n",
            "        -1.50207505e-01,  1.15565665e-01, -1.35843039e-01],\n",
            "       [-2.51042008e-01,  1.56417251e-01,  3.45332138e-02,\n",
            "         1.56375483e-01,  2.43412644e-01, -2.24510841e-02,\n",
            "        -2.31306523e-01,  8.62727873e-03, -2.08068453e-02,\n",
            "         2.92856693e-01,  2.54532639e-02,  3.10491249e-02],\n",
            "       [ 7.98464417e-02,  1.14370519e-02,  5.10114849e-01,\n",
            "        -6.06377244e-01,  4.07273114e-01,  1.07309677e-01,\n",
            "         4.14518975e-02, -2.61789020e-02,  2.19289392e-01,\n",
            "         1.73444971e-01,  2.79943556e-01,  5.71520105e-02],\n",
            "       [ 2.95478143e-02, -1.68372646e-01, -9.70587209e-02,\n",
            "         4.29907262e-01, -1.41635180e-01,  3.09695274e-01,\n",
            "        -1.60270348e-01, -1.83287263e-01,  8.63891318e-02,\n",
            "         2.80993376e-02,  4.56858613e-02, -7.45700896e-02],\n",
            "       [ 1.14215478e-01, -2.84359068e-01, -3.45330536e-02,\n",
            "        -7.99669102e-02, -7.02885315e-02,  5.56296468e-01,\n",
            "        -7.47069949e-03,  4.06056531e-02,  3.90058726e-01,\n",
            "        -6.61865994e-03,  1.07287943e-01,  7.30531141e-02],\n",
            "       [ 2.23769933e-01, -1.37371898e-01, -2.36894459e-01,\n",
            "         1.11081965e-01,  1.87054109e-02,  2.33661085e-01,\n",
            "         3.64229262e-01, -1.23821586e-01,  1.01413026e-01,\n",
            "        -2.11146623e-02, -1.30980864e-01,  1.43559659e-02],\n",
            "       [-1.13133125e-01,  9.38701853e-02,  2.35733569e-01,\n",
            "         1.06319532e-01,  2.43071076e-02, -6.73863441e-02,\n",
            "        -6.35745376e-02,  8.11960995e-02, -3.62407506e-01,\n",
            "        -1.86894774e-01,  2.08955016e-02,  1.12758681e-01],\n",
            "       [ 1.17841825e-01,  1.86440930e-01, -1.22064382e-01,\n",
            "         9.08173919e-02, -1.97593182e-01, -7.83499926e-02,\n",
            "        -6.06553137e-01,  1.40852362e-01,  6.56112850e-01,\n",
            "        -1.77351400e-01,  3.05630028e-01,  1.85199231e-02],\n",
            "       [ 2.01458365e-01, -2.50131249e-01, -2.81072587e-01,\n",
            "         1.77731022e-01, -1.35083631e-01, -1.84090018e-01,\n",
            "        -1.01830535e-01, -2.71345258e-01,  1.43225059e-01,\n",
            "         5.60519807e-02, -3.25649768e-01, -2.04142295e-02],\n",
            "       [ 9.17777717e-02,  2.20424449e-03,  6.18729107e-02,\n",
            "         2.69741900e-02, -1.34610478e-03,  2.98793346e-01,\n",
            "         4.86010909e-01,  1.41400129e-01,  1.28525987e-01,\n",
            "         3.44199330e-01, -4.43820536e-01, -4.60438102e-01],\n",
            "       [ 3.91355902e-01,  1.63521424e-01, -2.31008723e-01,\n",
            "        -2.04829305e-01, -3.64976734e-01,  2.86640048e-01,\n",
            "        -4.47625574e-03,  5.27485311e-02, -3.29603851e-01,\n",
            "         8.36055130e-02, -4.84048724e-01,  9.08666058e-04],\n",
            "       [ 1.42927182e+00,  1.05739021e+00,  1.10241044e+00,\n",
            "        -4.16235745e-01, -1.53323615e+00,  9.62640464e-01,\n",
            "        -5.62097251e-01,  1.68043888e+00,  9.45043415e-02,\n",
            "         1.50366461e+00, -1.43057728e+00, -1.18200982e+00],\n",
            "       [-3.07266533e-01,  2.16504708e-01, -2.10438520e-01,\n",
            "         8.66475627e-02, -2.18425676e-01, -1.06780052e-01,\n",
            "         2.92870831e-02,  2.87564546e-01,  8.21973681e-02,\n",
            "        -1.86990783e-01,  3.88571650e-01, -2.99959093e-01],\n",
            "       [ 2.40575969e-01,  2.85813481e-01, -4.41585034e-01,\n",
            "         3.01619321e-01,  7.78938830e-02,  1.90109774e-01,\n",
            "        -2.57491410e-01, -1.53242812e-01,  1.10654300e-02,\n",
            "         4.16651182e-03, -1.91481292e-01,  2.04580396e-01],\n",
            "       [ 7.83809498e-02,  4.18122232e-01,  4.72156763e-01,\n",
            "        -1.36572933e-02,  2.60737449e-01,  2.13611443e-02,\n",
            "        -4.64076072e-01,  7.30348304e-02, -4.81225215e-02,\n",
            "        -2.25216985e-01,  5.11206388e-02, -3.51943225e-02],\n",
            "       [-1.29147038e-01, -2.77422033e-02, -2.56892550e-03,\n",
            "         6.47040009e-02,  1.62618831e-01, -2.16517925e-01,\n",
            "        -1.17324635e-01,  6.21512458e-02,  2.04254717e-01,\n",
            "         1.96436554e-01, -2.56179810e-01,  1.50004014e-01],\n",
            "       [-1.97016262e-02,  7.73466676e-02,  1.60200924e-01,\n",
            "         2.10815743e-01,  2.46846154e-01,  3.33359271e-01,\n",
            "        -4.91408288e-01, -1.76946253e-01,  9.22133029e-01,\n",
            "        -1.14941485e-01, -7.08384737e-02, -1.62188839e-02],\n",
            "       [-2.05245495e-01,  2.51686722e-01, -2.06466213e-01,\n",
            "         5.92085242e-01,  6.33502901e-02,  3.70863140e-01,\n",
            "        -3.37379009e-01,  2.23956972e-01,  1.66026037e-02,\n",
            "        -5.94114140e-03,  1.34228945e-01,  1.35731757e-01]], dtype=float32), array([0.75301933, 1.3132776 , 0.9436176 , 0.94716215, 0.6427042 ,\n",
            "       0.01381767, 1.5607455 , 0.7680762 , 0.30073267, 1.0928333 ,\n",
            "       0.99577105, 1.6045521 ], dtype=float32)]\n",
            "{'name': 'dense_6', 'trainable': True, 'dtype': 'float32', 'units': 12, 'activation': 'relu', 'use_bias': True, 'kernel_initializer': {'class_name': 'VarianceScaling', 'config': {'scale': 1.0, 'mode': 'fan_avg', 'distribution': 'uniform', 'seed': None}}, 'bias_initializer': {'class_name': 'Zeros', 'config': {}}, 'kernel_regularizer': None, 'bias_regularizer': None, 'activity_regularizer': None, 'kernel_constraint': None, 'bias_constraint': None} [array([[-1.587047  ,  1.4937543 ,  0.24869692, -0.33447015, -0.3098581 ,\n",
            "        -0.2873693 ,  1.3410599 ,  1.3562    , -0.8521207 ,  0.20192677,\n",
            "        -0.02177976, -0.55365336],\n",
            "       [-0.76457226,  0.81258357,  1.0052646 ,  0.4157993 , -0.04254624,\n",
            "         0.49560323,  0.7799023 ,  0.7303924 , -0.46880624, -0.23327555,\n",
            "        -0.69254446,  0.24523643],\n",
            "       [-0.9822043 ,  0.6070619 ,  0.43639737,  0.27501595,  0.205735  ,\n",
            "         0.33867264,  0.7931823 ,  0.9281189 , -0.03976925,  0.19175245,\n",
            "        -0.35378027,  0.647934  ],\n",
            "       [ 0.16831146, -0.0115774 ,  0.12847586,  0.17993633, -0.5221919 ,\n",
            "         0.56075716,  0.03780978,  0.28485686,  0.6523845 ,  0.6371719 ,\n",
            "         1.160228  ,  0.76965326],\n",
            "       [ 1.0730635 , -0.28024736, -0.42588872,  1.2740606 , -0.52093434,\n",
            "         0.38055614, -0.4127944 , -0.54751396,  0.93880975, -0.5936696 ,\n",
            "         0.04524964,  1.7901675 ],\n",
            "       [-1.3073747 ,  0.33307606,  0.6429144 ,  0.10909554, -0.22415578,\n",
            "        -0.20527862,  0.8887747 ,  0.87081385, -0.66323984, -0.7083192 ,\n",
            "        -1.713561  , -0.42643806],\n",
            "       [-0.11287089,  0.17308365,  0.17033824,  0.02885878, -0.2939904 ,\n",
            "         0.598074  ,  0.20354074,  0.35848576,  0.5550724 ,  0.59326476,\n",
            "         0.14925319,  1.0205128 ],\n",
            "       [-1.7288946 ,  1.1775353 ,  0.332764  , -0.15092772, -0.2657731 ,\n",
            "        -0.31398314,  1.4377735 ,  1.628009  , -1.1846935 , -0.27548164,\n",
            "        -0.3474331 , -0.81423855],\n",
            "       [ 0.15627952,  0.2945704 ,  0.12128374, -0.6164046 , -0.15419471,\n",
            "         0.4857338 ,  0.41641256,  0.1527822 , -0.28702006,  0.35175812,\n",
            "         0.16008846,  0.40451697],\n",
            "       [-2.7301514 ,  1.588148  ,  1.6775459 , -0.3410976 ,  0.200935  ,\n",
            "        -0.2534889 ,  0.79855114,  1.1001981 , -1.2715932 , -0.15060355,\n",
            "        -0.41860273, -0.8066297 ],\n",
            "       [ 0.577132  , -0.40734643, -0.15088116,  0.91322833, -0.14547929,\n",
            "         0.66569364, -0.06371002, -0.47935128,  1.5447954 , -0.16667628,\n",
            "        -0.32144576,  1.4762701 ],\n",
            "       [ 0.41496974, -0.03615996, -0.09887117,  1.4259416 ,  0.01074532,\n",
            "         1.0961322 , -0.29359397,  0.00340314,  1.3789642 ,  1.0969175 ,\n",
            "        -0.8284535 ,  1.6931082 ]], dtype=float32), array([-0.62953335,  0.35174367,  0.60815114,  0.5303756 , -0.13287222,\n",
            "        1.1365409 ,  0.3153996 ,  0.21871611,  0.34861332,  0.82788163,\n",
            "       -0.2333608 ,  1.0222509 ], dtype=float32)]\n",
            "{'name': 'dense_7', 'trainable': True, 'dtype': 'float32', 'units': 4, 'activation': 'softmax', 'use_bias': True, 'kernel_initializer': {'class_name': 'VarianceScaling', 'config': {'scale': 1.0, 'mode': 'fan_avg', 'distribution': 'uniform', 'seed': None}}, 'bias_initializer': {'class_name': 'Zeros', 'config': {}}, 'kernel_regularizer': None, 'bias_regularizer': None, 'activity_regularizer': None, 'kernel_constraint': None, 'bias_constraint': None} [array([[ 1.6844479 , -2.2435617 , -0.25184467, -0.46678045],\n",
            "       [-2.2844486 , -0.72361076,  0.5732991 ,  0.6310454 ],\n",
            "       [-1.5966219 ,  0.6747835 ,  0.39279222,  0.54805005],\n",
            "       [ 0.58706385,  0.1917453 ,  0.32884786, -2.1429498 ],\n",
            "       [ 0.05494896, -0.15918952, -0.13016662,  0.06380802],\n",
            "       [-0.28991625,  0.97370684,  0.74796766, -1.8295556 ],\n",
            "       [-3.0730207 , -0.5743627 ,  0.12154031,  0.95017457],\n",
            "       [-2.0475988 , -0.3378856 ,  0.49062443,  1.1789633 ],\n",
            "       [ 1.4246204 ,  1.2297038 , -2.5116298 , -0.35481694],\n",
            "       [-0.58384216,  0.35941002,  1.0835696 , -1.6970097 ],\n",
            "       [ 0.9774092 , -0.7039992 , -1.9183666 , -0.3092969 ],\n",
            "       [ 0.8137755 ,  0.26722956, -0.7244267 , -3.3553538 ]],\n",
            "      dtype=float32), array([-0.17716737,  0.57391536,  0.43290368, -0.8940317 ], dtype=float32)]\n"
          ],
          "name": "stdout"
        }
      ]
    },
    {
      "cell_type": "markdown",
      "metadata": {
        "id": "EERbv8ArfblG",
        "colab_type": "text"
      },
      "source": [
        "Inverse One Hot Encoding"
      ]
    },
    {
      "cell_type": "code",
      "metadata": {
        "id": "F9drz13YT6jG",
        "colab_type": "code",
        "colab": {}
      },
      "source": [
        "y_pred = model.predict(X_test)\n",
        "#Converting predictions to label\n",
        "pred = list()\n",
        "for i in range(len(y_pred)):\n",
        "    pred.append(np.argmax(y_pred[i]))\n",
        "#Converting one hot encoded test label to label\n",
        "test = list()\n",
        "for i in range(len(y_test)):\n",
        "    test.append(np.argmax(y_test[i]))"
      ],
      "execution_count": null,
      "outputs": []
    },
    {
      "cell_type": "code",
      "metadata": {
        "id": "wDe4-H4KUCxK",
        "colab_type": "code",
        "colab": {
          "base_uri": "https://localhost:8080/",
          "height": 34
        },
        "outputId": "4771e3e4-329d-43a4-bc23-f797c985e832"
      },
      "source": [
        "from sklearn.metrics import accuracy_score\n",
        "a = accuracy_score(pred,test)\n",
        "print('Accuracy:', a*100)"
      ],
      "execution_count": null,
      "outputs": [
        {
          "output_type": "stream",
          "text": [
            "Accuracy: 93.96984924623115\n"
          ],
          "name": "stdout"
        }
      ]
    },
    {
      "cell_type": "code",
      "metadata": {
        "id": "sRNWcMdQhplP",
        "colab_type": "code",
        "colab": {
          "base_uri": "https://localhost:8080/",
          "height": 295
        },
        "outputId": "f5c031e3-6f53-457e-cf1c-8da4470355be"
      },
      "source": [
        "plt.plot(history.history['accuracy'])\n",
        "plt.plot(history.history['val_accuracy'])\n",
        "plt.title('Model accuracy')\n",
        "plt.ylabel('Accuracy')\n",
        "plt.xlabel('Epoch')\n",
        "plt.legend(['Train', 'Test'], loc='upper left')\n",
        "plt.show()"
      ],
      "execution_count": null,
      "outputs": [
        {
          "output_type": "display_data",
          "data": {
            "image/png": "[encoded data removed]",
            "text/plain": [
              "<Figure size 432x288 with 1 Axes>"
            ]
          },
          "metadata": {
            "tags": [],
            "needs_background": "light"
          }
        }
      ]
    },
    {
      "cell_type": "code",
      "metadata": {
        "id": "meH8qY29h3Lv",
        "colab_type": "code",
        "colab": {
          "base_uri": "https://localhost:8080/",
          "height": 295
        },
        "outputId": "1ef5c3a6-f43e-44cf-8ed6-4611e67a1870"
      },
      "source": [
        "plt.plot(history.history['loss']) \n",
        "plt.plot(history.history['val_loss']) \n",
        "plt.title('Model loss') \n",
        "plt.ylabel('Loss') \n",
        "plt.xlabel('Epoch') \n",
        "plt.legend(['Train', 'Test'], loc='upper left') \n",
        "plt.show()"
      ],
      "execution_count": null,
      "outputs": [
        {
          "output_type": "display_data",
          "data": {
            "image/png": "[encoded data removed]",
            "text/plain": [
              "<Figure size 432x288 with 1 Axes>"
            ]
          },
          "metadata": {
            "tags": [],
            "needs_background": "light"
          }
        }
      ]
    },
    {
      "cell_type": "markdown",
      "metadata": {
        "id": "cyoh6Oi6_ta0",
        "colab_type": "text"
      },
      "source": [
        "Confusion Matrix"
      ]
    },
    {
      "cell_type": "code",
      "metadata": {
        "id": "gfuo8TV5VWiS",
        "colab_type": "code",
        "colab": {
          "base_uri": "https://localhost:8080/",
          "height": 279
        },
        "outputId": "f21e6110-bcb0-440e-e529-8301d39ceb6b"
      },
      "source": [
        "from sklearn.metrics import confusion_matrix\n",
        "cf_matrix = confusion_matrix(test, pred)\n",
        "ax = sns.heatmap(cf_matrix/np.sum(cf_matrix), annot=True, fmt='.2%')\n",
        "ax.set(xlabel='Actual', ylabel='Predicted')\n",
        "plt.show()"
      ],
      "execution_count": null,
      "outputs": [
        {
          "output_type": "display_data",
          "data": {
            "image/png": "[encoded data removed]",
            "text/plain": [
              "<Figure size 432x288 with 2 Axes>"
            ]
          },
          "metadata": {
            "tags": [],
            "needs_background": "light"
          }
        }
      ]
    },
    {
      "cell_type": "code",
      "metadata": {
        "id": "V0efWtdkM0Cl",
        "colab_type": "code",
        "colab": {
          "base_uri": "https://localhost:8080/",
          "height": 331
        },
        "outputId": "55cf731d-9266-4a26-df53-5ff56d4c8ed4"
      },
      "source": [
        "corr = dataset.corr()\n",
        "ax = sns.heatmap(\n",
        "    corr, \n",
        "    vmin=-1, vmax=1, center=0,\n",
        "    cmap=sns.diverging_palette(20, 220)\n",
        ")\n",
        "ax.set_xticklabels(\n",
        "    ax.get_xticklabels(),\n",
        "    rotation=90\n",
        ");"
      ],
      "execution_count": null,
      "outputs": [
        {
          "output_type": "display_data",
          "data": {
            "image/png": "[encoded data removed]",
            "text/plain": [
              "<Figure size 432x288 with 2 Axes>"
            ]
          },
          "metadata": {
            "tags": [],
            "needs_background": "light"
          }
        }
      ]
    },
    {
      "cell_type": "code",
      "metadata": {
        "id": "4hJ0LtZCiblq",
        "colab_type": "code",
        "colab": {
          "base_uri": "https://localhost:8080/",
          "height": 67
        },
        "outputId": "a2c8c081-68fc-464f-81e9-1d3b38ad8fd6"
      },
      "source": [
        "Xnew = np.array([[1456,0,1.6,1,5,0,49,0.2,193,3,20,1285,1427,3624,12,11,16,1,1,0]])\n",
        "ynew = model.predict_classes(Xnew)\n",
        "print(\"X=%s, Predicted=%s\" % (Xnew[0], ynew[0])) "
      ],
      "execution_count": null,
      "outputs": [
        {
          "output_type": "stream",
          "text": [
            "X=[1.456e+03 0.000e+00 1.600e+00 1.000e+00 5.000e+00 0.000e+00 4.900e+01\n",
            " 2.000e-01 1.930e+02 3.000e+00 2.000e+01 1.285e+03 1.427e+03 3.624e+03\n",
            " 1.200e+01 1.100e+01 1.600e+01 1.000e+00 1.000e+00 0.000e+00], Predicted=3\n"
          ],
          "name": "stdout"
        }
      ]
    },
    {
      "cell_type": "code",
      "metadata": {
        "id": "KCK5Ulu8C4Xp",
        "colab_type": "code",
        "colab": {}
      },
      "source": [
        ""
      ],
      "execution_count": null,
      "outputs": []
    }
  ]
}