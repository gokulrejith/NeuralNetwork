{
  "nbformat": 4,
  "nbformat_minor": 0,
  "metadata": {
    "colab": {
      "name": "kerasANNc1.ipynb",
      "provenance": [],
      "collapsed_sections": [],
      "mount_file_id": "1_sbPrrqP_Di27djkd4Svk6V2b_h0-yK-",
      "authorship_tag": "ABX9TyOnAk+LLWoIhWdajln1ntOr",
      "include_colab_link": true
    },
    "kernelspec": {
      "name": "python3",
      "display_name": "Python 3"
    }
  },
  "cells": [
    {
      "cell_type": "markdown",
      "metadata": {
        "id": "view-in-github",
        "colab_type": "text"
      },
      "source": [
        "<a href=\"https://colab.research.google.com/github/gokulrejith/NeuralNetwork/blob/master/kerasANNc1.ipynb\" target=\"_parent\"><img src=\"https://colab.research.google.com/assets/colab-badge.svg\" alt=\"Open In Colab\"/></a>"
      ]
    },
    {
      "cell_type": "markdown",
      "metadata": {
        "id": "DEzrlK7oXePu",
        "colab_type": "text"
      },
      "source": [
        "#**Artificial Neural Network (ANN) - Keras**"
      ]
    },
    {
      "cell_type": "markdown",
      "metadata": {
        "id": "WLbOUJ5I_LhF",
        "colab_type": "text"
      },
      "source": [
        "Import Numerical python (Numpy) & Pandas for loading and manipulating data"
      ]
    },
    {
      "cell_type": "code",
      "metadata": {
        "id": "mY1czRi49oaS",
        "colab_type": "code",
        "colab": {}
      },
      "source": [
        "import numpy as np\n",
        "import pandas as pd"
      ],
      "execution_count": 1,
      "outputs": []
    },
    {
      "cell_type": "markdown",
      "metadata": {
        "id": "ErYJgjy2B5Xa",
        "colab_type": "text"
      },
      "source": [
        "Load the dataset and show data stats"
      ]
    },
    {
      "cell_type": "code",
      "metadata": {
        "id": "uInOdM8W_rEJ",
        "colab_type": "code",
        "colab": {
          "base_uri": "https://localhost:8080/",
          "height": 487
        },
        "outputId": "5666691f-8fdf-4d1b-f909-a68067a46d8c"
      },
      "source": [
        "dataset = pd.read_csv(\"/content/drive/My Drive/MobileData.csv\") \n",
        "dataset.info()"
      ],
      "execution_count": 2,
      "outputs": [
        {
          "output_type": "stream",
          "text": [
            "<class 'pandas.core.frame.DataFrame'>\n",
            "RangeIndex: 2000 entries, 0 to 1999\n",
            "Data columns (total 21 columns):\n",
            " #   Column         Non-Null Count  Dtype  \n",
            "---  ------         --------------  -----  \n",
            " 0   battery_power  2000 non-null   int64  \n",
            " 1   blue           2000 non-null   int64  \n",
            " 2   clock_speed    2000 non-null   float64\n",
            " 3   dual_sim       2000 non-null   int64  \n",
            " 4   fc             2000 non-null   int64  \n",
            " 5   four_g         2000 non-null   int64  \n",
            " 6   int_memory     2000 non-null   int64  \n",
            " 7   m_dep          2000 non-null   float64\n",
            " 8   mobile_wt      2000 non-null   int64  \n",
            " 9   n_cores        2000 non-null   int64  \n",
            " 10  pc             2000 non-null   int64  \n",
            " 11  px_height      2000 non-null   int64  \n",
            " 12  px_width       2000 non-null   int64  \n",
            " 13  ram            2000 non-null   int64  \n",
            " 14  sc_h           2000 non-null   int64  \n",
            " 15  sc_w           2000 non-null   int64  \n",
            " 16  talk_time      2000 non-null   int64  \n",
            " 17  three_g        2000 non-null   int64  \n",
            " 18  touch_screen   2000 non-null   int64  \n",
            " 19  wifi           2000 non-null   int64  \n",
            " 20  price_range    2000 non-null   int64  \n",
            "dtypes: float64(2), int64(19)\n",
            "memory usage: 328.2 KB\n"
          ],
          "name": "stdout"
        }
      ]
    },
    {
      "cell_type": "code",
      "metadata": {
        "id": "OrOCyX6l_4Q-",
        "colab_type": "code",
        "colab": {
          "base_uri": "https://localhost:8080/",
          "height": 304
        },
        "outputId": "3259d0dc-9c82-4c91-ca5c-f7e6895b5cd2"
      },
      "source": [
        "pd.set_option('display.max_columns', None) # To show all columns\n",
        "dataset.head(8)"
      ],
      "execution_count": 3,
      "outputs": [
        {
          "output_type": "execute_result",
          "data": {
            "text/html": [
              "<div>\n",
              "<style scoped>\n",
              "    .dataframe tbody tr th:only-of-type {\n",
              "        vertical-align: middle;\n",
              "    }\n",
              "\n",
              "    .dataframe tbody tr th {\n",
              "        vertical-align: top;\n",
              "    }\n",
              "\n",
              "    .dataframe thead th {\n",
              "        text-align: right;\n",
              "    }\n",
              "</style>\n",
              "<table border=\"1\" class=\"dataframe\">\n",
              "  <thead>\n",
              "    <tr style=\"text-align: right;\">\n",
              "      <th></th>\n",
              "      <th>battery_power</th>\n",
              "      <th>blue</th>\n",
              "      <th>clock_speed</th>\n",
              "      <th>dual_sim</th>\n",
              "      <th>fc</th>\n",
              "      <th>four_g</th>\n",
              "      <th>int_memory</th>\n",
              "      <th>m_dep</th>\n",
              "      <th>mobile_wt</th>\n",
              "      <th>n_cores</th>\n",
              "      <th>pc</th>\n",
              "      <th>px_height</th>\n",
              "      <th>px_width</th>\n",
              "      <th>ram</th>\n",
              "      <th>sc_h</th>\n",
              "      <th>sc_w</th>\n",
              "      <th>talk_time</th>\n",
              "      <th>three_g</th>\n",
              "      <th>touch_screen</th>\n",
              "      <th>wifi</th>\n",
              "      <th>price_range</th>\n",
              "    </tr>\n",
              "  </thead>\n",
              "  <tbody>\n",
              "    <tr>\n",
              "      <th>0</th>\n",
              "      <td>842</td>\n",
              "      <td>0</td>\n",
              "      <td>2.2</td>\n",
              "      <td>0</td>\n",
              "      <td>1</td>\n",
              "      <td>0</td>\n",
              "      <td>7</td>\n",
              "      <td>0.6</td>\n",
              "      <td>188</td>\n",
              "      <td>2</td>\n",
              "      <td>2</td>\n",
              "      <td>20</td>\n",
              "      <td>756</td>\n",
              "      <td>2549</td>\n",
              "      <td>9</td>\n",
              "      <td>7</td>\n",
              "      <td>19</td>\n",
              "      <td>0</td>\n",
              "      <td>0</td>\n",
              "      <td>1</td>\n",
              "      <td>1</td>\n",
              "    </tr>\n",
              "    <tr>\n",
              "      <th>1</th>\n",
              "      <td>1021</td>\n",
              "      <td>1</td>\n",
              "      <td>0.5</td>\n",
              "      <td>1</td>\n",
              "      <td>0</td>\n",
              "      <td>1</td>\n",
              "      <td>53</td>\n",
              "      <td>0.7</td>\n",
              "      <td>136</td>\n",
              "      <td>3</td>\n",
              "      <td>6</td>\n",
              "      <td>905</td>\n",
              "      <td>1988</td>\n",
              "      <td>2631</td>\n",
              "      <td>17</td>\n",
              "      <td>3</td>\n",
              "      <td>7</td>\n",
              "      <td>1</td>\n",
              "      <td>1</td>\n",
              "      <td>0</td>\n",
              "      <td>2</td>\n",
              "    </tr>\n",
              "    <tr>\n",
              "      <th>2</th>\n",
              "      <td>563</td>\n",
              "      <td>1</td>\n",
              "      <td>0.5</td>\n",
              "      <td>1</td>\n",
              "      <td>2</td>\n",
              "      <td>1</td>\n",
              "      <td>41</td>\n",
              "      <td>0.9</td>\n",
              "      <td>145</td>\n",
              "      <td>5</td>\n",
              "      <td>6</td>\n",
              "      <td>1263</td>\n",
              "      <td>1716</td>\n",
              "      <td>2603</td>\n",
              "      <td>11</td>\n",
              "      <td>2</td>\n",
              "      <td>9</td>\n",
              "      <td>1</td>\n",
              "      <td>1</td>\n",
              "      <td>0</td>\n",
              "      <td>2</td>\n",
              "    </tr>\n",
              "    <tr>\n",
              "      <th>3</th>\n",
              "      <td>615</td>\n",
              "      <td>1</td>\n",
              "      <td>2.5</td>\n",
              "      <td>0</td>\n",
              "      <td>0</td>\n",
              "      <td>0</td>\n",
              "      <td>10</td>\n",
              "      <td>0.8</td>\n",
              "      <td>131</td>\n",
              "      <td>6</td>\n",
              "      <td>9</td>\n",
              "      <td>1216</td>\n",
              "      <td>1786</td>\n",
              "      <td>2769</td>\n",
              "      <td>16</td>\n",
              "      <td>8</td>\n",
              "      <td>11</td>\n",
              "      <td>1</td>\n",
              "      <td>0</td>\n",
              "      <td>0</td>\n",
              "      <td>2</td>\n",
              "    </tr>\n",
              "    <tr>\n",
              "      <th>4</th>\n",
              "      <td>1821</td>\n",
              "      <td>1</td>\n",
              "      <td>1.2</td>\n",
              "      <td>0</td>\n",
              "      <td>13</td>\n",
              "      <td>1</td>\n",
              "      <td>44</td>\n",
              "      <td>0.6</td>\n",
              "      <td>141</td>\n",
              "      <td>2</td>\n",
              "      <td>14</td>\n",
              "      <td>1208</td>\n",
              "      <td>1212</td>\n",
              "      <td>1411</td>\n",
              "      <td>8</td>\n",
              "      <td>2</td>\n",
              "      <td>15</td>\n",
              "      <td>1</td>\n",
              "      <td>1</td>\n",
              "      <td>0</td>\n",
              "      <td>1</td>\n",
              "    </tr>\n",
              "    <tr>\n",
              "      <th>5</th>\n",
              "      <td>1859</td>\n",
              "      <td>0</td>\n",
              "      <td>0.5</td>\n",
              "      <td>1</td>\n",
              "      <td>3</td>\n",
              "      <td>0</td>\n",
              "      <td>22</td>\n",
              "      <td>0.7</td>\n",
              "      <td>164</td>\n",
              "      <td>1</td>\n",
              "      <td>7</td>\n",
              "      <td>1004</td>\n",
              "      <td>1654</td>\n",
              "      <td>1067</td>\n",
              "      <td>17</td>\n",
              "      <td>1</td>\n",
              "      <td>10</td>\n",
              "      <td>1</td>\n",
              "      <td>0</td>\n",
              "      <td>0</td>\n",
              "      <td>1</td>\n",
              "    </tr>\n",
              "    <tr>\n",
              "      <th>6</th>\n",
              "      <td>1821</td>\n",
              "      <td>0</td>\n",
              "      <td>1.7</td>\n",
              "      <td>0</td>\n",
              "      <td>4</td>\n",
              "      <td>1</td>\n",
              "      <td>10</td>\n",
              "      <td>0.8</td>\n",
              "      <td>139</td>\n",
              "      <td>8</td>\n",
              "      <td>10</td>\n",
              "      <td>381</td>\n",
              "      <td>1018</td>\n",
              "      <td>3220</td>\n",
              "      <td>13</td>\n",
              "      <td>8</td>\n",
              "      <td>18</td>\n",
              "      <td>1</td>\n",
              "      <td>0</td>\n",
              "      <td>1</td>\n",
              "      <td>3</td>\n",
              "    </tr>\n",
              "    <tr>\n",
              "      <th>7</th>\n",
              "      <td>1954</td>\n",
              "      <td>0</td>\n",
              "      <td>0.5</td>\n",
              "      <td>1</td>\n",
              "      <td>0</td>\n",
              "      <td>0</td>\n",
              "      <td>24</td>\n",
              "      <td>0.8</td>\n",
              "      <td>187</td>\n",
              "      <td>4</td>\n",
              "      <td>0</td>\n",
              "      <td>512</td>\n",
              "      <td>1149</td>\n",
              "      <td>700</td>\n",
              "      <td>16</td>\n",
              "      <td>3</td>\n",
              "      <td>5</td>\n",
              "      <td>1</td>\n",
              "      <td>1</td>\n",
              "      <td>1</td>\n",
              "      <td>0</td>\n",
              "    </tr>\n",
              "  </tbody>\n",
              "</table>\n",
              "</div>"
            ],
            "text/plain": [
              "   battery_power  blue  clock_speed  dual_sim  fc  four_g  int_memory  m_dep  \\\n",
              "0            842     0          2.2         0   1       0           7    0.6   \n",
              "1           1021     1          0.5         1   0       1          53    0.7   \n",
              "2            563     1          0.5         1   2       1          41    0.9   \n",
              "3            615     1          2.5         0   0       0          10    0.8   \n",
              "4           1821     1          1.2         0  13       1          44    0.6   \n",
              "5           1859     0          0.5         1   3       0          22    0.7   \n",
              "6           1821     0          1.7         0   4       1          10    0.8   \n",
              "7           1954     0          0.5         1   0       0          24    0.8   \n",
              "\n",
              "   mobile_wt  n_cores  pc  px_height  px_width   ram  sc_h  sc_w  talk_time  \\\n",
              "0        188        2   2         20       756  2549     9     7         19   \n",
              "1        136        3   6        905      1988  2631    17     3          7   \n",
              "2        145        5   6       1263      1716  2603    11     2          9   \n",
              "3        131        6   9       1216      1786  2769    16     8         11   \n",
              "4        141        2  14       1208      1212  1411     8     2         15   \n",
              "5        164        1   7       1004      1654  1067    17     1         10   \n",
              "6        139        8  10        381      1018  3220    13     8         18   \n",
              "7        187        4   0        512      1149   700    16     3          5   \n",
              "\n",
              "   three_g  touch_screen  wifi  price_range  \n",
              "0        0             0     1            1  \n",
              "1        1             1     0            2  \n",
              "2        1             1     0            2  \n",
              "3        1             0     0            2  \n",
              "4        1             1     0            1  \n",
              "5        1             0     0            1  \n",
              "6        1             0     1            3  \n",
              "7        1             1     1            0  "
            ]
          },
          "metadata": {
            "tags": []
          },
          "execution_count": 3
        }
      ]
    },
    {
      "cell_type": "markdown",
      "metadata": {
        "id": "W9OgpNecDofK",
        "colab_type": "text"
      },
      "source": [
        "In the above dataset the aim is to predict the price range in which mobiles lie. So ***price_range*** is the target variable and all others are predictor variables. Prices are classified as 0,1,2,3 in this dataset.\n",
        "|| 0 (low cost)\n",
        "1 (medium cost)\n",
        "2 (high cost)\n",
        "3 (very high cost) ||\n",
        "So, this is a Multivariate classification problem."
      ]
    },
    {
      "cell_type": "markdown",
      "metadata": {
        "id": "otAi74FdHd47",
        "colab_type": "text"
      },
      "source": [
        "Changing pandas dataframe to numpy array and selecting columns (X contains features i.e. predictor variables and y contains the target variables)"
      ]
    },
    {
      "cell_type": "code",
      "metadata": {
        "id": "2KukNAnnEHmD",
        "colab_type": "code",
        "colab": {}
      },
      "source": [
        "X = dataset.iloc[:,:20].values\n",
        "y = dataset.iloc[:,20:21].values"
      ],
      "execution_count": 4,
      "outputs": []
    },
    {
      "cell_type": "markdown",
      "metadata": {
        "id": "KLtSAl9CSVi5",
        "colab_type": "text"
      },
      "source": [
        "##Data Visualizaion & Preprocessing"
      ]
    },
    {
      "cell_type": "code",
      "metadata": {
        "id": "Qg-RaUtF-3uS",
        "colab_type": "code",
        "colab": {
          "base_uri": "https://localhost:8080/",
          "height": 346
        },
        "outputId": "41be36e8-5b9e-4e15-c6ec-c50c4386dedf"
      },
      "source": [
        "# visualize the relationship between the features and classes using scatterplots\n",
        "import seaborn as sns\n",
        "g = sns.pairplot(dataset, x_vars= list(dataset.columns), y_vars='price_range')\n",
        "g.fig.set_size_inches(17,4)"
      ],
      "execution_count": 5,
      "outputs": [
        {
          "output_type": "stream",
          "text": [
            "/usr/local/lib/python3.6/dist-packages/statsmodels/tools/_testing.py:19: FutureWarning: pandas.util.testing is deprecated. Use the functions in the public API at pandas.testing instead.\n",
            "  import pandas.util.testing as tm\n"
          ],
          "name": "stderr"
        },
        {
          "output_type": "display_data",
          "data": {
            "image/png": "[encoded data removed]",
            "text/plain": [
              "<Figure size 1224x288 with 21 Axes>"
            ]
          },
          "metadata": {
            "tags": [],
            "needs_background": "light"
          }
        }
      ]
    },
    {
      "cell_type": "markdown",
      "metadata": {
        "id": "9o_PdZZCH5-A",
        "colab_type": "text"
      },
      "source": [
        "Checking and removing outliers (if any) —> By z-score method"
      ]
    },
    {
      "cell_type": "code",
      "metadata": {
        "id": "hSj8WtrjBW1y",
        "colab_type": "code",
        "colab": {
          "base_uri": "https://localhost:8080/",
          "height": 134
        },
        "outputId": "e61fe41b-b728-47f0-c535-361ff6ecb044"
      },
      "source": [
        "from scipy import stats\n",
        "z = np.abs(stats.zscore(dataset))\n",
        "print(z)"
      ],
      "execution_count": 6,
      "outputs": [
        {
          "output_type": "stream",
          "text": [
            "[[0.90259726 0.9900495  0.83077942 ... 1.00601811 0.98609664 0.4472136 ]\n",
            " [0.49513857 1.0100505  1.2530642  ... 0.99401789 1.01409939 0.4472136 ]\n",
            " [1.5376865  1.0100505  1.2530642  ... 0.99401789 1.01409939 0.4472136 ]\n",
            " ...\n",
            " [1.53077336 0.9900495  0.76274805 ... 0.99401789 1.01409939 1.34164079]\n",
            " [0.62252745 0.9900495  0.76274805 ... 0.99401789 0.98609664 1.34164079]\n",
            " [1.65833069 1.0100505  0.58562134 ... 0.99401789 0.98609664 1.34164079]]\n"
          ],
          "name": "stdout"
        }
      ]
    },
    {
      "cell_type": "code",
      "metadata": {
        "id": "_aqFeUJYBblA",
        "colab_type": "code",
        "colab": {
          "base_uri": "https://localhost:8080/",
          "height": 50
        },
        "outputId": "3206a8c5-b8d9-41cc-cda4-983704c1bd16"
      },
      "source": [
        "print(np.where(z > 3))"
      ],
      "execution_count": 7,
      "outputs": [
        {
          "output_type": "stream",
          "text": [
            "(array([  95,  226,  305, 1387, 1406, 1416, 1554, 1693, 1705, 1880, 1882,\n",
            "       1888]), array([4, 4, 4, 4, 4, 4, 4, 4, 4, 4, 4, 4]))\n"
          ],
          "name": "stdout"
        }
      ]
    },
    {
      "cell_type": "code",
      "metadata": {
        "id": "5xsmboFFHOZT",
        "colab_type": "code",
        "colab": {}
      },
      "source": [
        "datasetNew = dataset[(z < 3).all(axis=1)]"
      ],
      "execution_count": 8,
      "outputs": []
    },
    {
      "cell_type": "code",
      "metadata": {
        "id": "7mrg63fWHSof",
        "colab_type": "code",
        "colab": {
          "base_uri": "https://localhost:8080/",
          "height": 50
        },
        "outputId": "b86b3592-6f12-4b84-fbf1-331c8abe026a"
      },
      "source": [
        "print(dataset.shape)\n",
        "print(datasetNew.shape)"
      ],
      "execution_count": 9,
      "outputs": [
        {
          "output_type": "stream",
          "text": [
            "(2000, 21)\n",
            "(1988, 21)\n"
          ],
          "name": "stdout"
        }
      ]
    },
    {
      "cell_type": "code",
      "metadata": {
        "id": "oYgjGc7BIPhT",
        "colab_type": "code",
        "colab": {}
      },
      "source": [
        "X = datasetNew.iloc[:,:20].values #Redefining X & y\n",
        "y = datasetNew.iloc[:,20:21].values"
      ],
      "execution_count": 10,
      "outputs": []
    },
    {
      "cell_type": "markdown",
      "metadata": {
        "id": "uMSn_3UMIPLM",
        "colab_type": "text"
      },
      "source": [
        "Checking whether all classes are balanced\n",
        "\n",
        "\n"
      ]
    },
    {
      "cell_type": "code",
      "metadata": {
        "id": "Bu2KC26VNIWk",
        "colab_type": "code",
        "colab": {
          "base_uri": "https://localhost:8080/",
          "height": 458
        },
        "outputId": "75c550c5-8884-4621-c3a0-1e87520b99e9"
      },
      "source": [
        "from matplotlib import pyplot as plt\n",
        "fig, ax = plt.subplots(figsize =(10, 7)) \n",
        "ax.hist(y) \n",
        "plt.xlabel(\"X-axis (Value)\") \n",
        "plt.ylabel(\"y-axis (Frequency)\")\n",
        "plt.title('Target variable') \n",
        "plt.show()"
      ],
      "execution_count": 11,
      "outputs": [
        {
          "output_type": "display_data",
          "data": {
            "image/png": "[encoded data removed]",
            "text/plain": [
              "<Figure size 720x504 with 1 Axes>"
            ]
          },
          "metadata": {
            "tags": [],
            "needs_background": "light"
          }
        }
      ]
    },
    {
      "cell_type": "markdown",
      "metadata": {
        "id": "yl9-s52nPGZ7",
        "colab_type": "text"
      },
      "source": [
        "Checking whether predictor variables (X) needs to be **normalized**"
      ]
    },
    {
      "cell_type": "code",
      "metadata": {
        "id": "dvqnJQAzMLuC",
        "colab_type": "code",
        "colab": {
          "base_uri": "https://localhost:8080/",
          "height": 458
        },
        "outputId": "74fef00c-22da-46e7-8b51-8558d5480eb3"
      },
      "source": [
        "fig, ax = plt.subplots(figsize =(10, 7)) \n",
        "ax.hist(X , bins = 5) \n",
        "plt.xlabel(\"X-axis (Value)\") \n",
        "plt.ylabel(\"y-axis (Frequency)\")\n",
        "plt.title('Preditor variables') \n",
        "plt.show()"
      ],
      "execution_count": 12,
      "outputs": [
        {
          "output_type": "display_data",
          "data": {
            "image/png": "[encoded data removed]",
            "text/plain": [
              "<Figure size 720x504 with 1 Axes>"
            ]
          },
          "metadata": {
            "tags": [],
            "needs_background": "light"
          }
        }
      ]
    },
    {
      "cell_type": "markdown",
      "metadata": {
        "id": "kPPOMaKHPchq",
        "colab_type": "text"
      },
      "source": [
        "From the histogram we can see that the values lie in various ranges. So we need to bring all the values into a particular range without distorting the differences in the range of values. Normalization can also improve accuracy. Also algorithms like gradient descent can converge much faster if normalization is done.\n"
      ]
    },
    {
      "cell_type": "code",
      "metadata": {
        "id": "kFhGgXZ9HqnU",
        "colab_type": "code",
        "colab": {}
      },
      "source": [
        "from sklearn.preprocessing import StandardScaler\n",
        "sc = StandardScaler()\n",
        "X = sc.fit_transform(X)"
      ],
      "execution_count": 13,
      "outputs": []
    },
    {
      "cell_type": "code",
      "metadata": {
        "id": "IyAQXfPMMfNV",
        "colab_type": "code",
        "colab": {
          "base_uri": "https://localhost:8080/",
          "height": 458
        },
        "outputId": "2a4b8566-a45e-49cb-f446-ffc7083cc759"
      },
      "source": [
        "fig, ax = plt.subplots(figsize =(10, 7)) \n",
        "ax.hist(X, bins = 5) \n",
        "plt.xlabel(\"X-axis (Value)\") \n",
        "plt.ylabel(\"y-axis (Frequency)\")\n",
        "plt.title('Predictor variables') \n",
        "plt.show()"
      ],
      "execution_count": 14,
      "outputs": [
        {
          "output_type": "display_data",
          "data": {
            "image/png": "[encoded data removed]",
            "text/plain": [
              "<Figure size 720x504 with 1 Axes>"
            ]
          },
          "metadata": {
            "tags": [],
            "needs_background": "light"
          }
        }
      ]
    },
    {
      "cell_type": "markdown",
      "metadata": {
        "id": "sNcEdpwnQ_eq",
        "colab_type": "text"
      },
      "source": [
        "**One Hot Encoding** - It is a process to convert integer classes into binary values. Our dataset has 4 classes in 0, 1, 2, 3. Now we cannot directly feed this to neural network so we convert it in the form of binary.\n",
        "We can do this using a function in sklearn:"
      ]
    },
    {
      "cell_type": "code",
      "metadata": {
        "id": "5Y-q3d26Q9HB",
        "colab_type": "code",
        "colab": {
          "base_uri": "https://localhost:8080/",
          "height": 134
        },
        "outputId": "506e089f-0605-40ee-d2a1-3415773ba68a"
      },
      "source": [
        "y #Initial Values (Before OHE)"
      ],
      "execution_count": 15,
      "outputs": [
        {
          "output_type": "execute_result",
          "data": {
            "text/plain": [
              "array([[1],\n",
              "       [2],\n",
              "       [2],\n",
              "       ...,\n",
              "       [3],\n",
              "       [0],\n",
              "       [3]])"
            ]
          },
          "metadata": {
            "tags": []
          },
          "execution_count": 15
        }
      ]
    },
    {
      "cell_type": "code",
      "metadata": {
        "id": "YwCQvZCPQ_4a",
        "colab_type": "code",
        "colab": {
          "base_uri": "https://localhost:8080/",
          "height": 134
        },
        "outputId": "0329930b-e87f-4941-fc7c-05568290b2f4"
      },
      "source": [
        "from sklearn.preprocessing import OneHotEncoder\n",
        "ohe = OneHotEncoder()\n",
        "y = ohe.fit_transform(y).toarray()\n",
        "y #After One Hot Encoding"
      ],
      "execution_count": 16,
      "outputs": [
        {
          "output_type": "execute_result",
          "data": {
            "text/plain": [
              "array([[0., 1., 0., 0.],\n",
              "       [0., 0., 1., 0.],\n",
              "       [0., 0., 1., 0.],\n",
              "       ...,\n",
              "       [0., 0., 0., 1.],\n",
              "       [1., 0., 0., 0.],\n",
              "       [0., 0., 0., 1.]])"
            ]
          },
          "metadata": {
            "tags": []
          },
          "execution_count": 16
        }
      ]
    },
    {
      "cell_type": "markdown",
      "metadata": {
        "id": "wijgcISOSBBL",
        "colab_type": "text"
      },
      "source": [
        "Now there is one unique binary value for the class. The new array formed will be of shape (n, number of classes), where n is the number of samples in our dataset."
      ]
    },
    {
      "cell_type": "markdown",
      "metadata": {
        "id": "zVs_2b3FSuUD",
        "colab_type": "text"
      },
      "source": [
        "Splitting data into test and train in the ratio of 1:9"
      ]
    },
    {
      "cell_type": "code",
      "metadata": {
        "id": "CaHmlVJ4SKuU",
        "colab_type": "code",
        "colab": {}
      },
      "source": [
        "from sklearn.model_selection import train_test_split\n",
        "X_train,X_test,y_train,y_test = train_test_split(X,y,test_size = 0.1)"
      ],
      "execution_count": 17,
      "outputs": []
    },
    {
      "cell_type": "markdown",
      "metadata": {
        "id": "poB-iMmOS7tL",
        "colab_type": "text"
      },
      "source": [
        "Defining the Model and training"
      ]
    },
    {
      "cell_type": "markdown",
      "metadata": {
        "id": "Xlp32ctoTChZ",
        "colab_type": "text"
      },
      "source": [
        "In our dataset, the input is of 20 values and output is of 4 values. So the input and output layer is of 20 and 4 dimensions respectively."
      ]
    },
    {
      "cell_type": "code",
      "metadata": {
        "id": "wWvcx4LOS888",
        "colab_type": "code",
        "colab": {
          "base_uri": "https://localhost:8080/",
          "height": 34
        },
        "outputId": "0234c5b0-7600-4562-d407-ecba5c5f5747"
      },
      "source": [
        "#import os\n",
        "#os.environ[\"KERAS_BACKEND\"] = \"theano\"\n",
        "import keras\n",
        "#import keras.backend\n",
        "from keras.models import Sequential\n",
        "from keras.layers import Dense\n",
        "#if keras.backend.backend() != 'theano':\n",
        "#    print(\"Using TensorFlow backend.\")\n",
        "#else:\n",
        "#    print(\"Using Theano backend.\")"
      ],
      "execution_count": 18,
      "outputs": [
        {
          "output_type": "stream",
          "text": [
            "Using TensorFlow backend.\n"
          ],
          "name": "stderr"
        }
      ]
    },
    {
      "cell_type": "markdown",
      "metadata": {
        "id": "tPwfcfBbTnq7",
        "colab_type": "text"
      },
      "source": [
        "**2 hidden layer of dimensions 12**\n",
        "\n",
        " A Deep Neural Network (DNN) commonly has between 2-8 additional layers of neurons.\n",
        "\n"
      ]
    },
    {
      "cell_type": "code",
      "metadata": {
        "colab_type": "code",
        "id": "ObV9OqraXZ20",
        "colab": {}
      },
      "source": [
        "model = Sequential()\n",
        "model.add(Dense(12, input_dim=20, activation='relu'))\n",
        "model.add(Dense(12, activation='relu'))\n",
        "model.add(Dense(4, activation='softmax'))"
      ],
      "execution_count": 19,
      "outputs": []
    },
    {
      "cell_type": "code",
      "metadata": {
        "id": "nrf2_yg0X3wU",
        "colab_type": "code",
        "colab": {
          "base_uri": "https://localhost:8080/",
          "height": 336
        },
        "outputId": "c79d6b63-b61d-4b27-ab43-015d0ff097c2"
      },
      "source": [
        "!pip install ann_visualizer\n",
        "!pip install graphviz\n",
        "from ann_visualizer.visualize import ann_viz\n",
        "ann_viz(model, view = True, filename=\"network.gv\", title=\"Shape of your Neural Network\")\n",
        "print(\"\\033[1m \\033[92m Model graphed. Click on the Navigation menu & download \\n(For mobile users click on File Browser in the Navigation)\\n \\033[31m'network.gv.pdf' \\033[92mto visualize how our Neural Network looks like.\")\n",
        "model.summary()"
      ],
      "execution_count": 20,
      "outputs": [
        {
          "output_type": "stream",
          "text": [
            "Requirement already satisfied: ann_visualizer in /usr/local/lib/python3.6/dist-packages (2.5)\n",
            "Requirement already satisfied: graphviz in /usr/local/lib/python3.6/dist-packages (0.10.1)\n",
            "\u001b[1m \u001b[92m Model graphed. Click on the Navigation menu & download \n",
            "(For mobile users click on File Browser in the Navigation)\n",
            " \u001b[31m'network.gv.pdf' \u001b[92mto visualize how our Neural Network looks like.\n",
            "Model: \"sequential_1\"\n",
            "_________________________________________________________________\n",
            "Layer (type)                 Output Shape              Param #   \n",
            "=================================================================\n",
            "dense_1 (Dense)              (None, 12)                252       \n",
            "_________________________________________________________________\n",
            "dense_2 (Dense)              (None, 12)                156       \n",
            "_________________________________________________________________\n",
            "dense_3 (Dense)              (None, 4)                 52        \n",
            "=================================================================\n",
            "Total params: 460\n",
            "Trainable params: 460\n",
            "Non-trainable params: 0\n",
            "_________________________________________________________________\n"
          ],
          "name": "stdout"
        }
      ]
    },
    {
      "cell_type": "code",
      "metadata": {
        "id": "gthflSj2TJCW",
        "colab_type": "code",
        "colab": {}
      },
      "source": [
        "model.compile(loss='categorical_crossentropy', optimizer='adam', metrics=['accuracy'])"
      ],
      "execution_count": 21,
      "outputs": []
    },
    {
      "cell_type": "markdown",
      "metadata": {
        "id": "9HYc3u2vDoF9",
        "colab_type": "text"
      },
      "source": [
        "**Initial weights (Set Randomly)**"
      ]
    },
    {
      "cell_type": "code",
      "metadata": {
        "id": "LJKcSgK_DOzu",
        "colab_type": "code",
        "colab": {
          "base_uri": "https://localhost:8080/",
          "height": 1000
        },
        "outputId": "7bf9b626-babf-4ab9-fbbc-f8949d43f500"
      },
      "source": [
        "for layer in model.layers: \n",
        "  print(layer.get_config(), layer.get_weights())"
      ],
      "execution_count": 22,
      "outputs": [
        {
          "output_type": "stream",
          "text": [
            "{'name': 'dense_1', 'trainable': True, 'batch_input_shape': (None, 20), 'dtype': 'float32', 'units': 12, 'activation': 'relu', 'use_bias': True, 'kernel_initializer': {'class_name': 'VarianceScaling', 'config': {'scale': 1.0, 'mode': 'fan_avg', 'distribution': 'uniform', 'seed': None}}, 'bias_initializer': {'class_name': 'Zeros', 'config': {}}, 'kernel_regularizer': None, 'bias_regularizer': None, 'activity_regularizer': None, 'kernel_constraint': None, 'bias_constraint': None} [array([[ 0.3134952 ,  0.2824687 , -0.08597919, -0.35096788, -0.3837731 ,\n",
            "         0.27447566, -0.288571  ,  0.07920524, -0.28845134,  0.10889313,\n",
            "         0.17118028, -0.14998797],\n",
            "       [-0.2835244 ,  0.33920154,  0.41934165,  0.15781805,  0.38492605,\n",
            "        -0.3557492 , -0.2692292 , -0.29292145,  0.2756926 , -0.05404016,\n",
            "        -0.12698308,  0.09779534],\n",
            "       [ 0.31345925, -0.29330146, -0.32539713, -0.2977681 , -0.2027965 ,\n",
            "         0.07138172, -0.05073676,  0.22613928,  0.41530225,  0.12074718,\n",
            "        -0.12853   , -0.40914154],\n",
            "       [ 0.23485014,  0.13045546, -0.3697775 ,  0.37344792,  0.22345552,\n",
            "        -0.11416915,  0.1360996 , -0.19530204, -0.40522003,  0.25865874,\n",
            "        -0.01999757,  0.01146564],\n",
            "       [ 0.02361843, -0.30911285, -0.03532162, -0.35492977, -0.01831603,\n",
            "         0.02582803,  0.05453026, -0.29927474, -0.1139667 , -0.1246092 ,\n",
            "         0.30549702, -0.357009  ],\n",
            "       [-0.39846256, -0.10681763,  0.42380074, -0.040766  ,  0.35287502,\n",
            "        -0.0986512 , -0.195352  ,  0.01869357,  0.36062917,  0.18599436,\n",
            "         0.32961634, -0.12998763],\n",
            "       [-0.36639315,  0.4067277 , -0.42868906, -0.4249756 , -0.12741068,\n",
            "        -0.10846284,  0.25189456,  0.11168936, -0.14652309,  0.04457188,\n",
            "         0.33256814, -0.33298916],\n",
            "       [-0.06707957, -0.302445  , -0.4294001 , -0.01118803, -0.37263027,\n",
            "        -0.3212292 ,  0.07740566,  0.07466665,  0.14403507, -0.10597399,\n",
            "        -0.2896235 , -0.15344986],\n",
            "       [-0.4174133 , -0.321201  ,  0.03175053,  0.14701751,  0.09870932,\n",
            "        -0.31333455, -0.22804426,  0.41915122,  0.23205474, -0.22922324,\n",
            "         0.3965415 ,  0.12828997],\n",
            "       [ 0.37915352, -0.16795814,  0.06476632, -0.16468692,  0.3611407 ,\n",
            "        -0.02052841, -0.21678726, -0.20784435, -0.40739   ,  0.25801972,\n",
            "         0.37392107,  0.23928455],\n",
            "       [-0.41500112,  0.19377938,  0.16547164,  0.42158845, -0.06944427,\n",
            "        -0.09507895, -0.09172812, -0.33050287,  0.21364054, -0.34238827,\n",
            "        -0.33220962,  0.35055742],\n",
            "       [ 0.03786355,  0.1555197 , -0.3048203 , -0.40258777, -0.34441155,\n",
            "         0.1702815 ,  0.05416664, -0.05737951,  0.42052522, -0.4211025 ,\n",
            "         0.03505993,  0.3313329 ],\n",
            "       [ 0.27315822, -0.33057112,  0.2378017 , -0.22467662,  0.25229833,\n",
            "         0.40346983, -0.2212167 , -0.2633049 ,  0.10326901,  0.09141937,\n",
            "         0.34290788,  0.13701609],\n",
            "       [-0.34196594,  0.23995343, -0.284478  , -0.02577344, -0.16408452,\n",
            "        -0.04708201, -0.37107995, -0.24746637,  0.00814003,  0.03345922,\n",
            "        -0.29235375, -0.33462113],\n",
            "       [-0.27411765, -0.12367925, -0.24479446,  0.41808042, -0.3768649 ,\n",
            "         0.08074906,  0.16449842,  0.00080907,  0.24273208,  0.39682272,\n",
            "        -0.10378575,  0.35186008],\n",
            "       [-0.21319704, -0.1310131 ,  0.01975361,  0.379252  , -0.26006   ,\n",
            "         0.11374608,  0.0838078 , -0.38912466, -0.34518933, -0.3850287 ,\n",
            "         0.17908642,  0.31738374],\n",
            "       [ 0.27714983, -0.26583225, -0.43076798,  0.22759083,  0.19712213,\n",
            "         0.28301296,  0.41390052,  0.13097456,  0.04918912, -0.2491346 ,\n",
            "        -0.42701507,  0.34157053],\n",
            "       [ 0.38144383,  0.1437473 , -0.27447134, -0.06803516, -0.38658592,\n",
            "         0.02622932,  0.0043644 , -0.41198614,  0.03120697,  0.18090537,\n",
            "         0.21453336, -0.01813802],\n",
            "       [-0.36661902,  0.26128772,  0.21945402, -0.26193035,  0.18002453,\n",
            "         0.12790695,  0.25830123, -0.145022  ,  0.36351588,  0.10409734,\n",
            "         0.2989261 , -0.41002637],\n",
            "       [-0.03151771, -0.1799945 , -0.2698279 , -0.03138104, -0.4134958 ,\n",
            "         0.32928094, -0.2780412 ,  0.38839456, -0.01874074, -0.07402566,\n",
            "         0.18106267, -0.03385925]], dtype=float32), array([0., 0., 0., 0., 0., 0., 0., 0., 0., 0., 0., 0.], dtype=float32)]\n",
            "{'name': 'dense_2', 'trainable': True, 'dtype': 'float32', 'units': 12, 'activation': 'relu', 'use_bias': True, 'kernel_initializer': {'class_name': 'VarianceScaling', 'config': {'scale': 1.0, 'mode': 'fan_avg', 'distribution': 'uniform', 'seed': None}}, 'bias_initializer': {'class_name': 'Zeros', 'config': {}}, 'kernel_regularizer': None, 'bias_regularizer': None, 'activity_regularizer': None, 'kernel_constraint': None, 'bias_constraint': None} [array([[-0.3368498 ,  0.01036751,  0.4548148 ,  0.36964917, -0.12867785,\n",
            "         0.20434356,  0.01462758,  0.10622609,  0.274719  ,  0.29505897,\n",
            "         0.49976206,  0.2228682 ],\n",
            "       [ 0.13923955, -0.4272511 ,  0.16113436,  0.13250935, -0.21127033,\n",
            "         0.08881903, -0.3923353 , -0.20346451, -0.27328956, -0.4760754 ,\n",
            "         0.10526204, -0.24311292],\n",
            "       [-0.09876251, -0.48289335, -0.30690396, -0.03130615,  0.09214878,\n",
            "        -0.36212587, -0.08140874,  0.18500316,  0.39587128, -0.4493736 ,\n",
            "        -0.48422384,  0.4761585 ],\n",
            "       [-0.32055187, -0.14061213,  0.24316466, -0.37629354,  0.2651806 ,\n",
            "        -0.23093486, -0.12682617, -0.00255156,  0.46418917,  0.06577039,\n",
            "        -0.2274915 ,  0.33762503],\n",
            "       [ 0.3878199 ,  0.15632272, -0.14453292,  0.11769724, -0.30712426,\n",
            "         0.3072549 , -0.20009708, -0.4226023 , -0.31155074,  0.14726806,\n",
            "        -0.06209886,  0.3870356 ],\n",
            "       [-0.46155977, -0.01184893, -0.09652901,  0.3583902 , -0.37070525,\n",
            "        -0.42102742, -0.21245253,  0.12848592,  0.16864216, -0.07492316,\n",
            "         0.33973134, -0.2975855 ],\n",
            "       [ 0.01676273, -0.34055543, -0.30222952,  0.11986661, -0.3490951 ,\n",
            "        -0.3735478 , -0.31492662,  0.34770417,  0.1945337 ,  0.39841783,\n",
            "        -0.24170923, -0.38484418],\n",
            "       [ 0.12512207, -0.11730385,  0.13723767, -0.2913239 ,  0.03471875,\n",
            "        -0.4770975 ,  0.32253385,  0.00914395, -0.08583486, -0.10818815,\n",
            "        -0.46878433,  0.45674145],\n",
            "       [ 0.4396156 ,  0.09173322,  0.24219477,  0.20667136,  0.3858533 ,\n",
            "         0.3157661 ,  0.2163912 , -0.43458557,  0.0768497 ,  0.01914847,\n",
            "         0.2496525 , -0.02877951],\n",
            "       [-0.09300065,  0.24232626,  0.37736642,  0.01761675, -0.48179364,\n",
            "         0.48293042,  0.44052863, -0.38644242, -0.12775183,  0.30978775,\n",
            "        -0.30131125, -0.48466718],\n",
            "       [ 0.29163218,  0.3585043 , -0.24215806, -0.266101  , -0.03344798,\n",
            "         0.36730254, -0.42312968, -0.35315442, -0.13299036, -0.4518237 ,\n",
            "        -0.34936488,  0.1957084 ],\n",
            "       [ 0.3430903 , -0.19962335,  0.48818564,  0.4773426 ,  0.3797555 ,\n",
            "         0.42636216,  0.04421067,  0.2819916 , -0.20550013,  0.00338137,\n",
            "         0.4454844 ,  0.03550887]], dtype=float32), array([0., 0., 0., 0., 0., 0., 0., 0., 0., 0., 0., 0.], dtype=float32)]\n",
            "{'name': 'dense_3', 'trainable': True, 'dtype': 'float32', 'units': 4, 'activation': 'softmax', 'use_bias': True, 'kernel_initializer': {'class_name': 'VarianceScaling', 'config': {'scale': 1.0, 'mode': 'fan_avg', 'distribution': 'uniform', 'seed': None}}, 'bias_initializer': {'class_name': 'Zeros', 'config': {}}, 'kernel_regularizer': None, 'bias_regularizer': None, 'activity_regularizer': None, 'kernel_constraint': None, 'bias_constraint': None} [array([[ 0.03188324,  0.45764774, -0.3757344 , -0.40273988],\n",
            "       [-0.3470817 ,  0.5351277 ,  0.14429891, -0.50445265],\n",
            "       [ 0.24492347,  0.04684192, -0.500502  , -0.57707775],\n",
            "       [-0.21379682,  0.03687721,  0.0946961 , -0.12939367],\n",
            "       [ 0.2662313 ,  0.50604504,  0.25091815, -0.3246184 ],\n",
            "       [-0.16582322,  0.5524234 , -0.45524883,  0.48651642],\n",
            "       [ 0.60533947,  0.4740408 ,  0.05349725,  0.50876874],\n",
            "       [-0.06324458, -0.14120966, -0.2085897 , -0.12999502],\n",
            "       [-0.21463689, -0.53231764, -0.5353095 ,  0.03201234],\n",
            "       [ 0.38806325,  0.5424302 ,  0.3204317 ,  0.06175113],\n",
            "       [ 0.6117994 ,  0.40564102, -0.53281796, -0.2047446 ],\n",
            "       [ 0.14537972, -0.38978946, -0.19976452,  0.56822175]],\n",
            "      dtype=float32), array([0., 0., 0., 0.], dtype=float32)]\n"
          ],
          "name": "stdout"
        }
      ]
    },
    {
      "cell_type": "code",
      "metadata": {
        "id": "-EajnF65N8Ui",
        "colab_type": "code",
        "colab": {
          "base_uri": "https://localhost:8080/",
          "height": 1000
        },
        "outputId": "31b93d6a-5443-4c70-9e88-c768eb9a1114"
      },
      "source": [
        "history = model.fit(X_train, y_train,validation_data = (X_test,y_test), epochs=100, batch_size=64)"
      ],
      "execution_count": 23,
      "outputs": [
        {
          "output_type": "stream",
          "text": [
            "Train on 1789 samples, validate on 199 samples\n",
            "Epoch 1/100\n",
            "1789/1789 [==============================] - 0s 180us/step - loss: 1.5572 - accuracy: 0.2342 - val_loss: 1.5512 - val_accuracy: 0.1910\n",
            "Epoch 2/100\n",
            "1789/1789 [==============================] - 0s 22us/step - loss: 1.4570 - accuracy: 0.2476 - val_loss: 1.4578 - val_accuracy: 0.2161\n",
            "Epoch 3/100\n",
            "1789/1789 [==============================] - 0s 21us/step - loss: 1.4016 - accuracy: 0.2733 - val_loss: 1.4051 - val_accuracy: 0.2462\n",
            "Epoch 4/100\n",
            "1789/1789 [==============================] - 0s 22us/step - loss: 1.3659 - accuracy: 0.2912 - val_loss: 1.3684 - val_accuracy: 0.2513\n",
            "Epoch 5/100\n",
            "1789/1789 [==============================] - 0s 23us/step - loss: 1.3353 - accuracy: 0.3181 - val_loss: 1.3382 - val_accuracy: 0.2915\n",
            "Epoch 6/100\n",
            "1789/1789 [==============================] - 0s 23us/step - loss: 1.3038 - accuracy: 0.3404 - val_loss: 1.3068 - val_accuracy: 0.3166\n",
            "Epoch 7/100\n",
            "1789/1789 [==============================] - 0s 22us/step - loss: 1.2670 - accuracy: 0.3840 - val_loss: 1.2697 - val_accuracy: 0.3568\n",
            "Epoch 8/100\n",
            "1789/1789 [==============================] - 0s 22us/step - loss: 1.2234 - accuracy: 0.4338 - val_loss: 1.2271 - val_accuracy: 0.3819\n",
            "Epoch 9/100\n",
            "1789/1789 [==============================] - 0s 22us/step - loss: 1.1718 - accuracy: 0.4729 - val_loss: 1.1758 - val_accuracy: 0.4372\n",
            "Epoch 10/100\n",
            "1789/1789 [==============================] - 0s 23us/step - loss: 1.1101 - accuracy: 0.5232 - val_loss: 1.1166 - val_accuracy: 0.4824\n",
            "Epoch 11/100\n",
            "1789/1789 [==============================] - 0s 23us/step - loss: 1.0426 - accuracy: 0.5556 - val_loss: 1.0479 - val_accuracy: 0.5528\n",
            "Epoch 12/100\n",
            "1789/1789 [==============================] - 0s 25us/step - loss: 0.9712 - accuracy: 0.5992 - val_loss: 0.9748 - val_accuracy: 0.5930\n",
            "Epoch 13/100\n",
            "1789/1789 [==============================] - 0s 22us/step - loss: 0.8994 - accuracy: 0.6266 - val_loss: 0.9044 - val_accuracy: 0.6181\n",
            "Epoch 14/100\n",
            "1789/1789 [==============================] - 0s 22us/step - loss: 0.8300 - accuracy: 0.6792 - val_loss: 0.8338 - val_accuracy: 0.6884\n",
            "Epoch 15/100\n",
            "1789/1789 [==============================] - 0s 23us/step - loss: 0.7656 - accuracy: 0.7110 - val_loss: 0.7697 - val_accuracy: 0.7487\n",
            "Epoch 16/100\n",
            "1789/1789 [==============================] - 0s 22us/step - loss: 0.7065 - accuracy: 0.7457 - val_loss: 0.7137 - val_accuracy: 0.7588\n",
            "Epoch 17/100\n",
            "1789/1789 [==============================] - 0s 24us/step - loss: 0.6547 - accuracy: 0.7786 - val_loss: 0.6625 - val_accuracy: 0.7789\n",
            "Epoch 18/100\n",
            "1789/1789 [==============================] - 0s 22us/step - loss: 0.6083 - accuracy: 0.8077 - val_loss: 0.6164 - val_accuracy: 0.7889\n",
            "Epoch 19/100\n",
            "1789/1789 [==============================] - 0s 23us/step - loss: 0.5672 - accuracy: 0.8267 - val_loss: 0.5783 - val_accuracy: 0.8040\n",
            "Epoch 20/100\n",
            "1789/1789 [==============================] - 0s 23us/step - loss: 0.5300 - accuracy: 0.8334 - val_loss: 0.5440 - val_accuracy: 0.8141\n",
            "Epoch 21/100\n",
            "1789/1789 [==============================] - 0s 22us/step - loss: 0.4975 - accuracy: 0.8530 - val_loss: 0.5119 - val_accuracy: 0.8191\n",
            "Epoch 22/100\n",
            "1789/1789 [==============================] - 0s 29us/step - loss: 0.4675 - accuracy: 0.8591 - val_loss: 0.4815 - val_accuracy: 0.8291\n",
            "Epoch 23/100\n",
            "1789/1789 [==============================] - 0s 26us/step - loss: 0.4417 - accuracy: 0.8664 - val_loss: 0.4573 - val_accuracy: 0.8492\n",
            "Epoch 24/100\n",
            "1789/1789 [==============================] - 0s 26us/step - loss: 0.4174 - accuracy: 0.8753 - val_loss: 0.4329 - val_accuracy: 0.8543\n",
            "Epoch 25/100\n",
            "1789/1789 [==============================] - 0s 25us/step - loss: 0.3947 - accuracy: 0.8809 - val_loss: 0.4136 - val_accuracy: 0.8492\n",
            "Epoch 26/100\n",
            "1789/1789 [==============================] - 0s 28us/step - loss: 0.3753 - accuracy: 0.8854 - val_loss: 0.3935 - val_accuracy: 0.8593\n",
            "Epoch 27/100\n",
            "1789/1789 [==============================] - 0s 22us/step - loss: 0.3555 - accuracy: 0.8938 - val_loss: 0.3782 - val_accuracy: 0.8543\n",
            "Epoch 28/100\n",
            "1789/1789 [==============================] - 0s 27us/step - loss: 0.3376 - accuracy: 0.8977 - val_loss: 0.3613 - val_accuracy: 0.8543\n",
            "Epoch 29/100\n",
            "1789/1789 [==============================] - 0s 24us/step - loss: 0.3221 - accuracy: 0.9033 - val_loss: 0.3480 - val_accuracy: 0.8593\n",
            "Epoch 30/100\n",
            "1789/1789 [==============================] - 0s 23us/step - loss: 0.3056 - accuracy: 0.9111 - val_loss: 0.3339 - val_accuracy: 0.8643\n",
            "Epoch 31/100\n",
            "1789/1789 [==============================] - 0s 21us/step - loss: 0.2914 - accuracy: 0.9217 - val_loss: 0.3217 - val_accuracy: 0.8794\n",
            "Epoch 32/100\n",
            "1789/1789 [==============================] - 0s 24us/step - loss: 0.2795 - accuracy: 0.9285 - val_loss: 0.3152 - val_accuracy: 0.8794\n",
            "Epoch 33/100\n",
            "1789/1789 [==============================] - 0s 22us/step - loss: 0.2656 - accuracy: 0.9318 - val_loss: 0.3023 - val_accuracy: 0.8844\n",
            "Epoch 34/100\n",
            "1789/1789 [==============================] - 0s 22us/step - loss: 0.2544 - accuracy: 0.9352 - val_loss: 0.2964 - val_accuracy: 0.8844\n",
            "Epoch 35/100\n",
            "1789/1789 [==============================] - 0s 22us/step - loss: 0.2433 - accuracy: 0.9352 - val_loss: 0.2870 - val_accuracy: 0.8894\n",
            "Epoch 36/100\n",
            "1789/1789 [==============================] - 0s 27us/step - loss: 0.2333 - accuracy: 0.9430 - val_loss: 0.2798 - val_accuracy: 0.8945\n",
            "Epoch 37/100\n",
            "1789/1789 [==============================] - 0s 23us/step - loss: 0.2233 - accuracy: 0.9469 - val_loss: 0.2750 - val_accuracy: 0.8894\n",
            "Epoch 38/100\n",
            "1789/1789 [==============================] - 0s 22us/step - loss: 0.2145 - accuracy: 0.9458 - val_loss: 0.2645 - val_accuracy: 0.8995\n",
            "Epoch 39/100\n",
            "1789/1789 [==============================] - 0s 23us/step - loss: 0.2052 - accuracy: 0.9458 - val_loss: 0.2617 - val_accuracy: 0.8945\n",
            "Epoch 40/100\n",
            "1789/1789 [==============================] - 0s 22us/step - loss: 0.1968 - accuracy: 0.9525 - val_loss: 0.2536 - val_accuracy: 0.9095\n",
            "Epoch 41/100\n",
            "1789/1789 [==============================] - 0s 22us/step - loss: 0.1894 - accuracy: 0.9503 - val_loss: 0.2462 - val_accuracy: 0.8995\n",
            "Epoch 42/100\n",
            "1789/1789 [==============================] - 0s 25us/step - loss: 0.1827 - accuracy: 0.9530 - val_loss: 0.2403 - val_accuracy: 0.9045\n",
            "Epoch 43/100\n",
            "1789/1789 [==============================] - 0s 22us/step - loss: 0.1769 - accuracy: 0.9558 - val_loss: 0.2352 - val_accuracy: 0.9095\n",
            "Epoch 44/100\n",
            "1789/1789 [==============================] - 0s 23us/step - loss: 0.1713 - accuracy: 0.9570 - val_loss: 0.2312 - val_accuracy: 0.9045\n",
            "Epoch 45/100\n",
            "1789/1789 [==============================] - 0s 25us/step - loss: 0.1641 - accuracy: 0.9586 - val_loss: 0.2289 - val_accuracy: 0.9095\n",
            "Epoch 46/100\n",
            "1789/1789 [==============================] - 0s 25us/step - loss: 0.1590 - accuracy: 0.9564 - val_loss: 0.2225 - val_accuracy: 0.9095\n",
            "Epoch 47/100\n",
            "1789/1789 [==============================] - 0s 24us/step - loss: 0.1537 - accuracy: 0.9620 - val_loss: 0.2197 - val_accuracy: 0.9095\n",
            "Epoch 48/100\n",
            "1789/1789 [==============================] - 0s 28us/step - loss: 0.1492 - accuracy: 0.9642 - val_loss: 0.2142 - val_accuracy: 0.9146\n",
            "Epoch 49/100\n",
            "1789/1789 [==============================] - 0s 26us/step - loss: 0.1447 - accuracy: 0.9620 - val_loss: 0.2124 - val_accuracy: 0.9146\n",
            "Epoch 50/100\n",
            "1789/1789 [==============================] - 0s 25us/step - loss: 0.1401 - accuracy: 0.9653 - val_loss: 0.2115 - val_accuracy: 0.9095\n",
            "Epoch 51/100\n",
            "1789/1789 [==============================] - 0s 23us/step - loss: 0.1363 - accuracy: 0.9676 - val_loss: 0.2075 - val_accuracy: 0.9146\n",
            "Epoch 52/100\n",
            "1789/1789 [==============================] - 0s 26us/step - loss: 0.1319 - accuracy: 0.9687 - val_loss: 0.2001 - val_accuracy: 0.9196\n",
            "Epoch 53/100\n",
            "1789/1789 [==============================] - 0s 21us/step - loss: 0.1292 - accuracy: 0.9659 - val_loss: 0.1983 - val_accuracy: 0.9146\n",
            "Epoch 54/100\n",
            "1789/1789 [==============================] - 0s 22us/step - loss: 0.1251 - accuracy: 0.9693 - val_loss: 0.1978 - val_accuracy: 0.9045\n",
            "Epoch 55/100\n",
            "1789/1789 [==============================] - 0s 22us/step - loss: 0.1217 - accuracy: 0.9704 - val_loss: 0.1954 - val_accuracy: 0.9246\n",
            "Epoch 56/100\n",
            "1789/1789 [==============================] - 0s 22us/step - loss: 0.1179 - accuracy: 0.9693 - val_loss: 0.1905 - val_accuracy: 0.9196\n",
            "Epoch 57/100\n",
            "1789/1789 [==============================] - 0s 21us/step - loss: 0.1161 - accuracy: 0.9681 - val_loss: 0.1908 - val_accuracy: 0.9196\n",
            "Epoch 58/100\n",
            "1789/1789 [==============================] - 0s 22us/step - loss: 0.1124 - accuracy: 0.9737 - val_loss: 0.1867 - val_accuracy: 0.9246\n",
            "Epoch 59/100\n",
            "1789/1789 [==============================] - 0s 23us/step - loss: 0.1104 - accuracy: 0.9715 - val_loss: 0.1854 - val_accuracy: 0.9146\n",
            "Epoch 60/100\n",
            "1789/1789 [==============================] - 0s 23us/step - loss: 0.1080 - accuracy: 0.9754 - val_loss: 0.1823 - val_accuracy: 0.9196\n",
            "Epoch 61/100\n",
            "1789/1789 [==============================] - 0s 23us/step - loss: 0.1052 - accuracy: 0.9754 - val_loss: 0.1807 - val_accuracy: 0.9095\n",
            "Epoch 62/100\n",
            "1789/1789 [==============================] - 0s 25us/step - loss: 0.1031 - accuracy: 0.9748 - val_loss: 0.1792 - val_accuracy: 0.9296\n",
            "Epoch 63/100\n",
            "1789/1789 [==============================] - 0s 22us/step - loss: 0.1006 - accuracy: 0.9760 - val_loss: 0.1771 - val_accuracy: 0.9196\n",
            "Epoch 64/100\n",
            "1789/1789 [==============================] - 0s 22us/step - loss: 0.0984 - accuracy: 0.9788 - val_loss: 0.1807 - val_accuracy: 0.9146\n",
            "Epoch 65/100\n",
            "1789/1789 [==============================] - 0s 22us/step - loss: 0.0968 - accuracy: 0.9788 - val_loss: 0.1758 - val_accuracy: 0.9146\n",
            "Epoch 66/100\n",
            "1789/1789 [==============================] - 0s 23us/step - loss: 0.0946 - accuracy: 0.9776 - val_loss: 0.1772 - val_accuracy: 0.9146\n",
            "Epoch 67/100\n",
            "1789/1789 [==============================] - 0s 22us/step - loss: 0.0937 - accuracy: 0.9788 - val_loss: 0.1745 - val_accuracy: 0.9196\n",
            "Epoch 68/100\n",
            "1789/1789 [==============================] - 0s 22us/step - loss: 0.0921 - accuracy: 0.9788 - val_loss: 0.1762 - val_accuracy: 0.9246\n",
            "Epoch 69/100\n",
            "1789/1789 [==============================] - 0s 22us/step - loss: 0.0903 - accuracy: 0.9788 - val_loss: 0.1776 - val_accuracy: 0.9146\n",
            "Epoch 70/100\n",
            "1789/1789 [==============================] - 0s 22us/step - loss: 0.0875 - accuracy: 0.9799 - val_loss: 0.1750 - val_accuracy: 0.9246\n",
            "Epoch 71/100\n",
            "1789/1789 [==============================] - 0s 22us/step - loss: 0.0862 - accuracy: 0.9793 - val_loss: 0.1726 - val_accuracy: 0.9347\n",
            "Epoch 72/100\n",
            "1789/1789 [==============================] - 0s 23us/step - loss: 0.0848 - accuracy: 0.9832 - val_loss: 0.1738 - val_accuracy: 0.9246\n",
            "Epoch 73/100\n",
            "1789/1789 [==============================] - 0s 22us/step - loss: 0.0832 - accuracy: 0.9804 - val_loss: 0.1742 - val_accuracy: 0.9246\n",
            "Epoch 74/100\n",
            "1789/1789 [==============================] - 0s 24us/step - loss: 0.0817 - accuracy: 0.9827 - val_loss: 0.1735 - val_accuracy: 0.9296\n",
            "Epoch 75/100\n",
            "1789/1789 [==============================] - 0s 21us/step - loss: 0.0810 - accuracy: 0.9821 - val_loss: 0.1745 - val_accuracy: 0.9246\n",
            "Epoch 76/100\n",
            "1789/1789 [==============================] - 0s 22us/step - loss: 0.0799 - accuracy: 0.9838 - val_loss: 0.1744 - val_accuracy: 0.9296\n",
            "Epoch 77/100\n",
            "1789/1789 [==============================] - 0s 23us/step - loss: 0.0780 - accuracy: 0.9832 - val_loss: 0.1743 - val_accuracy: 0.9296\n",
            "Epoch 78/100\n",
            "1789/1789 [==============================] - 0s 23us/step - loss: 0.0773 - accuracy: 0.9843 - val_loss: 0.1731 - val_accuracy: 0.9246\n",
            "Epoch 79/100\n",
            "1789/1789 [==============================] - 0s 22us/step - loss: 0.0760 - accuracy: 0.9843 - val_loss: 0.1805 - val_accuracy: 0.9246\n",
            "Epoch 80/100\n",
            "1789/1789 [==============================] - 0s 22us/step - loss: 0.0747 - accuracy: 0.9860 - val_loss: 0.1739 - val_accuracy: 0.9296\n",
            "Epoch 81/100\n",
            "1789/1789 [==============================] - 0s 22us/step - loss: 0.0736 - accuracy: 0.9838 - val_loss: 0.1744 - val_accuracy: 0.9296\n",
            "Epoch 82/100\n",
            "1789/1789 [==============================] - 0s 22us/step - loss: 0.0721 - accuracy: 0.9855 - val_loss: 0.1740 - val_accuracy: 0.9347\n",
            "Epoch 83/100\n",
            "1789/1789 [==============================] - 0s 22us/step - loss: 0.0713 - accuracy: 0.9860 - val_loss: 0.1762 - val_accuracy: 0.9296\n",
            "Epoch 84/100\n",
            "1789/1789 [==============================] - 0s 24us/step - loss: 0.0699 - accuracy: 0.9860 - val_loss: 0.1740 - val_accuracy: 0.9347\n",
            "Epoch 85/100\n",
            "1789/1789 [==============================] - 0s 25us/step - loss: 0.0689 - accuracy: 0.9855 - val_loss: 0.1755 - val_accuracy: 0.9296\n",
            "Epoch 86/100\n",
            "1789/1789 [==============================] - 0s 22us/step - loss: 0.0691 - accuracy: 0.9849 - val_loss: 0.1747 - val_accuracy: 0.9347\n",
            "Epoch 87/100\n",
            "1789/1789 [==============================] - 0s 22us/step - loss: 0.0681 - accuracy: 0.9838 - val_loss: 0.1749 - val_accuracy: 0.9196\n",
            "Epoch 88/100\n",
            "1789/1789 [==============================] - 0s 23us/step - loss: 0.0670 - accuracy: 0.9860 - val_loss: 0.1726 - val_accuracy: 0.9296\n",
            "Epoch 89/100\n",
            "1789/1789 [==============================] - 0s 22us/step - loss: 0.0648 - accuracy: 0.9883 - val_loss: 0.1763 - val_accuracy: 0.9347\n",
            "Epoch 90/100\n",
            "1789/1789 [==============================] - 0s 22us/step - loss: 0.0651 - accuracy: 0.9866 - val_loss: 0.1767 - val_accuracy: 0.9296\n",
            "Epoch 91/100\n",
            "1789/1789 [==============================] - 0s 22us/step - loss: 0.0633 - accuracy: 0.9888 - val_loss: 0.1743 - val_accuracy: 0.9347\n",
            "Epoch 92/100\n",
            "1789/1789 [==============================] - 0s 22us/step - loss: 0.0629 - accuracy: 0.9883 - val_loss: 0.1742 - val_accuracy: 0.9296\n",
            "Epoch 93/100\n",
            "1789/1789 [==============================] - 0s 25us/step - loss: 0.0628 - accuracy: 0.9905 - val_loss: 0.1746 - val_accuracy: 0.9347\n",
            "Epoch 94/100\n",
            "1789/1789 [==============================] - 0s 21us/step - loss: 0.0613 - accuracy: 0.9883 - val_loss: 0.1761 - val_accuracy: 0.9347\n",
            "Epoch 95/100\n",
            "1789/1789 [==============================] - 0s 21us/step - loss: 0.0605 - accuracy: 0.9877 - val_loss: 0.1746 - val_accuracy: 0.9347\n",
            "Epoch 96/100\n",
            "1789/1789 [==============================] - 0s 23us/step - loss: 0.0599 - accuracy: 0.9905 - val_loss: 0.1777 - val_accuracy: 0.9347\n",
            "Epoch 97/100\n",
            "1789/1789 [==============================] - 0s 22us/step - loss: 0.0590 - accuracy: 0.9894 - val_loss: 0.1742 - val_accuracy: 0.9347\n",
            "Epoch 98/100\n",
            "1789/1789 [==============================] - 0s 23us/step - loss: 0.0580 - accuracy: 0.9905 - val_loss: 0.1767 - val_accuracy: 0.9347\n",
            "Epoch 99/100\n",
            "1789/1789 [==============================] - 0s 21us/step - loss: 0.0577 - accuracy: 0.9877 - val_loss: 0.1791 - val_accuracy: 0.9347\n",
            "Epoch 100/100\n",
            "1789/1789 [==============================] - 0s 22us/step - loss: 0.0565 - accuracy: 0.9899 - val_loss: 0.1752 - val_accuracy: 0.9347\n"
          ],
          "name": "stdout"
        }
      ]
    },
    {
      "cell_type": "markdown",
      "metadata": {
        "id": "GAQ_L5uVsO4b",
        "colab_type": "text"
      },
      "source": [
        "If the test set is locked away, but you still want to measure performance on unseen data as a way of selecting a good hypothesis, then divide the available data (without the test set) into a training set and a validation set."
      ]
    },
    {
      "cell_type": "markdown",
      "metadata": {
        "id": "tsXP_8szDFoM",
        "colab_type": "text"
      },
      "source": [
        "**Look at the optimized weights!**"
      ]
    },
    {
      "cell_type": "code",
      "metadata": {
        "id": "bfrpjTZ4DKBV",
        "colab_type": "code",
        "colab": {
          "base_uri": "https://localhost:8080/",
          "height": 1000
        },
        "outputId": "222e95d6-0a89-4dbc-dd63-631c73cb7d67"
      },
      "source": [
        "for layer in model.layers: \n",
        "  print(layer.get_config(), layer.get_weights())"
      ],
      "execution_count": 24,
      "outputs": [
        {
          "output_type": "stream",
          "text": [
            "{'name': 'dense_1', 'trainable': True, 'batch_input_shape': (None, 20), 'dtype': 'float32', 'units': 12, 'activation': 'relu', 'use_bias': True, 'kernel_initializer': {'class_name': 'VarianceScaling', 'config': {'scale': 1.0, 'mode': 'fan_avg', 'distribution': 'uniform', 'seed': None}}, 'bias_initializer': {'class_name': 'Zeros', 'config': {}}, 'kernel_regularizer': None, 'bias_regularizer': None, 'activity_regularizer': None, 'kernel_constraint': None, 'bias_constraint': None} [array([[-2.45973215e-01,  2.85303593e-01, -1.15841955e-01,\n",
            "        -3.34992379e-01, -3.86486679e-01,  3.29596579e-01,\n",
            "        -2.90200144e-01, -2.63325423e-01, -1.69767097e-01,\n",
            "         1.63039073e-01, -1.26380622e-01, -3.39440823e-01],\n",
            "       [-5.97250648e-02,  2.14120656e-01,  2.79334545e-01,\n",
            "        -1.78957641e-01,  4.17791009e-01, -9.32413861e-02,\n",
            "         2.65220236e-02,  4.47718538e-02,  1.09890252e-01,\n",
            "         2.29125291e-01, -3.51354569e-01, -1.34145603e-01],\n",
            "       [ 2.95153618e-01, -5.97051196e-02, -2.65258491e-01,\n",
            "        -1.35919631e-01, -2.94290960e-01,  7.54013956e-02,\n",
            "         1.29153699e-01,  1.60057589e-01,  2.49263659e-01,\n",
            "         3.21780853e-02, -7.29984194e-02, -2.81594843e-01],\n",
            "       [ 7.67138377e-02, -6.47296980e-02, -5.30284882e-01,\n",
            "         1.14733249e-01, -8.32842812e-02,  6.86365180e-03,\n",
            "         3.84338319e-01, -1.92572609e-01, -7.36136317e-01,\n",
            "         2.29247540e-01,  2.25126877e-01, -1.30368039e-01],\n",
            "       [ 1.45162582e-01, -3.17616731e-01,  6.07939921e-02,\n",
            "        -3.27653348e-01,  2.97183841e-01,  9.08463001e-02,\n",
            "         7.63895810e-02, -2.15569600e-01,  2.03537699e-02,\n",
            "        -6.60638660e-02,  2.73166716e-01, -2.04502583e-01],\n",
            "       [-4.43350881e-01,  4.52650450e-02,  4.19014364e-01,\n",
            "        -2.72579879e-01,  1.40498340e-01,  1.04140639e-02,\n",
            "         5.50389066e-02,  1.78284064e-01,  4.01786804e-01,\n",
            "         1.80562675e-01,  3.07552703e-02, -6.60223290e-02],\n",
            "       [-3.03397745e-01,  1.50060117e-01, -1.96665719e-01,\n",
            "        -9.49788243e-02,  8.32306594e-03, -7.40224496e-02,\n",
            "         2.18195856e-01,  5.72950356e-02, -1.87778786e-01,\n",
            "         6.38009980e-02,  3.49480867e-01, -1.41404867e-01],\n",
            "       [ 7.69680068e-02,  1.60067827e-02, -5.08264124e-01,\n",
            "        -2.07156390e-02, -1.25617608e-01, -1.45111695e-01,\n",
            "        -3.32218893e-02, -1.04491800e-01,  2.62611449e-01,\n",
            "         1.12184681e-01, -4.34978306e-01, -7.69639462e-02],\n",
            "       [-1.24820158e-01, -1.21489562e-01,  2.42097117e-03,\n",
            "         4.11203951e-01, -1.98258255e-02,  1.82009377e-02,\n",
            "        -3.53635475e-02,  1.47235587e-01,  2.39616409e-01,\n",
            "        -2.94608772e-01,  2.51772672e-01,  1.37689948e-01],\n",
            "       [ 1.36098847e-01,  3.79922837e-02,  1.38974965e-01,\n",
            "        -1.42254867e-02,  1.07420437e-01,  7.35803321e-02,\n",
            "        -1.93501696e-01,  1.96147785e-01, -4.74183142e-01,\n",
            "         2.36007378e-01,  2.36745015e-01, -1.51506558e-01],\n",
            "       [-4.29789335e-01,  2.55562458e-03,  2.41304189e-01,\n",
            "         2.94245332e-01, -3.07721853e-01, -7.82740936e-02,\n",
            "        -4.17667441e-02, -3.78540792e-02, -1.11607037e-01,\n",
            "        -6.44777296e-03, -4.09509033e-01,  2.59741634e-01],\n",
            "       [-1.33806542e-01,  1.21628881e-01, -4.54132915e-01,\n",
            "        -7.02853739e-01, -3.24276090e-01,  2.53715277e-01,\n",
            "        -3.78175564e-02, -1.86535686e-01,  2.93470591e-01,\n",
            "        -4.34697777e-01, -1.38947247e-02, -4.52065133e-02],\n",
            "       [ 1.13734856e-01, -5.69414422e-02,  2.18386456e-01,\n",
            "        -2.58127570e-01, -3.82000059e-02,  2.96021014e-01,\n",
            "        -1.26043275e-01, -2.30578229e-01, -4.30085044e-03,\n",
            "        -2.47071490e-01,  2.74497289e-02, -2.69268125e-01],\n",
            "       [-1.08988583e+00,  1.23580229e+00, -2.65032113e-01,\n",
            "        -5.25378525e-01, -9.51572835e-01,  1.14492834e+00,\n",
            "        -1.11236346e+00, -1.16333544e+00, -3.00392151e-01,\n",
            "        -6.44948781e-01, -4.86952186e-01, -1.06374228e+00],\n",
            "       [-1.94886744e-01,  1.87147826e-01, -2.19461858e-01,\n",
            "         9.10742432e-02, -2.76019901e-01,  6.83126971e-02,\n",
            "         2.98401743e-01,  2.14991167e-01, -1.28538221e-01,\n",
            "         2.41032675e-01, -3.32532644e-01,  6.77300766e-02],\n",
            "       [-1.31394580e-01,  5.97513095e-02,  4.47317027e-02,\n",
            "         2.28167728e-01,  4.27651277e-04, -1.05046816e-01,\n",
            "        -9.35235769e-02,  6.68623298e-02, -2.94525236e-01,\n",
            "        -3.54651451e-01,  1.82486866e-02,  1.27907291e-01],\n",
            "       [-5.95829226e-02, -1.42645426e-02, -4.63975400e-01,\n",
            "         1.22483566e-01,  1.06177069e-01,  1.54766783e-01,\n",
            "         3.18330199e-01,  6.63373545e-02,  6.55339584e-02,\n",
            "        -3.37554723e-01, -2.80462742e-01,  7.04824626e-02],\n",
            "       [ 4.00394201e-01,  1.32279219e-02,  5.20753395e-03,\n",
            "        -5.14918081e-02, -2.73827344e-01,  9.72154457e-03,\n",
            "         1.95476219e-01, -1.15250058e-01, -9.39078927e-02,\n",
            "        -1.09582648e-01,  1.81221247e-01,  4.14327998e-03],\n",
            "       [-8.40801299e-02,  1.61215551e-02,  3.41971070e-01,\n",
            "        -2.16635033e-01, -2.63534803e-02, -5.56073384e-03,\n",
            "         1.11425281e-01,  9.08512995e-02, -8.46495666e-03,\n",
            "         1.16381295e-01,  5.72216883e-02, -1.13850109e-01],\n",
            "       [ 1.73036605e-01, -2.35328972e-02, -3.31482917e-01,\n",
            "         1.56615317e-01, -3.79509538e-01, -7.58241490e-02,\n",
            "        -1.25002772e-01,  3.23048681e-02, -4.68252040e-02,\n",
            "        -1.86445802e-01,  1.79587245e-01,  1.40382826e-01]], dtype=float32), array([ 0.6269254 ,  1.1517103 ,  0.1873266 ,  0.38613194,  0.5155259 ,\n",
            "        1.2682164 ,  0.73929334,  0.81883764,  0.77097535,  0.57787955,\n",
            "       -0.02245736,  0.8784667 ], dtype=float32)]\n",
            "{'name': 'dense_2', 'trainable': True, 'dtype': 'float32', 'units': 12, 'activation': 'relu', 'use_bias': True, 'kernel_initializer': {'class_name': 'VarianceScaling', 'config': {'scale': 1.0, 'mode': 'fan_avg', 'distribution': 'uniform', 'seed': None}}, 'bias_initializer': {'class_name': 'Zeros', 'config': {}}, 'kernel_regularizer': None, 'bias_regularizer': None, 'activity_regularizer': None, 'kernel_constraint': None, 'bias_constraint': None} [array([[ 0.26106718,  0.20416056,  0.66263604,  0.3359991 ,  0.78212357,\n",
            "         0.03693075,  0.44053358,  0.549969  , -0.20060761,  1.0093741 ,\n",
            "         0.2149299 ,  0.36665395],\n",
            "       [-0.43383834, -0.34577507, -0.47333238,  1.4462403 , -0.17792788,\n",
            "         0.1633213 , -1.0161432 , -0.90815574,  0.7639831 , -0.4008256 ,\n",
            "         0.29127184, -1.1178591 ],\n",
            "       [ 0.12748472, -0.39726937, -0.12940975,  0.40258723,  0.37391227,\n",
            "        -0.5604081 , -0.01258811,  0.32990557,  0.46649557,  0.04077081,\n",
            "        -0.440248  ,  0.1340718 ],\n",
            "       [ 0.0850656 , -0.17365271,  0.14852573,  0.09922613,  0.63331294,\n",
            "        -0.18861693,  0.09702121,  0.09573703,  0.33860138,  0.4886955 ,\n",
            "        -0.3454713 ,  0.13851516],\n",
            "       [ 0.52176315,  0.19842781,  0.2397602 ,  0.18768607,  0.3660241 ,\n",
            "         0.24477442,  0.43442598,  0.24553548, -0.51858026,  0.798792  ,\n",
            "        -0.3447135 ,  0.35221896],\n",
            "       [-0.86767906,  0.05073431, -0.748105  ,  1.66446   , -0.43374023,\n",
            "        -0.26281315, -0.86722416, -0.89308333,  1.1865127 , -0.2917337 ,\n",
            "         0.26771858, -1.1151189 ],\n",
            "       [ 0.5616799 , -0.3417083 ,  0.2580751 , -0.04871635,  0.51349384,\n",
            "        -0.4437584 ,  0.48133782,  1.0327988 , -0.2593845 ,  1.1656531 ,\n",
            "        -0.30702502,  0.14177915],\n",
            "       [ 0.6771979 , -0.15867375,  0.60637754, -0.55180013,  0.9475796 ,\n",
            "        -0.7677615 ,  0.7452998 ,  0.86518043, -0.91531795,  0.98741126,\n",
            "        -0.5983088 ,  0.5332235 ],\n",
            "       [ 0.3350273 ,  0.24585259,  0.21937943,  0.59325564,  0.513982  ,\n",
            "         0.13008636,  0.46154344,  0.16006716,  0.24501695,  0.46560547,\n",
            "         0.2093009 ,  0.04714114],\n",
            "       [ 0.28439653,  0.3558998 ,  0.5484262 ,  0.1268909 ,  0.268651  ,\n",
            "         0.53197676,  0.73765445,  0.3802448 , -0.30171967,  0.77978843,\n",
            "        -0.5173239 , -0.25923362],\n",
            "       [ 0.4132317 ,  0.37803003,  0.07985723,  0.05296143,  0.33471635,\n",
            "         0.29300871,  0.05920133,  0.18799728,  0.02116672,  0.27663022,\n",
            "        -0.44145116,  0.09858757],\n",
            "       [ 0.7245981 , -0.5869371 ,  0.776369  ,  0.3867241 ,  1.0494647 ,\n",
            "         0.44297028,  0.6806553 ,  0.76862717, -0.7210161 ,  0.882798  ,\n",
            "         0.2903564 ,  0.23476136]], dtype=float32), array([ 0.00887116,  0.4293949 , -0.44646186,  1.1464497 ,  0.93277746,\n",
            "       -0.04010219, -0.52549124, -0.54152113,  0.32235742,  0.86815023,\n",
            "       -0.21456625, -0.7432266 ], dtype=float32)]\n",
            "{'name': 'dense_3', 'trainable': True, 'dtype': 'float32', 'units': 4, 'activation': 'softmax', 'use_bias': True, 'kernel_initializer': {'class_name': 'VarianceScaling', 'config': {'scale': 1.0, 'mode': 'fan_avg', 'distribution': 'uniform', 'seed': None}}, 'bias_initializer': {'class_name': 'Zeros', 'config': {}}, 'kernel_regularizer': None, 'bias_regularizer': None, 'activity_regularizer': None, 'kernel_constraint': None, 'bias_constraint': None} [array([[ 0.3817887 ,  0.52474713, -0.89620703, -0.8648625 ],\n",
            "       [-0.8042695 ,  0.81006896,  0.53540486, -0.8425923 ],\n",
            "       [ 0.5874674 ,  0.05071962, -1.076206  , -0.88407135],\n",
            "       [-1.3314981 , -0.12813035,  0.4840522 ,  0.575984  ],\n",
            "       [ 0.12346915,  0.75224835,  0.7615188 , -1.5654144 ],\n",
            "       [-0.42123947,  0.58643687, -0.49962002,  0.7455532 ],\n",
            "       [ 1.3729601 ,  0.06662515, -1.2201868 ,  0.2814147 ],\n",
            "       [ 0.5295526 , -0.05485604, -1.4432188 , -0.54095644],\n",
            "       [-0.89697623, -1.4779713 , -0.2540105 ,  0.83958703],\n",
            "       [ 0.50013006,  0.7653755 ,  0.68551433, -1.3967444 ],\n",
            "       [ 0.38463694,  0.3431489 , -0.684735  ,  0.23143832],\n",
            "       [ 0.93306667, -1.0823907 , -0.16359572,  0.40838468]],\n",
            "      dtype=float32), array([-0.78703004,  0.16414113,  0.53713745,  0.11991846], dtype=float32)]\n"
          ],
          "name": "stdout"
        }
      ]
    },
    {
      "cell_type": "markdown",
      "metadata": {
        "id": "EERbv8ArfblG",
        "colab_type": "text"
      },
      "source": [
        "Inverse One Hot Encoding"
      ]
    },
    {
      "cell_type": "code",
      "metadata": {
        "id": "F9drz13YT6jG",
        "colab_type": "code",
        "colab": {}
      },
      "source": [
        "y_pred = model.predict(X_test)\n",
        "#Converting predictions to label\n",
        "pred = list()\n",
        "for i in range(len(y_pred)):\n",
        "    pred.append(np.argmax(y_pred[i]))\n",
        "#Converting one hot encoded test label to label\n",
        "test = list()\n",
        "for i in range(len(y_test)):\n",
        "    test.append(np.argmax(y_test[i]))"
      ],
      "execution_count": 25,
      "outputs": []
    },
    {
      "cell_type": "code",
      "metadata": {
        "id": "wDe4-H4KUCxK",
        "colab_type": "code",
        "colab": {
          "base_uri": "https://localhost:8080/",
          "height": 34
        },
        "outputId": "d48e4b9f-e64c-4e65-d16e-d982bba4aa77"
      },
      "source": [
        "from sklearn.metrics import accuracy_score\n",
        "a = accuracy_score(pred,test)\n",
        "print('Accuracy:', a*100)"
      ],
      "execution_count": 26,
      "outputs": [
        {
          "output_type": "stream",
          "text": [
            "Accuracy: 93.46733668341709\n"
          ],
          "name": "stdout"
        }
      ]
    },
    {
      "cell_type": "code",
      "metadata": {
        "id": "sRNWcMdQhplP",
        "colab_type": "code",
        "colab": {
          "base_uri": "https://localhost:8080/",
          "height": 295
        },
        "outputId": "984fe479-2824-4199-90ff-c1727a4b3417"
      },
      "source": [
        "plt.plot(history.history['accuracy'])\n",
        "plt.plot(history.history['val_accuracy'])\n",
        "plt.title('Model accuracy')\n",
        "plt.ylabel('Accuracy')\n",
        "plt.xlabel('Epoch')\n",
        "plt.legend(['Train', 'Test'], loc='upper left')\n",
        "plt.show()"
      ],
      "execution_count": 27,
      "outputs": [
        {
          "output_type": "display_data",
          "data": {
            "image/png": "[encoded data removed]",
            "text/plain": [
              "<Figure size 432x288 with 1 Axes>"
            ]
          },
          "metadata": {
            "tags": [],
            "needs_background": "light"
          }
        }
      ]
    },
    {
      "cell_type": "code",
      "metadata": {
        "id": "meH8qY29h3Lv",
        "colab_type": "code",
        "colab": {
          "base_uri": "https://localhost:8080/",
          "height": 295
        },
        "outputId": "789a4e7b-e7aa-4905-f1bb-111d3fb9368c"
      },
      "source": [
        "plt.plot(history.history['loss']) \n",
        "plt.plot(history.history['val_loss']) \n",
        "plt.title('Model loss') \n",
        "plt.ylabel('Loss') \n",
        "plt.xlabel('Epoch') \n",
        "plt.legend(['Train', 'Test'], loc='upper left') \n",
        "plt.show()"
      ],
      "execution_count": 28,
      "outputs": [
        {
          "output_type": "display_data",
          "data": {
            "image/png": "[encoded data removed]",
            "text/plain": [
              "<Figure size 432x288 with 1 Axes>"
            ]
          },
          "metadata": {
            "tags": [],
            "needs_background": "light"
          }
        }
      ]
    },
    {
      "cell_type": "markdown",
      "metadata": {
        "id": "cyoh6Oi6_ta0",
        "colab_type": "text"
      },
      "source": [
        "Confusion Matrix"
      ]
    },
    {
      "cell_type": "code",
      "metadata": {
        "id": "gfuo8TV5VWiS",
        "colab_type": "code",
        "colab": {
          "base_uri": "https://localhost:8080/",
          "height": 279
        },
        "outputId": "92ee6f7b-05f6-49f9-8979-f62c3c950a94"
      },
      "source": [
        "from sklearn.metrics import confusion_matrix\n",
        "cf_matrix = confusion_matrix(test, pred)\n",
        "ax = sns.heatmap(cf_matrix/np.sum(cf_matrix), annot=True, fmt='.2%')\n",
        "ax.set(xlabel='Actual', ylabel='Predicted')\n",
        "plt.show()"
      ],
      "execution_count": 29,
      "outputs": [
        {
          "output_type": "display_data",
          "data": {
            "image/png": "[encoded data removed]",
            "text/plain": [
              "<Figure size 432x288 with 2 Axes>"
            ]
          },
          "metadata": {
            "tags": [],
            "needs_background": "light"
          }
        }
      ]
    },
    {
      "cell_type": "code",
      "metadata": {
        "id": "V0efWtdkM0Cl",
        "colab_type": "code",
        "colab": {
          "base_uri": "https://localhost:8080/",
          "height": 331
        },
        "outputId": "50f245c1-65ed-4bd3-b487-7afb526d4aa0"
      },
      "source": [
        "corr = dataset.corr()\n",
        "ax = sns.heatmap(\n",
        "    corr, \n",
        "    vmin=-1, vmax=1, center=0,\n",
        "    cmap=sns.diverging_palette(20, 220)\n",
        ")\n",
        "ax.set_xticklabels(\n",
        "    ax.get_xticklabels(),\n",
        "    rotation=90\n",
        ");"
      ],
      "execution_count": 30,
      "outputs": [
        {
          "output_type": "display_data",
          "data": {
            "image/png": "[encoded data removed]",
            "text/plain": [
              "<Figure size 432x288 with 2 Axes>"
            ]
          },
          "metadata": {
            "tags": [],
            "needs_background": "light"
          }
        }
      ]
    },
    {
      "cell_type": "code",
      "metadata": {
        "id": "4hJ0LtZCiblq",
        "colab_type": "code",
        "colab": {
          "base_uri": "https://localhost:8080/",
          "height": 67
        },
        "outputId": "2fa9b459-0cee-482d-fcf0-f01934019eb3"
      },
      "source": [
        "Xnew = np.array([[1456,0,1.6,1,5,0,49,0.2,193,3,20,1285,1427,3624,12,11,16,1,1,0]])\n",
        "ynew = model.predict_classes(Xnew)\n",
        "print(\"X=%s, Predicted=%s\" % (Xnew[0], ynew[0])) "
      ],
      "execution_count": 31,
      "outputs": [
        {
          "output_type": "stream",
          "text": [
            "X=[1.456e+03 0.000e+00 1.600e+00 1.000e+00 5.000e+00 0.000e+00 4.900e+01\n",
            " 2.000e-01 1.930e+02 3.000e+00 2.000e+01 1.285e+03 1.427e+03 3.624e+03\n",
            " 1.200e+01 1.100e+01 1.600e+01 1.000e+00 1.000e+00 0.000e+00], Predicted=3\n"
          ],
          "name": "stdout"
        }
      ]
    },
    {
      "cell_type": "code",
      "metadata": {
        "id": "KCK5Ulu8C4Xp",
        "colab_type": "code",
        "colab": {}
      },
      "source": [
        ""
      ],
      "execution_count": 31,
      "outputs": []
    }
  ]
}