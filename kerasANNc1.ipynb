{
  "nbformat": 4,
  "nbformat_minor": 0,
  "metadata": {
    "colab": {
      "name": "kerasANNc1.ipynb",
      "provenance": [],
      "collapsed_sections": [],
      "mount_file_id": "1_sbPrrqP_Di27djkd4Svk6V2b_h0-yK-",
      "authorship_tag": "ABX9TyPDXREtpbSKmR8Y7ZZax3kh",
      "include_colab_link": true
    },
    "kernelspec": {
      "name": "python3",
      "display_name": "Python 3"
    }
  },
  "cells": [
    {
      "cell_type": "markdown",
      "metadata": {
        "id": "view-in-github",
        "colab_type": "text"
      },
      "source": [
        "<a href=\"https://colab.research.google.com/github/gokulrejith/NeuralNetworkBasics/blob/master/kerasANNc1.ipynb\" target=\"_parent\"><img src=\"https://colab.research.google.com/assets/colab-badge.svg\" alt=\"Open In Colab\"/></a>"
      ]
    },
    {
      "cell_type": "markdown",
      "metadata": {
        "id": "DEzrlK7oXePu",
        "colab_type": "text"
      },
      "source": [
        "#**Artificial Neural Network (ANN) - Keras**"
      ]
    },
    {
      "cell_type": "markdown",
      "metadata": {
        "id": "WLbOUJ5I_LhF",
        "colab_type": "text"
      },
      "source": [
        "Import Numerical python (Numpy) & Pandas for loading and manipulating data"
      ]
    },
    {
      "cell_type": "code",
      "metadata": {
        "id": "mY1czRi49oaS",
        "colab_type": "code",
        "colab": {}
      },
      "source": [
        "import numpy as np\n",
        "import pandas as pd"
      ],
      "execution_count": 1,
      "outputs": []
    },
    {
      "cell_type": "markdown",
      "metadata": {
        "id": "ErYJgjy2B5Xa",
        "colab_type": "text"
      },
      "source": [
        "Load the dataset and show data stats"
      ]
    },
    {
      "cell_type": "code",
      "metadata": {
        "id": "uInOdM8W_rEJ",
        "colab_type": "code",
        "colab": {
          "base_uri": "https://localhost:8080/",
          "height": 487
        },
        "outputId": "03912d89-bca8-48fb-f090-cd1fa78e8efc"
      },
      "source": [
        "dataset = pd.read_csv(\"/content/drive/My Drive/MobileData.csv\") \n",
        "dataset.info()"
      ],
      "execution_count": 2,
      "outputs": [
        {
          "output_type": "stream",
          "text": [
            "<class 'pandas.core.frame.DataFrame'>\n",
            "RangeIndex: 2000 entries, 0 to 1999\n",
            "Data columns (total 21 columns):\n",
            " #   Column         Non-Null Count  Dtype  \n",
            "---  ------         --------------  -----  \n",
            " 0   battery_power  2000 non-null   int64  \n",
            " 1   blue           2000 non-null   int64  \n",
            " 2   clock_speed    2000 non-null   float64\n",
            " 3   dual_sim       2000 non-null   int64  \n",
            " 4   fc             2000 non-null   int64  \n",
            " 5   four_g         2000 non-null   int64  \n",
            " 6   int_memory     2000 non-null   int64  \n",
            " 7   m_dep          2000 non-null   float64\n",
            " 8   mobile_wt      2000 non-null   int64  \n",
            " 9   n_cores        2000 non-null   int64  \n",
            " 10  pc             2000 non-null   int64  \n",
            " 11  px_height      2000 non-null   int64  \n",
            " 12  px_width       2000 non-null   int64  \n",
            " 13  ram            2000 non-null   int64  \n",
            " 14  sc_h           2000 non-null   int64  \n",
            " 15  sc_w           2000 non-null   int64  \n",
            " 16  talk_time      2000 non-null   int64  \n",
            " 17  three_g        2000 non-null   int64  \n",
            " 18  touch_screen   2000 non-null   int64  \n",
            " 19  wifi           2000 non-null   int64  \n",
            " 20  price_range    2000 non-null   int64  \n",
            "dtypes: float64(2), int64(19)\n",
            "memory usage: 328.2 KB\n"
          ],
          "name": "stdout"
        }
      ]
    },
    {
      "cell_type": "code",
      "metadata": {
        "id": "OrOCyX6l_4Q-",
        "colab_type": "code",
        "colab": {
          "base_uri": "https://localhost:8080/",
          "height": 304
        },
        "outputId": "7570db40-f20c-4d9e-c74c-643162710510"
      },
      "source": [
        "pd.set_option('display.max_columns', None) # To show all columns\n",
        "dataset.head(8)"
      ],
      "execution_count": 3,
      "outputs": [
        {
          "output_type": "execute_result",
          "data": {
            "text/html": [
              "<div>\n",
              "<style scoped>\n",
              "    .dataframe tbody tr th:only-of-type {\n",
              "        vertical-align: middle;\n",
              "    }\n",
              "\n",
              "    .dataframe tbody tr th {\n",
              "        vertical-align: top;\n",
              "    }\n",
              "\n",
              "    .dataframe thead th {\n",
              "        text-align: right;\n",
              "    }\n",
              "</style>\n",
              "<table border=\"1\" class=\"dataframe\">\n",
              "  <thead>\n",
              "    <tr style=\"text-align: right;\">\n",
              "      <th></th>\n",
              "      <th>battery_power</th>\n",
              "      <th>blue</th>\n",
              "      <th>clock_speed</th>\n",
              "      <th>dual_sim</th>\n",
              "      <th>fc</th>\n",
              "      <th>four_g</th>\n",
              "      <th>int_memory</th>\n",
              "      <th>m_dep</th>\n",
              "      <th>mobile_wt</th>\n",
              "      <th>n_cores</th>\n",
              "      <th>pc</th>\n",
              "      <th>px_height</th>\n",
              "      <th>px_width</th>\n",
              "      <th>ram</th>\n",
              "      <th>sc_h</th>\n",
              "      <th>sc_w</th>\n",
              "      <th>talk_time</th>\n",
              "      <th>three_g</th>\n",
              "      <th>touch_screen</th>\n",
              "      <th>wifi</th>\n",
              "      <th>price_range</th>\n",
              "    </tr>\n",
              "  </thead>\n",
              "  <tbody>\n",
              "    <tr>\n",
              "      <th>0</th>\n",
              "      <td>842</td>\n",
              "      <td>0</td>\n",
              "      <td>2.2</td>\n",
              "      <td>0</td>\n",
              "      <td>1</td>\n",
              "      <td>0</td>\n",
              "      <td>7</td>\n",
              "      <td>0.6</td>\n",
              "      <td>188</td>\n",
              "      <td>2</td>\n",
              "      <td>2</td>\n",
              "      <td>20</td>\n",
              "      <td>756</td>\n",
              "      <td>2549</td>\n",
              "      <td>9</td>\n",
              "      <td>7</td>\n",
              "      <td>19</td>\n",
              "      <td>0</td>\n",
              "      <td>0</td>\n",
              "      <td>1</td>\n",
              "      <td>1</td>\n",
              "    </tr>\n",
              "    <tr>\n",
              "      <th>1</th>\n",
              "      <td>1021</td>\n",
              "      <td>1</td>\n",
              "      <td>0.5</td>\n",
              "      <td>1</td>\n",
              "      <td>0</td>\n",
              "      <td>1</td>\n",
              "      <td>53</td>\n",
              "      <td>0.7</td>\n",
              "      <td>136</td>\n",
              "      <td>3</td>\n",
              "      <td>6</td>\n",
              "      <td>905</td>\n",
              "      <td>1988</td>\n",
              "      <td>2631</td>\n",
              "      <td>17</td>\n",
              "      <td>3</td>\n",
              "      <td>7</td>\n",
              "      <td>1</td>\n",
              "      <td>1</td>\n",
              "      <td>0</td>\n",
              "      <td>2</td>\n",
              "    </tr>\n",
              "    <tr>\n",
              "      <th>2</th>\n",
              "      <td>563</td>\n",
              "      <td>1</td>\n",
              "      <td>0.5</td>\n",
              "      <td>1</td>\n",
              "      <td>2</td>\n",
              "      <td>1</td>\n",
              "      <td>41</td>\n",
              "      <td>0.9</td>\n",
              "      <td>145</td>\n",
              "      <td>5</td>\n",
              "      <td>6</td>\n",
              "      <td>1263</td>\n",
              "      <td>1716</td>\n",
              "      <td>2603</td>\n",
              "      <td>11</td>\n",
              "      <td>2</td>\n",
              "      <td>9</td>\n",
              "      <td>1</td>\n",
              "      <td>1</td>\n",
              "      <td>0</td>\n",
              "      <td>2</td>\n",
              "    </tr>\n",
              "    <tr>\n",
              "      <th>3</th>\n",
              "      <td>615</td>\n",
              "      <td>1</td>\n",
              "      <td>2.5</td>\n",
              "      <td>0</td>\n",
              "      <td>0</td>\n",
              "      <td>0</td>\n",
              "      <td>10</td>\n",
              "      <td>0.8</td>\n",
              "      <td>131</td>\n",
              "      <td>6</td>\n",
              "      <td>9</td>\n",
              "      <td>1216</td>\n",
              "      <td>1786</td>\n",
              "      <td>2769</td>\n",
              "      <td>16</td>\n",
              "      <td>8</td>\n",
              "      <td>11</td>\n",
              "      <td>1</td>\n",
              "      <td>0</td>\n",
              "      <td>0</td>\n",
              "      <td>2</td>\n",
              "    </tr>\n",
              "    <tr>\n",
              "      <th>4</th>\n",
              "      <td>1821</td>\n",
              "      <td>1</td>\n",
              "      <td>1.2</td>\n",
              "      <td>0</td>\n",
              "      <td>13</td>\n",
              "      <td>1</td>\n",
              "      <td>44</td>\n",
              "      <td>0.6</td>\n",
              "      <td>141</td>\n",
              "      <td>2</td>\n",
              "      <td>14</td>\n",
              "      <td>1208</td>\n",
              "      <td>1212</td>\n",
              "      <td>1411</td>\n",
              "      <td>8</td>\n",
              "      <td>2</td>\n",
              "      <td>15</td>\n",
              "      <td>1</td>\n",
              "      <td>1</td>\n",
              "      <td>0</td>\n",
              "      <td>1</td>\n",
              "    </tr>\n",
              "    <tr>\n",
              "      <th>5</th>\n",
              "      <td>1859</td>\n",
              "      <td>0</td>\n",
              "      <td>0.5</td>\n",
              "      <td>1</td>\n",
              "      <td>3</td>\n",
              "      <td>0</td>\n",
              "      <td>22</td>\n",
              "      <td>0.7</td>\n",
              "      <td>164</td>\n",
              "      <td>1</td>\n",
              "      <td>7</td>\n",
              "      <td>1004</td>\n",
              "      <td>1654</td>\n",
              "      <td>1067</td>\n",
              "      <td>17</td>\n",
              "      <td>1</td>\n",
              "      <td>10</td>\n",
              "      <td>1</td>\n",
              "      <td>0</td>\n",
              "      <td>0</td>\n",
              "      <td>1</td>\n",
              "    </tr>\n",
              "    <tr>\n",
              "      <th>6</th>\n",
              "      <td>1821</td>\n",
              "      <td>0</td>\n",
              "      <td>1.7</td>\n",
              "      <td>0</td>\n",
              "      <td>4</td>\n",
              "      <td>1</td>\n",
              "      <td>10</td>\n",
              "      <td>0.8</td>\n",
              "      <td>139</td>\n",
              "      <td>8</td>\n",
              "      <td>10</td>\n",
              "      <td>381</td>\n",
              "      <td>1018</td>\n",
              "      <td>3220</td>\n",
              "      <td>13</td>\n",
              "      <td>8</td>\n",
              "      <td>18</td>\n",
              "      <td>1</td>\n",
              "      <td>0</td>\n",
              "      <td>1</td>\n",
              "      <td>3</td>\n",
              "    </tr>\n",
              "    <tr>\n",
              "      <th>7</th>\n",
              "      <td>1954</td>\n",
              "      <td>0</td>\n",
              "      <td>0.5</td>\n",
              "      <td>1</td>\n",
              "      <td>0</td>\n",
              "      <td>0</td>\n",
              "      <td>24</td>\n",
              "      <td>0.8</td>\n",
              "      <td>187</td>\n",
              "      <td>4</td>\n",
              "      <td>0</td>\n",
              "      <td>512</td>\n",
              "      <td>1149</td>\n",
              "      <td>700</td>\n",
              "      <td>16</td>\n",
              "      <td>3</td>\n",
              "      <td>5</td>\n",
              "      <td>1</td>\n",
              "      <td>1</td>\n",
              "      <td>1</td>\n",
              "      <td>0</td>\n",
              "    </tr>\n",
              "  </tbody>\n",
              "</table>\n",
              "</div>"
            ],
            "text/plain": [
              "   battery_power  blue  clock_speed  dual_sim  fc  four_g  int_memory  m_dep  \\\n",
              "0            842     0          2.2         0   1       0           7    0.6   \n",
              "1           1021     1          0.5         1   0       1          53    0.7   \n",
              "2            563     1          0.5         1   2       1          41    0.9   \n",
              "3            615     1          2.5         0   0       0          10    0.8   \n",
              "4           1821     1          1.2         0  13       1          44    0.6   \n",
              "5           1859     0          0.5         1   3       0          22    0.7   \n",
              "6           1821     0          1.7         0   4       1          10    0.8   \n",
              "7           1954     0          0.5         1   0       0          24    0.8   \n",
              "\n",
              "   mobile_wt  n_cores  pc  px_height  px_width   ram  sc_h  sc_w  talk_time  \\\n",
              "0        188        2   2         20       756  2549     9     7         19   \n",
              "1        136        3   6        905      1988  2631    17     3          7   \n",
              "2        145        5   6       1263      1716  2603    11     2          9   \n",
              "3        131        6   9       1216      1786  2769    16     8         11   \n",
              "4        141        2  14       1208      1212  1411     8     2         15   \n",
              "5        164        1   7       1004      1654  1067    17     1         10   \n",
              "6        139        8  10        381      1018  3220    13     8         18   \n",
              "7        187        4   0        512      1149   700    16     3          5   \n",
              "\n",
              "   three_g  touch_screen  wifi  price_range  \n",
              "0        0             0     1            1  \n",
              "1        1             1     0            2  \n",
              "2        1             1     0            2  \n",
              "3        1             0     0            2  \n",
              "4        1             1     0            1  \n",
              "5        1             0     0            1  \n",
              "6        1             0     1            3  \n",
              "7        1             1     1            0  "
            ]
          },
          "metadata": {
            "tags": []
          },
          "execution_count": 3
        }
      ]
    },
    {
      "cell_type": "markdown",
      "metadata": {
        "id": "W9OgpNecDofK",
        "colab_type": "text"
      },
      "source": [
        "In the above dataset the aim is to predict the price range in which mobiles lie. So ***price_range*** is the target variable and all others are predictor variables. Prices are classified as 0,1,2,3 in this dataset.\n",
        "|| 0 (low cost)\n",
        "1 (medium cost)\n",
        "2 (high cost)\n",
        "3 (very high cost) ||\n",
        "So, this is a Multivariate classification problem."
      ]
    },
    {
      "cell_type": "markdown",
      "metadata": {
        "id": "otAi74FdHd47",
        "colab_type": "text"
      },
      "source": [
        "Changing pandas dataframe to numpy array and selecting columns (X contains features i.e. predictor variables and y contains the target variables)"
      ]
    },
    {
      "cell_type": "code",
      "metadata": {
        "id": "2KukNAnnEHmD",
        "colab_type": "code",
        "colab": {}
      },
      "source": [
        "X = dataset.iloc[:,:20].values\n",
        "y = dataset.iloc[:,20:21].values"
      ],
      "execution_count": 4,
      "outputs": []
    },
    {
      "cell_type": "markdown",
      "metadata": {
        "id": "KLtSAl9CSVi5",
        "colab_type": "text"
      },
      "source": [
        "##Data Visualizaion & Preprocessing"
      ]
    },
    {
      "cell_type": "code",
      "metadata": {
        "id": "Qg-RaUtF-3uS",
        "colab_type": "code",
        "colab": {
          "base_uri": "https://localhost:8080/",
          "height": 346
        },
        "outputId": "39c95a2b-1dae-4b97-ec4a-49769490ec00"
      },
      "source": [
        "# visualize the relationship between the features and classes using scatterplots\n",
        "import seaborn as sns\n",
        "g = sns.pairplot(dataset, x_vars= list(dataset.columns), y_vars='price_range')\n",
        "g.fig.set_size_inches(17,4)"
      ],
      "execution_count": 5,
      "outputs": [
        {
          "output_type": "stream",
          "text": [
            "/usr/local/lib/python3.6/dist-packages/statsmodels/tools/_testing.py:19: FutureWarning: pandas.util.testing is deprecated. Use the functions in the public API at pandas.testing instead.\n",
            "  import pandas.util.testing as tm\n"
          ],
          "name": "stderr"
        },
        {
          "output_type": "display_data",
          "data": {
            "image/png": "[encoded data removed]",
            "text/plain": [
              "<Figure size 1224x288 with 21 Axes>"
            ]
          },
          "metadata": {
            "tags": [],
            "needs_background": "light"
          }
        }
      ]
    },
    {
      "cell_type": "markdown",
      "metadata": {
        "id": "9o_PdZZCH5-A",
        "colab_type": "text"
      },
      "source": [
        "Checking and removing outliers (if any) —> By z-score method"
      ]
    },
    {
      "cell_type": "code",
      "metadata": {
        "id": "hSj8WtrjBW1y",
        "colab_type": "code",
        "colab": {
          "base_uri": "https://localhost:8080/",
          "height": 134
        },
        "outputId": "6fb87531-549b-4039-facd-c3cbba6568f0"
      },
      "source": [
        "from scipy import stats\n",
        "z = np.abs(stats.zscore(dataset))\n",
        "print(z)"
      ],
      "execution_count": 6,
      "outputs": [
        {
          "output_type": "stream",
          "text": [
            "[[0.90259726 0.9900495  0.83077942 ... 1.00601811 0.98609664 0.4472136 ]\n",
            " [0.49513857 1.0100505  1.2530642  ... 0.99401789 1.01409939 0.4472136 ]\n",
            " [1.5376865  1.0100505  1.2530642  ... 0.99401789 1.01409939 0.4472136 ]\n",
            " ...\n",
            " [1.53077336 0.9900495  0.76274805 ... 0.99401789 1.01409939 1.34164079]\n",
            " [0.62252745 0.9900495  0.76274805 ... 0.99401789 0.98609664 1.34164079]\n",
            " [1.65833069 1.0100505  0.58562134 ... 0.99401789 0.98609664 1.34164079]]\n"
          ],
          "name": "stdout"
        }
      ]
    },
    {
      "cell_type": "code",
      "metadata": {
        "id": "_aqFeUJYBblA",
        "colab_type": "code",
        "colab": {
          "base_uri": "https://localhost:8080/",
          "height": 50
        },
        "outputId": "233fe5dc-a38d-42fd-db0b-0a39b89ae8c6"
      },
      "source": [
        "print(np.where(z > 3))"
      ],
      "execution_count": 7,
      "outputs": [
        {
          "output_type": "stream",
          "text": [
            "(array([  95,  226,  305, 1387, 1406, 1416, 1554, 1693, 1705, 1880, 1882,\n",
            "       1888]), array([4, 4, 4, 4, 4, 4, 4, 4, 4, 4, 4, 4]))\n"
          ],
          "name": "stdout"
        }
      ]
    },
    {
      "cell_type": "code",
      "metadata": {
        "id": "5xsmboFFHOZT",
        "colab_type": "code",
        "colab": {}
      },
      "source": [
        "datasetNew = dataset[(z < 3).all(axis=1)]"
      ],
      "execution_count": 8,
      "outputs": []
    },
    {
      "cell_type": "code",
      "metadata": {
        "id": "7mrg63fWHSof",
        "colab_type": "code",
        "colab": {
          "base_uri": "https://localhost:8080/",
          "height": 50
        },
        "outputId": "53c9dd90-ef60-47fa-de1f-d19244bec90d"
      },
      "source": [
        "print(dataset.shape)\n",
        "print(datasetNew.shape)"
      ],
      "execution_count": 9,
      "outputs": [
        {
          "output_type": "stream",
          "text": [
            "(2000, 21)\n",
            "(1988, 21)\n"
          ],
          "name": "stdout"
        }
      ]
    },
    {
      "cell_type": "code",
      "metadata": {
        "id": "oYgjGc7BIPhT",
        "colab_type": "code",
        "colab": {}
      },
      "source": [
        "X = datasetNew.iloc[:,:20].values #Redefining X & y\n",
        "y = datasetNew.iloc[:,20:21].values"
      ],
      "execution_count": 10,
      "outputs": []
    },
    {
      "cell_type": "markdown",
      "metadata": {
        "id": "uMSn_3UMIPLM",
        "colab_type": "text"
      },
      "source": [
        "Checking whether all classes are balanced\n",
        "\n",
        "\n"
      ]
    },
    {
      "cell_type": "code",
      "metadata": {
        "id": "Bu2KC26VNIWk",
        "colab_type": "code",
        "colab": {
          "base_uri": "https://localhost:8080/",
          "height": 458
        },
        "outputId": "247ded72-4534-4e9f-d7c6-a55e0f58c6e4"
      },
      "source": [
        "from matplotlib import pyplot as plt\n",
        "fig, ax = plt.subplots(figsize =(10, 7)) \n",
        "ax.hist(y) \n",
        "plt.xlabel(\"X-axis (Value)\") \n",
        "plt.ylabel(\"y-axis (Frequency)\")\n",
        "plt.title('Target variable') \n",
        "plt.show()"
      ],
      "execution_count": 11,
      "outputs": [
        {
          "output_type": "display_data",
          "data": {
            "image/png": "[encoded data removed]",
            "text/plain": [
              "<Figure size 720x504 with 1 Axes>"
            ]
          },
          "metadata": {
            "tags": [],
            "needs_background": "light"
          }
        }
      ]
    },
    {
      "cell_type": "markdown",
      "metadata": {
        "id": "yl9-s52nPGZ7",
        "colab_type": "text"
      },
      "source": [
        "Checking whether predictor variables (X) needs to be **normalized**"
      ]
    },
    {
      "cell_type": "code",
      "metadata": {
        "id": "dvqnJQAzMLuC",
        "colab_type": "code",
        "colab": {
          "base_uri": "https://localhost:8080/",
          "height": 458
        },
        "outputId": "1f17a6ac-3d0d-4b45-d59b-c6c11db9968b"
      },
      "source": [
        "fig, ax = plt.subplots(figsize =(10, 7)) \n",
        "ax.hist(X , bins = 5) \n",
        "plt.xlabel(\"X-axis (Value)\") \n",
        "plt.ylabel(\"y-axis (Frequency)\")\n",
        "plt.title('Preditor variables') \n",
        "plt.show()"
      ],
      "execution_count": 12,
      "outputs": [
        {
          "output_type": "display_data",
          "data": {
            "image/png": "[encoded data removed]",
            "text/plain": [
              "<Figure size 720x504 with 1 Axes>"
            ]
          },
          "metadata": {
            "tags": [],
            "needs_background": "light"
          }
        }
      ]
    },
    {
      "cell_type": "markdown",
      "metadata": {
        "id": "kPPOMaKHPchq",
        "colab_type": "text"
      },
      "source": [
        "From the histogram we can see that the values lie in various ranges. So we need to bring all the values into a particular range without distorting the differences in the range of values. Normalization can also improve accuracy. Also algorithms like gradient descent can converge much faster if normalization is done.\n"
      ]
    },
    {
      "cell_type": "code",
      "metadata": {
        "id": "kFhGgXZ9HqnU",
        "colab_type": "code",
        "colab": {}
      },
      "source": [
        "from sklearn.preprocessing import StandardScaler\n",
        "sc = StandardScaler()\n",
        "X = sc.fit_transform(X)"
      ],
      "execution_count": 13,
      "outputs": []
    },
    {
      "cell_type": "code",
      "metadata": {
        "id": "IyAQXfPMMfNV",
        "colab_type": "code",
        "colab": {
          "base_uri": "https://localhost:8080/",
          "height": 458
        },
        "outputId": "510c5f60-f1bc-4b42-97e8-28785d3ddbb5"
      },
      "source": [
        "fig, ax = plt.subplots(figsize =(10, 7)) \n",
        "ax.hist(X, bins = 5) \n",
        "plt.xlabel(\"X-axis (Value)\") \n",
        "plt.ylabel(\"y-axis (Frequency)\")\n",
        "plt.title('Predictor variables') \n",
        "plt.show()"
      ],
      "execution_count": 14,
      "outputs": [
        {
          "output_type": "display_data",
          "data": {
            "image/png": "[encoded data removed]",
            "text/plain": [
              "<Figure size 720x504 with 1 Axes>"
            ]
          },
          "metadata": {
            "tags": [],
            "needs_background": "light"
          }
        }
      ]
    },
    {
      "cell_type": "markdown",
      "metadata": {
        "id": "sNcEdpwnQ_eq",
        "colab_type": "text"
      },
      "source": [
        "**One Hot Encoding** - It is a process to convert integer classes into binary values. Our dataset has 4 classes in 0, 1, 2, 3. Now we cannot directly feed this to neural network so we convert it in the form of binary.\n",
        "We can do this using a function in sklearn:"
      ]
    },
    {
      "cell_type": "code",
      "metadata": {
        "id": "5Y-q3d26Q9HB",
        "colab_type": "code",
        "colab": {
          "base_uri": "https://localhost:8080/",
          "height": 134
        },
        "outputId": "cf1e096d-fc66-4943-cfc7-1effeafce87b"
      },
      "source": [
        "y #Initial Values (Before OHE)"
      ],
      "execution_count": 15,
      "outputs": [
        {
          "output_type": "execute_result",
          "data": {
            "text/plain": [
              "array([[1],\n",
              "       [2],\n",
              "       [2],\n",
              "       ...,\n",
              "       [3],\n",
              "       [0],\n",
              "       [3]])"
            ]
          },
          "metadata": {
            "tags": []
          },
          "execution_count": 15
        }
      ]
    },
    {
      "cell_type": "code",
      "metadata": {
        "id": "YwCQvZCPQ_4a",
        "colab_type": "code",
        "colab": {
          "base_uri": "https://localhost:8080/",
          "height": 134
        },
        "outputId": "11660cb3-d66e-454d-c740-b4df26484c37"
      },
      "source": [
        "from sklearn.preprocessing import OneHotEncoder\n",
        "ohe = OneHotEncoder()\n",
        "y = ohe.fit_transform(y).toarray()\n",
        "y #After One Hot Encoding"
      ],
      "execution_count": 16,
      "outputs": [
        {
          "output_type": "execute_result",
          "data": {
            "text/plain": [
              "array([[0., 1., 0., 0.],\n",
              "       [0., 0., 1., 0.],\n",
              "       [0., 0., 1., 0.],\n",
              "       ...,\n",
              "       [0., 0., 0., 1.],\n",
              "       [1., 0., 0., 0.],\n",
              "       [0., 0., 0., 1.]])"
            ]
          },
          "metadata": {
            "tags": []
          },
          "execution_count": 16
        }
      ]
    },
    {
      "cell_type": "markdown",
      "metadata": {
        "id": "wijgcISOSBBL",
        "colab_type": "text"
      },
      "source": [
        "Now there is one unique binary value for the class. The new array formed will be of shape (n, number of classes), where n is the number of samples in our dataset."
      ]
    },
    {
      "cell_type": "markdown",
      "metadata": {
        "id": "zVs_2b3FSuUD",
        "colab_type": "text"
      },
      "source": [
        "Splitting data into test and train in the ratio of 1:9"
      ]
    },
    {
      "cell_type": "code",
      "metadata": {
        "id": "CaHmlVJ4SKuU",
        "colab_type": "code",
        "colab": {}
      },
      "source": [
        "from sklearn.model_selection import train_test_split\n",
        "X_train,X_test,y_train,y_test = train_test_split(X,y,test_size = 0.1)"
      ],
      "execution_count": 17,
      "outputs": []
    },
    {
      "cell_type": "markdown",
      "metadata": {
        "id": "poB-iMmOS7tL",
        "colab_type": "text"
      },
      "source": [
        "Defining the Model and training"
      ]
    },
    {
      "cell_type": "markdown",
      "metadata": {
        "id": "Xlp32ctoTChZ",
        "colab_type": "text"
      },
      "source": [
        "In our dataset, the input is of 20 values and output is of 4 values. So the input and output layer is of 20 and 4 dimensions respectively."
      ]
    },
    {
      "cell_type": "code",
      "metadata": {
        "id": "wWvcx4LOS888",
        "colab_type": "code",
        "colab": {
          "base_uri": "https://localhost:8080/",
          "height": 34
        },
        "outputId": "f15e18a2-ced4-4a79-d566-cf1461e55db0"
      },
      "source": [
        "import keras\n",
        "from keras.models import Sequential\n",
        "from keras.layers import Dense "
      ],
      "execution_count": 18,
      "outputs": [
        {
          "output_type": "stream",
          "text": [
            "Using TensorFlow backend.\n"
          ],
          "name": "stderr"
        }
      ]
    },
    {
      "cell_type": "markdown",
      "metadata": {
        "id": "tPwfcfBbTnq7",
        "colab_type": "text"
      },
      "source": [
        "**2 hidden layer of dimensions 12**\n",
        "\n",
        " A Deep Neural Network (DNN) commonly has between 2-8 additional layers of neurons.\n",
        "\n"
      ]
    },
    {
      "cell_type": "code",
      "metadata": {
        "colab_type": "code",
        "id": "ObV9OqraXZ20",
        "colab": {}
      },
      "source": [
        "model = Sequential()\n",
        "model.add(Dense(12, input_dim=20, activation='relu'))\n",
        "model.add(Dense(12, activation='relu'))\n",
        "model.add(Dense(4, activation='softmax'))"
      ],
      "execution_count": 19,
      "outputs": []
    },
    {
      "cell_type": "code",
      "metadata": {
        "id": "nrf2_yg0X3wU",
        "colab_type": "code",
        "colab": {
          "base_uri": "https://localhost:8080/",
          "height": 336
        },
        "outputId": "bce2cdef-2838-4910-94af-d7278325342c"
      },
      "source": [
        "!pip install ann_visualizer\n",
        "!pip install graphviz\n",
        "from ann_visualizer.visualize import ann_viz\n",
        "ann_viz(model, view = True, filename=\"network.gv\", title=\"Shape of your Neural Network\")\n",
        "print(\"\\033[1m \\033[92m Model graphed. Click on the Navigation menu & download \\n(For mobile users click on File Browser in the Navigation)\\n \\033[31m'network.gv.pdf' \\033[92mto visualize how our Neural Network looks like.\")\n",
        "model.summary()"
      ],
      "execution_count": 20,
      "outputs": [
        {
          "output_type": "stream",
          "text": [
            "Requirement already satisfied: ann_visualizer in /usr/local/lib/python3.6/dist-packages (2.5)\n",
            "Requirement already satisfied: graphviz in /usr/local/lib/python3.6/dist-packages (0.10.1)\n",
            "\u001b[1m \u001b[92m Model graphed. Click on the Navigation menu & download \n",
            "(For mobile users click on File Browser in the Navigation)\n",
            " \u001b[31m'network.gv.pdf' \u001b[92mto visualize how our Neural Network looks like.\n",
            "Model: \"sequential_1\"\n",
            "_________________________________________________________________\n",
            "Layer (type)                 Output Shape              Param #   \n",
            "=================================================================\n",
            "dense_1 (Dense)              (None, 12)                252       \n",
            "_________________________________________________________________\n",
            "dense_2 (Dense)              (None, 12)                156       \n",
            "_________________________________________________________________\n",
            "dense_3 (Dense)              (None, 4)                 52        \n",
            "=================================================================\n",
            "Total params: 460\n",
            "Trainable params: 460\n",
            "Non-trainable params: 0\n",
            "_________________________________________________________________\n"
          ],
          "name": "stdout"
        }
      ]
    },
    {
      "cell_type": "code",
      "metadata": {
        "id": "gthflSj2TJCW",
        "colab_type": "code",
        "colab": {}
      },
      "source": [
        "model.compile(loss='categorical_crossentropy', optimizer='adam', metrics=['accuracy'])"
      ],
      "execution_count": 21,
      "outputs": []
    },
    {
      "cell_type": "markdown",
      "metadata": {
        "id": "9HYc3u2vDoF9",
        "colab_type": "text"
      },
      "source": [
        "**Initial weights (Set Randomly)**"
      ]
    },
    {
      "cell_type": "code",
      "metadata": {
        "id": "LJKcSgK_DOzu",
        "colab_type": "code",
        "colab": {
          "base_uri": "https://localhost:8080/",
          "height": 1000
        },
        "outputId": "fdcc6cf1-1935-44fc-e61e-d8a1caad6b3f"
      },
      "source": [
        "for layer in model.layers: \n",
        "  print(layer.get_config(), layer.get_weights())"
      ],
      "execution_count": 22,
      "outputs": [
        {
          "output_type": "stream",
          "text": [
            "{'name': 'dense_1', 'trainable': True, 'batch_input_shape': (None, 20), 'dtype': 'float32', 'units': 12, 'activation': 'relu', 'use_bias': True, 'kernel_initializer': {'class_name': 'VarianceScaling', 'config': {'scale': 1.0, 'mode': 'fan_avg', 'distribution': 'uniform', 'seed': None}}, 'bias_initializer': {'class_name': 'Zeros', 'config': {}}, 'kernel_regularizer': None, 'bias_regularizer': None, 'activity_regularizer': None, 'kernel_constraint': None, 'bias_constraint': None} [array([[-0.07411569,  0.08678356, -0.32011926, -0.15061554, -0.29384813,\n",
            "        -0.17913193,  0.09628198, -0.20616145, -0.18409005, -0.04608887,\n",
            "         0.21393439,  0.34765777],\n",
            "       [-0.09790489,  0.10791364, -0.4316643 ,  0.16316238, -0.32293147,\n",
            "        -0.29309905,  0.05576468, -0.30089682, -0.3746614 ,  0.36628136,\n",
            "        -0.40136665, -0.09983441],\n",
            "       [-0.1765582 , -0.41805884,  0.31383774,  0.224026  , -0.34500444,\n",
            "        -0.19950104,  0.06120098, -0.21560188,  0.13351968, -0.15954185,\n",
            "        -0.31594524, -0.40590397],\n",
            "       [ 0.25173023, -0.25737652, -0.18996131,  0.01039714,  0.15377125,\n",
            "        -0.37942326,  0.38629964, -0.06448501, -0.3093163 ,  0.3247585 ,\n",
            "        -0.40024364, -0.3676856 ],\n",
            "       [-0.1633595 , -0.15012258,  0.14388421,  0.409049  ,  0.07832918,\n",
            "         0.38247713, -0.15783161,  0.1340991 , -0.07215551, -0.03259873,\n",
            "         0.31824496,  0.37988648],\n",
            "       [ 0.3432366 ,  0.20313928, -0.04345277, -0.03106356, -0.07659796,\n",
            "        -0.01955912,  0.36560997,  0.29408702,  0.3493124 , -0.05340123,\n",
            "         0.40791216,  0.21118036],\n",
            "       [-0.09752983, -0.41227418, -0.08459118, -0.2769572 , -0.20793457,\n",
            "         0.06963351, -0.07733899, -0.09056494,  0.31339183, -0.01689297,\n",
            "         0.0685716 ,  0.08020839],\n",
            "       [-0.16241312, -0.25338215,  0.29851583, -0.00119984,  0.29554918,\n",
            "         0.10900906,  0.04917672, -0.08123106,  0.30242857, -0.39758164,\n",
            "         0.30846378,  0.32010522],\n",
            "       [ 0.1004627 ,  0.2468498 , -0.3241433 , -0.01918146,  0.0026902 ,\n",
            "         0.38130167, -0.15803486, -0.34100097,  0.06081912,  0.24535856,\n",
            "         0.1938509 ,  0.36599186],\n",
            "       [ 0.3340988 , -0.21924423, -0.18991238,  0.3628061 ,  0.30482563,\n",
            "         0.1573784 ,  0.21450123,  0.18032888,  0.01713166, -0.25366718,\n",
            "         0.02081695, -0.09895709],\n",
            "       [-0.1222271 ,  0.34606066, -0.3589376 ,  0.2337456 , -0.41956478,\n",
            "         0.08672675, -0.09307757, -0.3197853 ,  0.11008015,  0.42224905,\n",
            "        -0.37933087, -0.27152935],\n",
            "       [-0.3902581 ,  0.32892552, -0.04085851, -0.28231755,  0.16791198,\n",
            "        -0.09466743,  0.0792872 , -0.24875127,  0.15371361, -0.40526494,\n",
            "        -0.16826352, -0.33865994],\n",
            "       [ 0.00347099,  0.05261734, -0.20306131, -0.3657641 ,  0.10367951,\n",
            "        -0.2895534 ,  0.08261666,  0.21860322,  0.37071297, -0.3013042 ,\n",
            "        -0.1862533 , -0.12948185],\n",
            "       [ 0.06560153,  0.42383376, -0.01786351, -0.2669881 ,  0.07146671,\n",
            "        -0.13314465,  0.11565068,  0.01058286, -0.33787668,  0.26924714,\n",
            "        -0.40100768, -0.07779622],\n",
            "       [-0.30179852,  0.35928085,  0.07924041, -0.40611583, -0.38921624,\n",
            "         0.25376275, -0.03869671,  0.27006242, -0.06998461,  0.38426247,\n",
            "        -0.19497973,  0.0947009 ],\n",
            "       [-0.2629192 ,  0.22729823,  0.29160765, -0.06196052, -0.31482738,\n",
            "        -0.22214264,  0.3085402 , -0.35917896, -0.429445  , -0.0783467 ,\n",
            "         0.19543263, -0.19909005],\n",
            "       [ 0.29416814,  0.04687068,  0.12314197, -0.2156731 ,  0.06134316,\n",
            "         0.28529504,  0.31638584,  0.09282187, -0.04673606,  0.04351184,\n",
            "         0.4100015 , -0.20312822],\n",
            "       [ 0.42163214,  0.20286104, -0.07726043, -0.41046205, -0.07819709,\n",
            "         0.32421628, -0.04247087,  0.1282089 ,  0.3808219 , -0.13835022,\n",
            "        -0.21945049, -0.26368222],\n",
            "       [-0.1439383 , -0.15060782, -0.21440586, -0.16653511, -0.04004085,\n",
            "        -0.33185178, -0.12183994, -0.09681448,  0.22569415,  0.33204195,\n",
            "         0.26047286,  0.13027462],\n",
            "       [ 0.38980696, -0.11548388, -0.42763895,  0.3616735 ,  0.20206395,\n",
            "        -0.3043462 , -0.41321263,  0.32218763, -0.20838687, -0.21400808,\n",
            "        -0.14479002, -0.37550104]], dtype=float32), array([0., 0., 0., 0., 0., 0., 0., 0., 0., 0., 0., 0.], dtype=float32)]\n",
            "{'name': 'dense_2', 'trainable': True, 'dtype': 'float32', 'units': 12, 'activation': 'relu', 'use_bias': True, 'kernel_initializer': {'class_name': 'VarianceScaling', 'config': {'scale': 1.0, 'mode': 'fan_avg', 'distribution': 'uniform', 'seed': None}}, 'bias_initializer': {'class_name': 'Zeros', 'config': {}}, 'kernel_regularizer': None, 'bias_regularizer': None, 'activity_regularizer': None, 'kernel_constraint': None, 'bias_constraint': None} [array([[-3.7258911e-01, -1.0508096e-01, -2.5331438e-01, -3.8288748e-01,\n",
            "        -2.9433811e-01,  3.1822753e-01,  2.4895823e-01, -4.4853330e-01,\n",
            "        -4.6056068e-01, -2.9774034e-01,  1.4309132e-01,  7.3336363e-03],\n",
            "       [ 4.2605400e-04,  3.3764839e-03, -2.5530601e-01, -3.3654749e-01,\n",
            "        -3.7016237e-01, -1.2645781e-01, -1.0001171e-01, -3.8837409e-01,\n",
            "         3.2280505e-01,  1.5317535e-01,  4.4005632e-02, -4.6288002e-01],\n",
            "       [ 2.0331085e-01, -1.5159154e-01,  4.6563935e-01,  4.4112778e-01,\n",
            "        -1.2470841e-02,  4.7455120e-01,  6.5459013e-03,  3.8878763e-01,\n",
            "        -4.6917236e-01, -3.8218248e-01, -4.4356704e-02,  4.1613603e-01],\n",
            "       [-1.0476732e-01,  1.0602713e-01,  2.8949833e-01,  1.1016369e-01,\n",
            "        -3.3508480e-01, -5.1649332e-02, -4.8998296e-01,  4.9433744e-01,\n",
            "        -2.8871477e-01,  3.7407625e-01, -2.5646639e-01,  2.3112440e-01],\n",
            "       [-1.9098878e-01, -1.4152646e-01,  4.2140210e-01, -2.7346480e-01,\n",
            "         2.7847397e-01,  3.1562436e-01, -1.0213292e-01, -4.9293327e-01,\n",
            "        -4.4587123e-01, -2.3008430e-01, -3.1291592e-01,  1.9944775e-01],\n",
            "       [ 2.6805425e-01,  2.3679197e-01, -5.0319433e-02,  4.8656857e-01,\n",
            "         7.5515389e-02,  3.9350307e-01,  2.2088015e-01,  4.8282516e-01,\n",
            "        -2.6835549e-01,  4.0506601e-01,  3.0586839e-02, -2.1291912e-01],\n",
            "       [-4.8670757e-01,  1.4218223e-01,  2.6711369e-01,  2.9692745e-01,\n",
            "         2.5730884e-01, -1.6452003e-01, -4.3918395e-01, -4.0167880e-01,\n",
            "         3.2264864e-01,  2.9345810e-01, -6.0915828e-02, -1.4024150e-01],\n",
            "       [-2.7330136e-01,  1.9267905e-01,  3.5111606e-01,  4.5618653e-01,\n",
            "         4.6364748e-01, -3.3266973e-01, -1.9168878e-01, -3.2720554e-01,\n",
            "         4.4906294e-01, -1.5363169e-01,  3.0716264e-01,  7.7809811e-02],\n",
            "       [-4.6580672e-02, -4.6693408e-01,  1.3442576e-01, -4.7743070e-01,\n",
            "        -5.5170894e-02, -2.7494705e-01,  4.7295654e-01, -1.8759596e-01,\n",
            "         4.9041426e-01, -9.1530561e-02, -1.6577590e-01, -3.2163310e-01],\n",
            "       [-3.1185782e-01,  3.5849547e-01, -6.7303658e-02,  4.3655109e-01,\n",
            "         2.4818075e-01, -2.8391671e-01, -2.3231804e-01, -3.6345243e-02,\n",
            "         3.9207041e-01, -3.9331114e-01, -3.8620698e-01,  2.8095841e-01],\n",
            "       [-3.7246954e-01, -2.6851726e-01,  1.4891291e-01,  4.3361306e-02,\n",
            "        -4.8260093e-02, -4.1394126e-01, -5.8455467e-03, -3.0960679e-01,\n",
            "         6.3977242e-02,  3.4213030e-01,  1.2273073e-01, -8.1339717e-02],\n",
            "       [ 2.6838970e-01, -1.8012488e-01,  3.9752281e-01, -2.2502220e-01,\n",
            "         4.6984744e-01,  1.9115090e-01,  3.7251496e-01,  3.1661999e-01,\n",
            "         4.3985629e-01, -9.6394777e-02,  3.6201620e-01,  3.5470259e-01]],\n",
            "      dtype=float32), array([0., 0., 0., 0., 0., 0., 0., 0., 0., 0., 0., 0.], dtype=float32)]\n",
            "{'name': 'dense_3', 'trainable': True, 'dtype': 'float32', 'units': 4, 'activation': 'softmax', 'use_bias': True, 'kernel_initializer': {'class_name': 'VarianceScaling', 'config': {'scale': 1.0, 'mode': 'fan_avg', 'distribution': 'uniform', 'seed': None}}, 'bias_initializer': {'class_name': 'Zeros', 'config': {}}, 'kernel_regularizer': None, 'bias_regularizer': None, 'activity_regularizer': None, 'kernel_constraint': None, 'bias_constraint': None} [array([[-0.1262247 ,  0.49470586,  0.36531663, -0.56350493],\n",
            "       [ 0.48560053, -0.14577904,  0.3241471 , -0.04795694],\n",
            "       [-0.4699523 , -0.24179482, -0.07315159, -0.20122862],\n",
            "       [ 0.5324375 ,  0.17023307, -0.2013152 ,  0.2505092 ],\n",
            "       [-0.43201905, -0.23330927,  0.42376035, -0.36240888],\n",
            "       [ 0.3685171 , -0.4703119 , -0.00572091, -0.60422003],\n",
            "       [ 0.454758  ,  0.23102653, -0.32967225,  0.6066405 ],\n",
            "       [-0.31490833, -0.4936738 , -0.56082886,  0.24438316],\n",
            "       [ 0.17826384,  0.23720998, -0.09797162, -0.34909576],\n",
            "       [-0.21262062, -0.09108502,  0.51160663, -0.27503648],\n",
            "       [ 0.525292  ,  0.12536359, -0.48838127, -0.14443994],\n",
            "       [ 0.04534382,  0.37885398, -0.26734808, -0.19422203]],\n",
            "      dtype=float32), array([0., 0., 0., 0.], dtype=float32)]\n"
          ],
          "name": "stdout"
        }
      ]
    },
    {
      "cell_type": "code",
      "metadata": {
        "id": "-EajnF65N8Ui",
        "colab_type": "code",
        "colab": {
          "base_uri": "https://localhost:8080/",
          "height": 1000
        },
        "outputId": "5c6f7771-4470-48a6-a099-4db9e3748346"
      },
      "source": [
        "history = model.fit(X_train, y_train,validation_data = (X_test,y_test), epochs=100, batch_size=64)"
      ],
      "execution_count": 23,
      "outputs": [
        {
          "output_type": "stream",
          "text": [
            "Train on 1789 samples, validate on 199 samples\n",
            "Epoch 1/100\n",
            "1789/1789 [==============================] - 0s 173us/step - loss: 1.4613 - accuracy: 0.2348 - val_loss: 1.4034 - val_accuracy: 0.2864\n",
            "Epoch 2/100\n",
            "1789/1789 [==============================] - 0s 21us/step - loss: 1.4245 - accuracy: 0.2577 - val_loss: 1.3793 - val_accuracy: 0.2965\n",
            "Epoch 3/100\n",
            "1789/1789 [==============================] - 0s 21us/step - loss: 1.3991 - accuracy: 0.2750 - val_loss: 1.3605 - val_accuracy: 0.3116\n",
            "Epoch 4/100\n",
            "1789/1789 [==============================] - 0s 21us/step - loss: 1.3789 - accuracy: 0.2912 - val_loss: 1.3408 - val_accuracy: 0.3568\n",
            "Epoch 5/100\n",
            "1789/1789 [==============================] - 0s 21us/step - loss: 1.3589 - accuracy: 0.3147 - val_loss: 1.3174 - val_accuracy: 0.3920\n",
            "Epoch 6/100\n",
            "1789/1789 [==============================] - 0s 24us/step - loss: 1.3368 - accuracy: 0.3242 - val_loss: 1.2925 - val_accuracy: 0.4171\n",
            "Epoch 7/100\n",
            "1789/1789 [==============================] - 0s 22us/step - loss: 1.3096 - accuracy: 0.3583 - val_loss: 1.2592 - val_accuracy: 0.4322\n",
            "Epoch 8/100\n",
            "1789/1789 [==============================] - 0s 22us/step - loss: 1.2758 - accuracy: 0.3784 - val_loss: 1.2197 - val_accuracy: 0.4422\n",
            "Epoch 9/100\n",
            "1789/1789 [==============================] - 0s 21us/step - loss: 1.2327 - accuracy: 0.4153 - val_loss: 1.1719 - val_accuracy: 0.4774\n",
            "Epoch 10/100\n",
            "1789/1789 [==============================] - 0s 21us/step - loss: 1.1796 - accuracy: 0.4600 - val_loss: 1.1172 - val_accuracy: 0.4975\n",
            "Epoch 11/100\n",
            "1789/1789 [==============================] - 0s 20us/step - loss: 1.1173 - accuracy: 0.4880 - val_loss: 1.0564 - val_accuracy: 0.5327\n",
            "Epoch 12/100\n",
            "1789/1789 [==============================] - 0s 22us/step - loss: 1.0500 - accuracy: 0.5405 - val_loss: 0.9928 - val_accuracy: 0.5678\n",
            "Epoch 13/100\n",
            "1789/1789 [==============================] - 0s 22us/step - loss: 0.9805 - accuracy: 0.5802 - val_loss: 0.9291 - val_accuracy: 0.5980\n",
            "Epoch 14/100\n",
            "1789/1789 [==============================] - 0s 23us/step - loss: 0.9120 - accuracy: 0.6322 - val_loss: 0.8667 - val_accuracy: 0.6482\n",
            "Epoch 15/100\n",
            "1789/1789 [==============================] - 0s 22us/step - loss: 0.8475 - accuracy: 0.6864 - val_loss: 0.8094 - val_accuracy: 0.6683\n",
            "Epoch 16/100\n",
            "1789/1789 [==============================] - 0s 23us/step - loss: 0.7865 - accuracy: 0.7205 - val_loss: 0.7540 - val_accuracy: 0.7236\n",
            "Epoch 17/100\n",
            "1789/1789 [==============================] - 0s 22us/step - loss: 0.7298 - accuracy: 0.7462 - val_loss: 0.7037 - val_accuracy: 0.7588\n",
            "Epoch 18/100\n",
            "1789/1789 [==============================] - 0s 20us/step - loss: 0.6767 - accuracy: 0.7697 - val_loss: 0.6565 - val_accuracy: 0.7638\n",
            "Epoch 19/100\n",
            "1789/1789 [==============================] - 0s 21us/step - loss: 0.6284 - accuracy: 0.7859 - val_loss: 0.6135 - val_accuracy: 0.7638\n",
            "Epoch 20/100\n",
            "1789/1789 [==============================] - 0s 20us/step - loss: 0.5822 - accuracy: 0.8094 - val_loss: 0.5743 - val_accuracy: 0.8090\n",
            "Epoch 21/100\n",
            "1789/1789 [==============================] - 0s 21us/step - loss: 0.5409 - accuracy: 0.8385 - val_loss: 0.5346 - val_accuracy: 0.8191\n",
            "Epoch 22/100\n",
            "1789/1789 [==============================] - 0s 26us/step - loss: 0.5029 - accuracy: 0.8502 - val_loss: 0.5018 - val_accuracy: 0.8342\n",
            "Epoch 23/100\n",
            "1789/1789 [==============================] - 0s 20us/step - loss: 0.4668 - accuracy: 0.8636 - val_loss: 0.4721 - val_accuracy: 0.8492\n",
            "Epoch 24/100\n",
            "1789/1789 [==============================] - 0s 22us/step - loss: 0.4340 - accuracy: 0.8770 - val_loss: 0.4438 - val_accuracy: 0.8693\n",
            "Epoch 25/100\n",
            "1789/1789 [==============================] - 0s 23us/step - loss: 0.4043 - accuracy: 0.8798 - val_loss: 0.4182 - val_accuracy: 0.8492\n",
            "Epoch 26/100\n",
            "1789/1789 [==============================] - 0s 22us/step - loss: 0.3776 - accuracy: 0.8932 - val_loss: 0.3926 - val_accuracy: 0.8794\n",
            "Epoch 27/100\n",
            "1789/1789 [==============================] - 0s 21us/step - loss: 0.3536 - accuracy: 0.8971 - val_loss: 0.3747 - val_accuracy: 0.8693\n",
            "Epoch 28/100\n",
            "1789/1789 [==============================] - 0s 24us/step - loss: 0.3316 - accuracy: 0.9083 - val_loss: 0.3511 - val_accuracy: 0.8794\n",
            "Epoch 29/100\n",
            "1789/1789 [==============================] - 0s 21us/step - loss: 0.3117 - accuracy: 0.9067 - val_loss: 0.3332 - val_accuracy: 0.8744\n",
            "Epoch 30/100\n",
            "1789/1789 [==============================] - 0s 21us/step - loss: 0.2940 - accuracy: 0.9173 - val_loss: 0.3220 - val_accuracy: 0.8794\n",
            "Epoch 31/100\n",
            "1789/1789 [==============================] - 0s 24us/step - loss: 0.2785 - accuracy: 0.9156 - val_loss: 0.3055 - val_accuracy: 0.8844\n",
            "Epoch 32/100\n",
            "1789/1789 [==============================] - 0s 21us/step - loss: 0.2650 - accuracy: 0.9212 - val_loss: 0.2940 - val_accuracy: 0.8844\n",
            "Epoch 33/100\n",
            "1789/1789 [==============================] - 0s 26us/step - loss: 0.2523 - accuracy: 0.9285 - val_loss: 0.2812 - val_accuracy: 0.8894\n",
            "Epoch 34/100\n",
            "1789/1789 [==============================] - 0s 22us/step - loss: 0.2412 - accuracy: 0.9285 - val_loss: 0.2735 - val_accuracy: 0.8995\n",
            "Epoch 35/100\n",
            "1789/1789 [==============================] - 0s 20us/step - loss: 0.2295 - accuracy: 0.9340 - val_loss: 0.2649 - val_accuracy: 0.9045\n",
            "Epoch 36/100\n",
            "1789/1789 [==============================] - 0s 20us/step - loss: 0.2198 - accuracy: 0.9374 - val_loss: 0.2547 - val_accuracy: 0.8995\n",
            "Epoch 37/100\n",
            "1789/1789 [==============================] - 0s 20us/step - loss: 0.2095 - accuracy: 0.9407 - val_loss: 0.2507 - val_accuracy: 0.9095\n",
            "Epoch 38/100\n",
            "1789/1789 [==============================] - 0s 21us/step - loss: 0.2016 - accuracy: 0.9447 - val_loss: 0.2418 - val_accuracy: 0.9045\n",
            "Epoch 39/100\n",
            "1789/1789 [==============================] - 0s 20us/step - loss: 0.1937 - accuracy: 0.9452 - val_loss: 0.2381 - val_accuracy: 0.9045\n",
            "Epoch 40/100\n",
            "1789/1789 [==============================] - 0s 21us/step - loss: 0.1861 - accuracy: 0.9503 - val_loss: 0.2301 - val_accuracy: 0.8995\n",
            "Epoch 41/100\n",
            "1789/1789 [==============================] - 0s 21us/step - loss: 0.1799 - accuracy: 0.9486 - val_loss: 0.2243 - val_accuracy: 0.9146\n",
            "Epoch 42/100\n",
            "1789/1789 [==============================] - 0s 20us/step - loss: 0.1726 - accuracy: 0.9536 - val_loss: 0.2212 - val_accuracy: 0.9095\n",
            "Epoch 43/100\n",
            "1789/1789 [==============================] - 0s 21us/step - loss: 0.1673 - accuracy: 0.9586 - val_loss: 0.2147 - val_accuracy: 0.8995\n",
            "Epoch 44/100\n",
            "1789/1789 [==============================] - 0s 20us/step - loss: 0.1634 - accuracy: 0.9542 - val_loss: 0.2095 - val_accuracy: 0.9196\n",
            "Epoch 45/100\n",
            "1789/1789 [==============================] - 0s 21us/step - loss: 0.1573 - accuracy: 0.9581 - val_loss: 0.2098 - val_accuracy: 0.9095\n",
            "Epoch 46/100\n",
            "1789/1789 [==============================] - 0s 25us/step - loss: 0.1521 - accuracy: 0.9581 - val_loss: 0.2028 - val_accuracy: 0.9146\n",
            "Epoch 47/100\n",
            "1789/1789 [==============================] - 0s 23us/step - loss: 0.1481 - accuracy: 0.9603 - val_loss: 0.1998 - val_accuracy: 0.9196\n",
            "Epoch 48/100\n",
            "1789/1789 [==============================] - 0s 20us/step - loss: 0.1432 - accuracy: 0.9581 - val_loss: 0.1999 - val_accuracy: 0.9246\n",
            "Epoch 49/100\n",
            "1789/1789 [==============================] - 0s 21us/step - loss: 0.1404 - accuracy: 0.9598 - val_loss: 0.1876 - val_accuracy: 0.9296\n",
            "Epoch 50/100\n",
            "1789/1789 [==============================] - 0s 20us/step - loss: 0.1351 - accuracy: 0.9631 - val_loss: 0.1891 - val_accuracy: 0.9246\n",
            "Epoch 51/100\n",
            "1789/1789 [==============================] - 0s 22us/step - loss: 0.1313 - accuracy: 0.9659 - val_loss: 0.1923 - val_accuracy: 0.9246\n",
            "Epoch 52/100\n",
            "1789/1789 [==============================] - 0s 23us/step - loss: 0.1288 - accuracy: 0.9659 - val_loss: 0.1803 - val_accuracy: 0.9397\n",
            "Epoch 53/100\n",
            "1789/1789 [==============================] - 0s 21us/step - loss: 0.1237 - accuracy: 0.9676 - val_loss: 0.1807 - val_accuracy: 0.9296\n",
            "Epoch 54/100\n",
            "1789/1789 [==============================] - 0s 20us/step - loss: 0.1208 - accuracy: 0.9659 - val_loss: 0.1837 - val_accuracy: 0.9347\n",
            "Epoch 55/100\n",
            "1789/1789 [==============================] - 0s 21us/step - loss: 0.1182 - accuracy: 0.9715 - val_loss: 0.1740 - val_accuracy: 0.9447\n",
            "Epoch 56/100\n",
            "1789/1789 [==============================] - 0s 22us/step - loss: 0.1149 - accuracy: 0.9704 - val_loss: 0.1839 - val_accuracy: 0.9296\n",
            "Epoch 57/100\n",
            "1789/1789 [==============================] - 0s 26us/step - loss: 0.1122 - accuracy: 0.9721 - val_loss: 0.1737 - val_accuracy: 0.9347\n",
            "Epoch 58/100\n",
            "1789/1789 [==============================] - 0s 21us/step - loss: 0.1083 - accuracy: 0.9732 - val_loss: 0.1719 - val_accuracy: 0.9397\n",
            "Epoch 59/100\n",
            "1789/1789 [==============================] - 0s 21us/step - loss: 0.1059 - accuracy: 0.9737 - val_loss: 0.1653 - val_accuracy: 0.9447\n",
            "Epoch 60/100\n",
            "1789/1789 [==============================] - 0s 21us/step - loss: 0.1027 - accuracy: 0.9748 - val_loss: 0.1657 - val_accuracy: 0.9347\n",
            "Epoch 61/100\n",
            "1789/1789 [==============================] - 0s 21us/step - loss: 0.1001 - accuracy: 0.9726 - val_loss: 0.1614 - val_accuracy: 0.9397\n",
            "Epoch 62/100\n",
            "1789/1789 [==============================] - 0s 21us/step - loss: 0.0977 - accuracy: 0.9771 - val_loss: 0.1618 - val_accuracy: 0.9347\n",
            "Epoch 63/100\n",
            "1789/1789 [==============================] - 0s 21us/step - loss: 0.0953 - accuracy: 0.9776 - val_loss: 0.1617 - val_accuracy: 0.9347\n",
            "Epoch 64/100\n",
            "1789/1789 [==============================] - 0s 21us/step - loss: 0.0936 - accuracy: 0.9765 - val_loss: 0.1611 - val_accuracy: 0.9397\n",
            "Epoch 65/100\n",
            "1789/1789 [==============================] - 0s 20us/step - loss: 0.0917 - accuracy: 0.9788 - val_loss: 0.1593 - val_accuracy: 0.9397\n",
            "Epoch 66/100\n",
            "1789/1789 [==============================] - 0s 21us/step - loss: 0.0891 - accuracy: 0.9793 - val_loss: 0.1549 - val_accuracy: 0.9397\n",
            "Epoch 67/100\n",
            "1789/1789 [==============================] - 0s 21us/step - loss: 0.0872 - accuracy: 0.9788 - val_loss: 0.1592 - val_accuracy: 0.9397\n",
            "Epoch 68/100\n",
            "1789/1789 [==============================] - 0s 22us/step - loss: 0.0851 - accuracy: 0.9799 - val_loss: 0.1493 - val_accuracy: 0.9397\n",
            "Epoch 69/100\n",
            "1789/1789 [==============================] - 0s 20us/step - loss: 0.0834 - accuracy: 0.9799 - val_loss: 0.1536 - val_accuracy: 0.9397\n",
            "Epoch 70/100\n",
            "1789/1789 [==============================] - 0s 21us/step - loss: 0.0817 - accuracy: 0.9799 - val_loss: 0.1526 - val_accuracy: 0.9397\n",
            "Epoch 71/100\n",
            "1789/1789 [==============================] - 0s 20us/step - loss: 0.0793 - accuracy: 0.9821 - val_loss: 0.1523 - val_accuracy: 0.9347\n",
            "Epoch 72/100\n",
            "1789/1789 [==============================] - 0s 21us/step - loss: 0.0772 - accuracy: 0.9843 - val_loss: 0.1516 - val_accuracy: 0.9397\n",
            "Epoch 73/100\n",
            "1789/1789 [==============================] - 0s 21us/step - loss: 0.0762 - accuracy: 0.9838 - val_loss: 0.1468 - val_accuracy: 0.9347\n",
            "Epoch 74/100\n",
            "1789/1789 [==============================] - 0s 27us/step - loss: 0.0765 - accuracy: 0.9821 - val_loss: 0.1502 - val_accuracy: 0.9397\n",
            "Epoch 75/100\n",
            "1789/1789 [==============================] - 0s 22us/step - loss: 0.0741 - accuracy: 0.9821 - val_loss: 0.1418 - val_accuracy: 0.9347\n",
            "Epoch 76/100\n",
            "1789/1789 [==============================] - 0s 20us/step - loss: 0.0720 - accuracy: 0.9821 - val_loss: 0.1486 - val_accuracy: 0.9397\n",
            "Epoch 77/100\n",
            "1789/1789 [==============================] - 0s 20us/step - loss: 0.0703 - accuracy: 0.9843 - val_loss: 0.1488 - val_accuracy: 0.9447\n",
            "Epoch 78/100\n",
            "1789/1789 [==============================] - 0s 21us/step - loss: 0.0699 - accuracy: 0.9838 - val_loss: 0.1503 - val_accuracy: 0.9347\n",
            "Epoch 79/100\n",
            "1789/1789 [==============================] - 0s 21us/step - loss: 0.0679 - accuracy: 0.9871 - val_loss: 0.1463 - val_accuracy: 0.9397\n",
            "Epoch 80/100\n",
            "1789/1789 [==============================] - 0s 21us/step - loss: 0.0665 - accuracy: 0.9855 - val_loss: 0.1475 - val_accuracy: 0.9296\n",
            "Epoch 81/100\n",
            "1789/1789 [==============================] - 0s 20us/step - loss: 0.0644 - accuracy: 0.9877 - val_loss: 0.1493 - val_accuracy: 0.9296\n",
            "Epoch 82/100\n",
            "1789/1789 [==============================] - 0s 24us/step - loss: 0.0639 - accuracy: 0.9866 - val_loss: 0.1426 - val_accuracy: 0.9397\n",
            "Epoch 83/100\n",
            "1789/1789 [==============================] - 0s 22us/step - loss: 0.0625 - accuracy: 0.9888 - val_loss: 0.1406 - val_accuracy: 0.9397\n",
            "Epoch 84/100\n",
            "1789/1789 [==============================] - 0s 22us/step - loss: 0.0617 - accuracy: 0.9888 - val_loss: 0.1500 - val_accuracy: 0.9397\n",
            "Epoch 85/100\n",
            "1789/1789 [==============================] - 0s 20us/step - loss: 0.0606 - accuracy: 0.9877 - val_loss: 0.1446 - val_accuracy: 0.9296\n",
            "Epoch 86/100\n",
            "1789/1789 [==============================] - 0s 21us/step - loss: 0.0604 - accuracy: 0.9877 - val_loss: 0.1443 - val_accuracy: 0.9397\n",
            "Epoch 87/100\n",
            "1789/1789 [==============================] - 0s 22us/step - loss: 0.0589 - accuracy: 0.9877 - val_loss: 0.1510 - val_accuracy: 0.9347\n",
            "Epoch 88/100\n",
            "1789/1789 [==============================] - 0s 21us/step - loss: 0.0583 - accuracy: 0.9877 - val_loss: 0.1476 - val_accuracy: 0.9347\n",
            "Epoch 89/100\n",
            "1789/1789 [==============================] - 0s 21us/step - loss: 0.0566 - accuracy: 0.9888 - val_loss: 0.1449 - val_accuracy: 0.9296\n",
            "Epoch 90/100\n",
            "1789/1789 [==============================] - 0s 22us/step - loss: 0.0560 - accuracy: 0.9888 - val_loss: 0.1468 - val_accuracy: 0.9347\n",
            "Epoch 91/100\n",
            "1789/1789 [==============================] - 0s 22us/step - loss: 0.0540 - accuracy: 0.9894 - val_loss: 0.1458 - val_accuracy: 0.9296\n",
            "Epoch 92/100\n",
            "1789/1789 [==============================] - 0s 21us/step - loss: 0.0536 - accuracy: 0.9894 - val_loss: 0.1455 - val_accuracy: 0.9296\n",
            "Epoch 93/100\n",
            "1789/1789 [==============================] - 0s 21us/step - loss: 0.0532 - accuracy: 0.9894 - val_loss: 0.1506 - val_accuracy: 0.9296\n",
            "Epoch 94/100\n",
            "1789/1789 [==============================] - 0s 22us/step - loss: 0.0524 - accuracy: 0.9899 - val_loss: 0.1458 - val_accuracy: 0.9347\n",
            "Epoch 95/100\n",
            "1789/1789 [==============================] - 0s 21us/step - loss: 0.0514 - accuracy: 0.9894 - val_loss: 0.1423 - val_accuracy: 0.9296\n",
            "Epoch 96/100\n",
            "1789/1789 [==============================] - 0s 21us/step - loss: 0.0513 - accuracy: 0.9905 - val_loss: 0.1449 - val_accuracy: 0.9296\n",
            "Epoch 97/100\n",
            "1789/1789 [==============================] - 0s 23us/step - loss: 0.0496 - accuracy: 0.9899 - val_loss: 0.1457 - val_accuracy: 0.9296\n",
            "Epoch 98/100\n",
            "1789/1789 [==============================] - 0s 21us/step - loss: 0.0487 - accuracy: 0.9905 - val_loss: 0.1469 - val_accuracy: 0.9296\n",
            "Epoch 99/100\n",
            "1789/1789 [==============================] - 0s 20us/step - loss: 0.0475 - accuracy: 0.9927 - val_loss: 0.1455 - val_accuracy: 0.9296\n",
            "Epoch 100/100\n",
            "1789/1789 [==============================] - 0s 20us/step - loss: 0.0478 - accuracy: 0.9922 - val_loss: 0.1549 - val_accuracy: 0.9347\n"
          ],
          "name": "stdout"
        }
      ]
    },
    {
      "cell_type": "markdown",
      "metadata": {
        "id": "tsXP_8szDFoM",
        "colab_type": "text"
      },
      "source": [
        "**Look at the optimized weights!**"
      ]
    },
    {
      "cell_type": "code",
      "metadata": {
        "id": "bfrpjTZ4DKBV",
        "colab_type": "code",
        "colab": {
          "base_uri": "https://localhost:8080/",
          "height": 1000
        },
        "outputId": "741a1c6b-a35c-46c4-8048-ee10ceea324a"
      },
      "source": [
        "for layer in model.layers: \n",
        "  print(layer.get_config(), layer.get_weights())"
      ],
      "execution_count": 24,
      "outputs": [
        {
          "output_type": "stream",
          "text": [
            "{'name': 'dense_1', 'trainable': True, 'batch_input_shape': (None, 20), 'dtype': 'float32', 'units': 12, 'activation': 'relu', 'use_bias': True, 'kernel_initializer': {'class_name': 'VarianceScaling', 'config': {'scale': 1.0, 'mode': 'fan_avg', 'distribution': 'uniform', 'seed': None}}, 'bias_initializer': {'class_name': 'Zeros', 'config': {}}, 'kernel_regularizer': None, 'bias_regularizer': None, 'activity_regularizer': None, 'kernel_constraint': None, 'bias_constraint': None} [array([[-2.57333010e-01,  3.72838050e-01, -2.22388759e-01,\n",
            "        -4.10616189e-01,  1.60077587e-01, -3.45786154e-01,\n",
            "         2.51053631e-01, -6.34035230e-01,  1.15258247e-01,\n",
            "         2.83200145e-01, -4.08184268e-02,  2.39075087e-02],\n",
            "       [ 8.57278481e-02, -7.75721371e-02, -1.33658305e-01,\n",
            "         2.79652923e-01, -4.78234813e-02, -3.71367931e-02,\n",
            "         7.49805057e-03, -1.67450756e-01, -4.20157582e-01,\n",
            "         1.72417626e-01, -1.20007358e-01,  6.90420195e-02],\n",
            "       [ 5.42302877e-02, -1.06441692e-01,  4.49607849e-01,\n",
            "         7.08631873e-02, -1.00753181e-01, -6.21687733e-02,\n",
            "         1.34558231e-01, -3.28748405e-01, -1.69533312e-01,\n",
            "        -2.77168274e-01, -1.89680219e-01, -4.13937390e-01],\n",
            "       [ 4.37297463e-01, -2.29230493e-01, -6.08826540e-02,\n",
            "        -8.64220434e-04,  1.02869287e-01, -1.60658717e-01,\n",
            "        -3.11138015e-02,  7.19762370e-02, -3.77409220e-01,\n",
            "         3.91080737e-01, -1.22674249e-01, -1.69336662e-01],\n",
            "       [-1.25444412e-01, -2.47741211e-02, -6.82699382e-02,\n",
            "         6.13376452e-03,  7.78572336e-02, -6.73161298e-02,\n",
            "        -6.01010434e-02,  5.48652299e-02,  1.03365749e-01,\n",
            "        -1.10489778e-01,  3.16082418e-01,  5.44705838e-02],\n",
            "       [ 1.48347035e-01, -2.06232648e-02,  2.52789184e-02,\n",
            "         4.27415967e-01,  6.96888193e-02, -6.33865744e-02,\n",
            "         2.56341010e-01, -2.78055102e-01,  1.88965097e-01,\n",
            "        -1.29908919e-01,  6.67233050e-01,  1.59072146e-01],\n",
            "       [ 1.23861685e-01, -3.71939868e-01, -1.88016474e-01,\n",
            "        -2.41896465e-01, -7.68813863e-02,  1.17040545e-01,\n",
            "         2.90554702e-01, -2.26011589e-01,  4.80833709e-01,\n",
            "        -4.90401201e-02,  1.12635247e-01, -6.62907064e-02],\n",
            "       [ 1.17295096e-02, -4.14437875e-02,  1.48689061e-01,\n",
            "        -2.08165869e-01,  1.72194291e-03,  2.59666867e-03,\n",
            "         1.53883293e-01, -4.09116074e-02,  1.69982627e-01,\n",
            "        -2.03954875e-01,  1.56172439e-01,  3.74073200e-02],\n",
            "       [-1.51017243e-02,  9.52709094e-02, -8.14164281e-02,\n",
            "         9.01448429e-02, -1.37825310e-01,  2.38040954e-01,\n",
            "         2.24531014e-02,  4.00234200e-02,  1.17498189e-01,\n",
            "         4.04601961e-01,  5.64697273e-02,  2.34668627e-01],\n",
            "       [ 2.51496583e-01, -1.07442573e-01, -1.84709691e-02,\n",
            "         4.78112459e-01,  1.02609687e-01, -3.32533345e-02,\n",
            "         1.10199273e-01, -2.00785492e-02,  3.37236468e-03,\n",
            "        -2.82522321e-01, -4.07482162e-02, -2.60389686e-01],\n",
            "       [-1.62185907e-01, -3.19952033e-02, -1.59608245e-01,\n",
            "         2.29134038e-01, -2.87718356e-01,  9.46296006e-02,\n",
            "        -6.07675985e-02, -4.62157428e-01,  1.29990652e-01,\n",
            "         3.43892753e-01, -1.51876897e-01, -6.74340650e-02],\n",
            "       [-4.52125907e-01,  2.69535780e-01, -5.02129048e-02,\n",
            "        -5.01913667e-01,  1.34168610e-01, -1.90736622e-01,\n",
            "         1.06118262e-01, -1.98287457e-01,  6.12388477e-02,\n",
            "        -6.45260438e-02, -1.04227982e-01, -4.93157133e-02],\n",
            "       [-1.29585236e-01, -4.90849726e-02, -1.56937703e-01,\n",
            "        -6.18261576e-01,  6.81402832e-02, -1.00553811e-01,\n",
            "         2.07146689e-01,  2.18502432e-02,  3.78360391e-01,\n",
            "         1.54962733e-01, -3.29240531e-01, -3.17297637e-01],\n",
            "       [-1.04194236e+00,  1.37714958e+00, -9.31453526e-01,\n",
            "        -8.63634825e-01,  9.91425693e-01, -1.11063063e+00,\n",
            "         1.10778093e+00, -7.85686851e-01,  5.41661084e-01,\n",
            "         7.49497175e-01, -1.23203695e+00, -9.24673200e-01],\n",
            "       [-3.46674994e-02,  3.45643014e-01,  5.47119640e-02,\n",
            "        -4.05159980e-01, -1.26605004e-01,  8.23146477e-02,\n",
            "        -3.52217145e-02,  1.80432588e-01, -2.32930705e-02,\n",
            "         1.37668893e-01, -8.63789469e-02,  9.77626294e-02],\n",
            "       [-1.78672284e-01,  6.45903647e-02,  1.55626938e-01,\n",
            "         3.04536134e-01, -1.59754530e-01,  3.61297578e-02,\n",
            "         2.71721303e-01, -3.77532333e-01, -4.57596719e-01,\n",
            "        -2.17748612e-01,  1.76714540e-01, -1.37924524e-02],\n",
            "       [ 1.48276448e-01, -1.74653769e-01, -3.20264734e-02,\n",
            "        -1.90699905e-01,  2.44744167e-01,  1.35257468e-01,\n",
            "         3.68857314e-03,  1.02517858e-01, -3.01724346e-03,\n",
            "        -7.00176582e-02,  1.41093999e-01, -2.62797564e-01],\n",
            "       [ 5.27965873e-02, -4.78308983e-02, -8.20512250e-02,\n",
            "        -2.20121711e-01,  1.15058295e-01,  6.80059716e-02,\n",
            "        -2.52784491e-01,  9.74170119e-02,  3.61088306e-01,\n",
            "        -6.07551523e-02, -1.98837131e-01, -2.41645738e-01],\n",
            "       [ 8.71580541e-02, -1.78138614e-01, -1.34701341e-01,\n",
            "         1.05113357e-01, -7.10716620e-02, -2.66006321e-01,\n",
            "        -8.65362212e-02,  1.46896601e-01, -4.93227830e-03,\n",
            "         2.12840736e-01,  1.74529701e-01, -2.59266626e-02],\n",
            "       [-1.81885049e-01, -2.60836720e-01, -1.68351471e-01,\n",
            "         3.17179024e-01,  2.28210852e-01, -1.36107147e-01,\n",
            "        -2.02661276e-01,  2.41890922e-01, -1.94040686e-01,\n",
            "        -3.56863141e-01,  1.65214255e-01, -2.38847181e-01]], dtype=float32), array([0.1352023 , 0.7429057 , 1.1379699 , 0.76246494, 1.2983314 ,\n",
            "       1.0961738 , 1.040671  , 0.6131102 , 0.24180362, 0.45958266,\n",
            "       0.22012907, 1.1604344 ], dtype=float32)]\n",
            "{'name': 'dense_2', 'trainable': True, 'dtype': 'float32', 'units': 12, 'activation': 'relu', 'use_bias': True, 'kernel_initializer': {'class_name': 'VarianceScaling', 'config': {'scale': 1.0, 'mode': 'fan_avg', 'distribution': 'uniform', 'seed': None}}, 'bias_initializer': {'class_name': 'Zeros', 'config': {}}, 'kernel_regularizer': None, 'bias_regularizer': None, 'activity_regularizer': None, 'kernel_constraint': None, 'bias_constraint': None} [array([[-0.23899089,  0.09587281, -0.33311978,  0.11573055, -0.42459127,\n",
            "         0.6205498 ,  0.66930926,  0.06730386, -0.79110503,  0.01947726,\n",
            "         0.5903494 ,  0.4977631 ],\n",
            "       [-0.27280265, -0.5542864 ,  1.0063578 , -1.0453175 , -0.15091488,\n",
            "        -0.36317584, -0.48210797, -1.1423026 ,  0.05719751, -0.14069653,\n",
            "        -0.64431274, -0.8233799 ],\n",
            "       [ 0.6895186 ,  0.08737627,  0.43385786,  0.74962336,  0.18861446,\n",
            "         0.79470813,  0.46910053,  0.37575918, -0.3859359 , -0.3433079 ,\n",
            "         0.5516644 ,  1.0458728 ],\n",
            "       [ 0.24355446, -0.00489719,  0.5909392 ,  0.3166495 , -0.5604534 ,\n",
            "         0.22608566,  0.00774841,  0.26375332, -0.45150706,  0.73219925,\n",
            "         0.2333503 ,  0.58480984],\n",
            "       [-0.02839631, -0.75539684,  1.6756278 , -0.76038265,  0.56178606,\n",
            "         0.19679128, -0.30443478, -1.1950736 , -0.6782014 , -0.16565526,\n",
            "        -0.75291055,  0.0908199 ],\n",
            "       [ 0.7811709 ,  0.4008211 , -0.46593824,  1.0248662 ,  0.02565192,\n",
            "         0.8937747 ,  0.64530253,  0.6707979 , -0.10176237,  0.6715044 ,\n",
            "         0.6858845 ,  0.60179716],\n",
            "       [-0.29913905, -0.60525805,  1.5992092 , -0.40803882,  0.4798512 ,\n",
            "        -0.3398232 , -0.72754705, -1.5206023 ,  0.09165988,  0.19401145,\n",
            "        -0.64293367, -0.26860896],\n",
            "       [ 0.20341696,  0.41030458,  0.00731033,  0.85250765,  0.47532588,\n",
            "         0.31777397,  0.22300735,  0.2159652 ,  0.32099316,  0.16631933,\n",
            "         0.7045305 ,  0.60493326],\n",
            "       [ 0.07449029, -0.6584374 ,  0.80876285, -0.4349763 ,  0.02239783,\n",
            "        -0.10005888,  0.2256436 , -0.35223982,  0.4618252 , -0.06331253,\n",
            "        -0.22729854, -0.0423144 ],\n",
            "       [-0.09453596, -0.04208845,  0.9325144 ,  0.07197906,  0.5591064 ,\n",
            "         0.02652197, -0.33486044, -0.38259688,  0.20035838, -0.11620128,\n",
            "        -0.45301402,  0.33329725],\n",
            "       [-0.15564625,  0.17612398, -0.18469873,  0.554816  , -0.23798153,\n",
            "        -0.01264015,  0.24040334,  0.09296425,  0.11754115,  0.37787458,\n",
            "         0.53198564,  0.41478142],\n",
            "       [ 0.67749393, -0.01068413,  0.24537002,  0.34424868,  0.57442325,\n",
            "         0.60840285,  0.5642904 ,  0.4320206 ,  0.56025255,  0.08395838,\n",
            "         0.6970067 ,  0.87934655]], dtype=float32), array([ 0.8574371 , -0.4411715 ,  0.90809065, -0.20505367,  0.5685903 ,\n",
            "        0.3709273 , -0.07508832, -0.5570228 , -0.16036789,  0.531147  ,\n",
            "       -0.02897927,  0.64136195], dtype=float32)]\n",
            "{'name': 'dense_3', 'trainable': True, 'dtype': 'float32', 'units': 4, 'activation': 'softmax', 'use_bias': True, 'kernel_initializer': {'class_name': 'VarianceScaling', 'config': {'scale': 1.0, 'mode': 'fan_avg', 'distribution': 'uniform', 'seed': None}}, 'bias_initializer': {'class_name': 'Zeros', 'config': {}}, 'kernel_regularizer': None, 'bias_regularizer': None, 'activity_regularizer': None, 'kernel_constraint': None, 'bias_constraint': None} [array([[-0.3099287 ,  0.88235134,  0.8471095 , -1.9257227 ],\n",
            "       [ 1.1239659 , -0.9248467 ,  0.31447175,  0.02416789],\n",
            "       [-1.3740814 , -0.5631363 , -0.04303417,  0.6202937 ],\n",
            "       [ 0.9867022 ,  0.44004062, -1.2000285 , -0.12897643],\n",
            "       [-1.0806284 , -0.20778042,  0.61052877,  0.01556868],\n",
            "       [ 0.38754955, -0.0202178 ,  0.20285338, -1.8177425 ],\n",
            "       [ 0.8875611 ,  0.24985597, -1.0372115 ,  0.37856033],\n",
            "       [ 0.49592647, -1.0003453 , -0.94972295,  0.03813432],\n",
            "       [-0.1874808 ,  0.27612498,  0.08875117, -0.25246   ],\n",
            "       [-0.39981145,  0.10715468,  0.787137  , -0.76753104],\n",
            "       [ 1.1314825 ,  0.28662327, -1.777031  , -0.56478566],\n",
            "       [ 0.2077247 ,  0.73498636,  0.01058699, -1.4286559 ]],\n",
            "      dtype=float32), array([-0.67587775,  0.05679683,  0.3590919 ,  0.27770132], dtype=float32)]\n"
          ],
          "name": "stdout"
        }
      ]
    },
    {
      "cell_type": "markdown",
      "metadata": {
        "id": "EERbv8ArfblG",
        "colab_type": "text"
      },
      "source": [
        "Inverse One Hot Encoding"
      ]
    },
    {
      "cell_type": "code",
      "metadata": {
        "id": "F9drz13YT6jG",
        "colab_type": "code",
        "colab": {}
      },
      "source": [
        "y_pred = model.predict(X_test)\n",
        "#Converting predictions to label\n",
        "pred = list()\n",
        "for i in range(len(y_pred)):\n",
        "    pred.append(np.argmax(y_pred[i]))\n",
        "#Converting one hot encoded test label to label\n",
        "test = list()\n",
        "for i in range(len(y_test)):\n",
        "    test.append(np.argmax(y_test[i]))"
      ],
      "execution_count": 25,
      "outputs": []
    },
    {
      "cell_type": "code",
      "metadata": {
        "id": "wDe4-H4KUCxK",
        "colab_type": "code",
        "colab": {
          "base_uri": "https://localhost:8080/",
          "height": 34
        },
        "outputId": "2825d745-108e-44aa-894c-e39b32a560f5"
      },
      "source": [
        "from sklearn.metrics import accuracy_score\n",
        "a = accuracy_score(pred,test)\n",
        "print('Accuracy:', a*100)"
      ],
      "execution_count": 26,
      "outputs": [
        {
          "output_type": "stream",
          "text": [
            "Accuracy: 93.46733668341709\n"
          ],
          "name": "stdout"
        }
      ]
    },
    {
      "cell_type": "code",
      "metadata": {
        "id": "sRNWcMdQhplP",
        "colab_type": "code",
        "colab": {
          "base_uri": "https://localhost:8080/",
          "height": 295
        },
        "outputId": "c1ccee36-af7c-4d6c-f0cb-02bf2f620cf2"
      },
      "source": [
        "plt.plot(history.history['accuracy'])\n",
        "plt.plot(history.history['val_accuracy'])\n",
        "plt.title('Model accuracy')\n",
        "plt.ylabel('Accuracy')\n",
        "plt.xlabel('Epoch')\n",
        "plt.legend(['Train', 'Test'], loc='upper left')\n",
        "plt.show()"
      ],
      "execution_count": 27,
      "outputs": [
        {
          "output_type": "display_data",
          "data": {
            "image/png": "[encoded data removed]",
            "text/plain": [
              "<Figure size 432x288 with 1 Axes>"
            ]
          },
          "metadata": {
            "tags": [],
            "needs_background": "light"
          }
        }
      ]
    },
    {
      "cell_type": "code",
      "metadata": {
        "id": "meH8qY29h3Lv",
        "colab_type": "code",
        "colab": {
          "base_uri": "https://localhost:8080/",
          "height": 295
        },
        "outputId": "dba65ff5-cd81-4082-ee63-81274eb37610"
      },
      "source": [
        "plt.plot(history.history['loss']) \n",
        "plt.plot(history.history['val_loss']) \n",
        "plt.title('Model loss') \n",
        "plt.ylabel('Loss') \n",
        "plt.xlabel('Epoch') \n",
        "plt.legend(['Train', 'Test'], loc='upper left') \n",
        "plt.show()"
      ],
      "execution_count": 28,
      "outputs": [
        {
          "output_type": "display_data",
          "data": {
            "image/png": "[encoded data removed]",
            "text/plain": [
              "<Figure size 432x288 with 1 Axes>"
            ]
          },
          "metadata": {
            "tags": [],
            "needs_background": "light"
          }
        }
      ]
    },
    {
      "cell_type": "markdown",
      "metadata": {
        "id": "cyoh6Oi6_ta0",
        "colab_type": "text"
      },
      "source": [
        "Confusion Matrix"
      ]
    },
    {
      "cell_type": "code",
      "metadata": {
        "id": "gfuo8TV5VWiS",
        "colab_type": "code",
        "colab": {
          "base_uri": "https://localhost:8080/",
          "height": 279
        },
        "outputId": "e4780cfd-b2fd-40fc-b80d-cbcbd5c86816"
      },
      "source": [
        "from sklearn.metrics import confusion_matrix\n",
        "cf_matrix = confusion_matrix(test, pred)\n",
        "ax = sns.heatmap(cf_matrix/np.sum(cf_matrix), annot=True, fmt='.2%')\n",
        "ax.set(xlabel='Actual', ylabel='Predicted')\n",
        "plt.show()"
      ],
      "execution_count": 29,
      "outputs": [
        {
          "output_type": "display_data",
          "data": {
            "image/png": "[encoded data removed]",
            "text/plain": [
              "<Figure size 432x288 with 2 Axes>"
            ]
          },
          "metadata": {
            "tags": [],
            "needs_background": "light"
          }
        }
      ]
    },
    {
      "cell_type": "code",
      "metadata": {
        "id": "V0efWtdkM0Cl",
        "colab_type": "code",
        "colab": {
          "base_uri": "https://localhost:8080/",
          "height": 331
        },
        "outputId": "1b13523a-b3d8-4343-f49c-4f5c6a6c76c9"
      },
      "source": [
        "corr = dataset.corr()\n",
        "ax = sns.heatmap(\n",
        "    corr, \n",
        "    vmin=-1, vmax=1, center=0,\n",
        "    cmap=sns.diverging_palette(20, 220)\n",
        ")\n",
        "ax.set_xticklabels(\n",
        "    ax.get_xticklabels(),\n",
        "    rotation=90\n",
        ");"
      ],
      "execution_count": 30,
      "outputs": [
        {
          "output_type": "display_data",
          "data": {
            "image/png": "[encoded data removed]",
            "text/plain": [
              "<Figure size 432x288 with 2 Axes>"
            ]
          },
          "metadata": {
            "tags": [],
            "needs_background": "light"
          }
        }
      ]
    },
    {
      "cell_type": "code",
      "metadata": {
        "id": "4hJ0LtZCiblq",
        "colab_type": "code",
        "colab": {
          "base_uri": "https://localhost:8080/",
          "height": 67
        },
        "outputId": "56db42e8-dc9c-475b-ba7d-93dc88a88128"
      },
      "source": [
        "Xnew = np.array([[1456,0,1.6,1,5,0,49,0.2,193,3,20,1285,1427,3624,12,11,16,1,1,0]])\n",
        "ynew = model.predict_classes(Xnew)\n",
        "print(\"X=%s, Predicted=%s\" % (Xnew[0], ynew[0])) "
      ],
      "execution_count": 31,
      "outputs": [
        {
          "output_type": "stream",
          "text": [
            "X=[1.456e+03 0.000e+00 1.600e+00 1.000e+00 5.000e+00 0.000e+00 4.900e+01\n",
            " 2.000e-01 1.930e+02 3.000e+00 2.000e+01 1.285e+03 1.427e+03 3.624e+03\n",
            " 1.200e+01 1.100e+01 1.600e+01 1.000e+00 1.000e+00 0.000e+00], Predicted=3\n"
          ],
          "name": "stdout"
        }
      ]
    },
    {
      "cell_type": "code",
      "metadata": {
        "id": "KCK5Ulu8C4Xp",
        "colab_type": "code",
        "colab": {}
      },
      "source": [
        ""
      ],
      "execution_count": 31,
      "outputs": []
    }
  ]
}